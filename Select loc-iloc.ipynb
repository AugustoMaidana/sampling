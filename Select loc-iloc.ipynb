{
    "cells": [
        {
            "cell_type": "markdown",
            "source": [
                "# Select Rows & Columns by Name or Index in DataFrame using loc & iloc | Python Pandas\r\n",
                "\r\n",
                "Source: [Website](https://thispointer.com/select-rows-columns-by-name-or-index-in-dataframe-using-loc-iloc-python-pandas/)\r\n",
                "\r\n",
                "In this article we will discuss different ways to select rows and columns in DataFrame.\r\n",
                "\r\n",
                "DataFrame provides indexing labels loc & iloc for accessing the column and rows. Also, operator [ ] can be used to select columns. Let’s discuss them one by one.\r\n",
                "\r\n",
                "First create a DataFrame object i.e."
            ],
            "metadata": {}
        },
        {
            "cell_type": "code",
            "execution_count": 1,
            "source": [
                "# Loading the libraries\r\n",
                "import numpy as np\r\n",
                "import pandas as pd"
            ],
            "outputs": [],
            "metadata": {}
        },
        {
            "cell_type": "code",
            "execution_count": 2,
            "source": [
                "students = [ ('jack', 34, 'Sydeny') ,\r\n",
                "             ('Riti', 30, 'Delhi' ) ,\r\n",
                "             ('Aadi', 16, 'New York') ]\r\n",
                "# Create a DataFrame object\r\n",
                "dfObj = pd.DataFrame(students, columns = ['Name' , 'Age', 'City'], index=['a', 'b', 'c'])\r\n",
                "# Contents of DataFrame object dfObj are:\r\n",
                "dfObj"
            ],
            "outputs": [
                {
                    "output_type": "execute_result",
                    "data": {
                        "text/plain": [
                            "   Name  Age      City\n",
                            "a  jack   34    Sydeny\n",
                            "b  Riti   30     Delhi\n",
                            "c  Aadi   16  New York"
                        ],
                        "text/html": "<div>\n<style scoped>\n    .dataframe tbody tr th:only-of-type {\n        vertical-align: middle;\n    }\n\n    .dataframe tbody tr th {\n        vertical-align: top;\n    }\n\n    .dataframe thead th {\n        text-align: right;\n    }\n</style>\n<table border=\"1\" class=\"dataframe\">\n  <thead>\n    <tr style=\"text-align: right;\">\n      <th></th>\n      <th>Name</th>\n      <th>Age</th>\n      <th>City</th>\n    </tr>\n  </thead>\n  <tbody>\n    <tr>\n      <th>a</th>\n      <td>jack</td>\n      <td>34</td>\n      <td>Sydeny</td>\n    </tr>\n    <tr>\n      <th>b</th>\n      <td>Riti</td>\n      <td>30</td>\n      <td>Delhi</td>\n    </tr>\n    <tr>\n      <th>c</th>\n      <td>Aadi</td>\n      <td>16</td>\n      <td>New York</td>\n    </tr>\n  </tbody>\n</table>\n</div>"
                    },
                    "metadata": {},
                    "execution_count": 2
                }
            ],
            "metadata": {}
        },
        {
            "cell_type": "markdown",
            "source": [
                "## DataFrame.loc | Select Column & Rows by Name\r\n",
                "\r\n",
                "DataFrame provides indexing label loc for selecting columns and rows by names i.e.\r\n",
                "\r\n",
                ">dataFrame.loc[\\<ROWS RANGE\\> , \\<COLUMNS RANGE\\>]\r\n",
                "\r\n",
                "It selects the specified columns and rows from the given DataFrame.\r\n",
                "ROWS OR COLUMN RANGE can be also be ‘:’  and if given in rows or column Range parameter then the all entries will be included for corresponding row or column.\r\n",
                "Let’s see how to use it:\r\n",
                "\r\n",
                "- Select a Column by Name in DataFrame using loc[ ]\r\n",
                "\r\n",
                "As we want selection on column only, it means all rows should be included for selected column i.e."
            ],
            "metadata": {}
        },
        {
            "cell_type": "code",
            "execution_count": 3,
            "source": [
                "# Selecting a Single Column by Column Names\r\n",
                "columnsData = dfObj.loc[ : , 'Age' ]\r\n",
                "# It will return a Series object with same indexes as DataFrame.\r\n",
                "columnsData"
            ],
            "outputs": [
                {
                    "output_type": "execute_result",
                    "data": {
                        "text/plain": [
                            "a    34\n",
                            "b    30\n",
                            "c    16\n",
                            "Name: Age, dtype: int64"
                        ]
                    },
                    "metadata": {},
                    "execution_count": 3
                }
            ],
            "metadata": {}
        },
        {
            "cell_type": "markdown",
            "source": [
                "- Select multiple Columns by Name in DataFrame using loc[ ]\r\n",
                "\r\n",
                "Pass column names as list:"
            ],
            "metadata": {}
        },
        {
            "cell_type": "code",
            "execution_count": 4,
            "source": [
                "# Select only 2 columns from dataFrame and create a new subset DataFrame\r\n",
                "columnsData = dfObj.loc[ : , ['Age', 'Name'] ]\r\n",
                "# It will return a subset DataFrame with same indexes but selected columns only i.e.\r\n",
                "columnsData"
            ],
            "outputs": [
                {
                    "output_type": "execute_result",
                    "data": {
                        "text/plain": [
                            "   Age  Name\n",
                            "a   34  jack\n",
                            "b   30  Riti\n",
                            "c   16  Aadi"
                        ],
                        "text/html": "<div>\n<style scoped>\n    .dataframe tbody tr th:only-of-type {\n        vertical-align: middle;\n    }\n\n    .dataframe tbody tr th {\n        vertical-align: top;\n    }\n\n    .dataframe thead th {\n        text-align: right;\n    }\n</style>\n<table border=\"1\" class=\"dataframe\">\n  <thead>\n    <tr style=\"text-align: right;\">\n      <th></th>\n      <th>Age</th>\n      <th>Name</th>\n    </tr>\n  </thead>\n  <tbody>\n    <tr>\n      <th>a</th>\n      <td>34</td>\n      <td>jack</td>\n    </tr>\n    <tr>\n      <th>b</th>\n      <td>30</td>\n      <td>Riti</td>\n    </tr>\n    <tr>\n      <th>c</th>\n      <td>16</td>\n      <td>Aadi</td>\n    </tr>\n  </tbody>\n</table>\n</div>"
                    },
                    "metadata": {},
                    "execution_count": 4
                }
            ],
            "metadata": {}
        },
        {
            "cell_type": "markdown",
            "source": [
                "- Select a single row by Index Label in DataFrame using loc[ ]\r\n",
                "\r\n",
                "Now we will pass argument ‘:’ in Column range of loc, so that all columns should be included. But for Row Indexes we will pass a label only:"
            ],
            "metadata": {}
        },
        {
            "cell_type": "code",
            "execution_count": 5,
            "source": [
                "rowData = dfObj.loc[ 'b' , : ]\r\n",
                "# It will return a series object with same indexes equal to DataFrame columns names i.e.\r\n",
                "rowData"
            ],
            "outputs": [
                {
                    "output_type": "execute_result",
                    "data": {
                        "text/plain": [
                            "Name     Riti\n",
                            "Age        30\n",
                            "City    Delhi\n",
                            "Name: b, dtype: object"
                        ]
                    },
                    "metadata": {},
                    "execution_count": 5
                }
            ],
            "metadata": {}
        },
        {
            "cell_type": "markdown",
            "source": [
                "- Select multiple rows by Index labels in DataFrame using loc[ ]\r\n",
                "\r\n",
                "Pass row index labels as list:"
            ],
            "metadata": {}
        },
        {
            "cell_type": "code",
            "execution_count": 6,
            "source": [
                "rowData = dfObj.loc[ ['c' , 'b'] , : ]\r\n",
                "# It will return a subset DataFrame with same columns as DataFrame but selected indexes only i.e.\r\n",
                "rowData"
            ],
            "outputs": [
                {
                    "output_type": "execute_result",
                    "data": {
                        "text/plain": [
                            "   Name  Age      City\n",
                            "c  Aadi   16  New York\n",
                            "b  Riti   30     Delhi"
                        ],
                        "text/html": "<div>\n<style scoped>\n    .dataframe tbody tr th:only-of-type {\n        vertical-align: middle;\n    }\n\n    .dataframe tbody tr th {\n        vertical-align: top;\n    }\n\n    .dataframe thead th {\n        text-align: right;\n    }\n</style>\n<table border=\"1\" class=\"dataframe\">\n  <thead>\n    <tr style=\"text-align: right;\">\n      <th></th>\n      <th>Name</th>\n      <th>Age</th>\n      <th>City</th>\n    </tr>\n  </thead>\n  <tbody>\n    <tr>\n      <th>c</th>\n      <td>Aadi</td>\n      <td>16</td>\n      <td>New York</td>\n    </tr>\n    <tr>\n      <th>b</th>\n      <td>Riti</td>\n      <td>30</td>\n      <td>Delhi</td>\n    </tr>\n  </tbody>\n</table>\n</div>"
                    },
                    "metadata": {},
                    "execution_count": 6
                }
            ],
            "metadata": {}
        },
        {
            "cell_type": "markdown",
            "source": [
                "Only Rows with index label ‘b’ & ‘c’ are in returned DataFrame object.\r\n",
                "\r\n",
                "- Select multiple row & columns by Labels in DataFrame using loc[ ]\r\n",
                "\r\n",
                "To select multiple rows & column, pass lists containing index labels and column names i.e."
            ],
            "metadata": {}
        },
        {
            "cell_type": "code",
            "execution_count": 7,
            "source": [
                "subset = dfObj.loc[ ['c' , 'b'] ,['Age', 'Name'] ]\r\n",
                "# It will return a subset DataFrame with given rows and columns i.e.\r\n",
                "subset"
            ],
            "outputs": [
                {
                    "output_type": "execute_result",
                    "data": {
                        "text/plain": [
                            "   Age  Name\n",
                            "c   16  Aadi\n",
                            "b   30  Riti"
                        ],
                        "text/html": "<div>\n<style scoped>\n    .dataframe tbody tr th:only-of-type {\n        vertical-align: middle;\n    }\n\n    .dataframe tbody tr th {\n        vertical-align: top;\n    }\n\n    .dataframe thead th {\n        text-align: right;\n    }\n</style>\n<table border=\"1\" class=\"dataframe\">\n  <thead>\n    <tr style=\"text-align: right;\">\n      <th></th>\n      <th>Age</th>\n      <th>Name</th>\n    </tr>\n  </thead>\n  <tbody>\n    <tr>\n      <th>c</th>\n      <td>16</td>\n      <td>Aadi</td>\n    </tr>\n    <tr>\n      <th>b</th>\n      <td>30</td>\n      <td>Riti</td>\n    </tr>\n  </tbody>\n</table>\n</div>"
                    },
                    "metadata": {},
                    "execution_count": 7
                }
            ],
            "metadata": {}
        },
        {
            "cell_type": "markdown",
            "source": [
                "Only Rows with index label ‘b’ & ‘c’ and Columns with names ‘Age’, ‘Name’ are in returned DataFrame object.\r\n",
                "\r\n",
                "Instead of passing all the names in index or column list we can pass range also i.e"
            ],
            "metadata": {}
        },
        {
            "cell_type": "code",
            "execution_count": 8,
            "source": [
                "subset = dfObj.loc[ 'a' : 'c' ,'Age' : 'City' ]\r\n",
                "# It will return a subset DataFrame with rows from 'a' to 'c' & columns from 'Age' to 'City' i.e.\r\n",
                "subset"
            ],
            "outputs": [
                {
                    "output_type": "execute_result",
                    "data": {
                        "text/plain": [
                            "   Age      City\n",
                            "a   34    Sydeny\n",
                            "b   30     Delhi\n",
                            "c   16  New York"
                        ],
                        "text/html": "<div>\n<style scoped>\n    .dataframe tbody tr th:only-of-type {\n        vertical-align: middle;\n    }\n\n    .dataframe tbody tr th {\n        vertical-align: top;\n    }\n\n    .dataframe thead th {\n        text-align: right;\n    }\n</style>\n<table border=\"1\" class=\"dataframe\">\n  <thead>\n    <tr style=\"text-align: right;\">\n      <th></th>\n      <th>Age</th>\n      <th>City</th>\n    </tr>\n  </thead>\n  <tbody>\n    <tr>\n      <th>a</th>\n      <td>34</td>\n      <td>Sydeny</td>\n    </tr>\n    <tr>\n      <th>b</th>\n      <td>30</td>\n      <td>Delhi</td>\n    </tr>\n    <tr>\n      <th>c</th>\n      <td>16</td>\n      <td>New York</td>\n    </tr>\n  </tbody>\n</table>\n</div>"
                    },
                    "metadata": {},
                    "execution_count": 8
                }
            ],
            "metadata": {}
        },
        {
            "cell_type": "markdown",
            "source": [
                "## DataFrame.iloc | Select Column Indexes & Rows Index Positions\r\n",
                "\r\n",
                "DataFrame provides indexing label iloc for accessing the column and rows by index positions i.e.\r\n",
                "\r\n",
                ">dataFrame.iloc[\\<ROWS INDEX RANGE\\> , \\<COLUMNS INDEX RANGE\\>]\r\n",
                "\r\n",
                "It selects the columns and rows from DataFrame by index position specified in range. If ‘:’ is given in rows or column Index Range then all entries will be included for corresponding row or column.\r\n",
                "\r\n",
                "Let’s see how to use it."
            ],
            "metadata": {}
        },
        {
            "cell_type": "code",
            "execution_count": 9,
            "source": [
                "# Our DataFrame object dfObj is:\r\n",
                "dfObj"
            ],
            "outputs": [
                {
                    "output_type": "execute_result",
                    "data": {
                        "text/plain": [
                            "   Name  Age      City\n",
                            "a  jack   34    Sydeny\n",
                            "b  Riti   30     Delhi\n",
                            "c  Aadi   16  New York"
                        ],
                        "text/html": "<div>\n<style scoped>\n    .dataframe tbody tr th:only-of-type {\n        vertical-align: middle;\n    }\n\n    .dataframe tbody tr th {\n        vertical-align: top;\n    }\n\n    .dataframe thead th {\n        text-align: right;\n    }\n</style>\n<table border=\"1\" class=\"dataframe\">\n  <thead>\n    <tr style=\"text-align: right;\">\n      <th></th>\n      <th>Name</th>\n      <th>Age</th>\n      <th>City</th>\n    </tr>\n  </thead>\n  <tbody>\n    <tr>\n      <th>a</th>\n      <td>jack</td>\n      <td>34</td>\n      <td>Sydeny</td>\n    </tr>\n    <tr>\n      <th>b</th>\n      <td>Riti</td>\n      <td>30</td>\n      <td>Delhi</td>\n    </tr>\n    <tr>\n      <th>c</th>\n      <td>Aadi</td>\n      <td>16</td>\n      <td>New York</td>\n    </tr>\n  </tbody>\n</table>\n</div>"
                    },
                    "metadata": {},
                    "execution_count": 9
                }
            ],
            "metadata": {}
        },
        {
            "cell_type": "markdown",
            "source": [
                "- Select a single column by Index position\r\n",
                "\r\n",
                "Select column at index 2 i.e."
            ],
            "metadata": {}
        },
        {
            "cell_type": "code",
            "execution_count": 10,
            "source": [
                "dfObj.iloc[ : , 2 ]\r\n",
                "# It will return a Series object i.e:"
            ],
            "outputs": [
                {
                    "output_type": "execute_result",
                    "data": {
                        "text/plain": [
                            "a      Sydeny\n",
                            "b       Delhi\n",
                            "c    New York\n",
                            "Name: City, dtype: object"
                        ]
                    },
                    "metadata": {},
                    "execution_count": 10
                }
            ],
            "metadata": {}
        },
        {
            "cell_type": "markdown",
            "source": [
                "- Select multiple columns by Index range\r\n",
                "\r\n",
                "Select columns in column index range [0 to 2),"
            ],
            "metadata": {}
        },
        {
            "cell_type": "code",
            "execution_count": 12,
            "source": [
                "dfObj.iloc[: , 0:2 ]\r\n",
                "# It will return a DataFrame object i.e:"
            ],
            "outputs": [
                {
                    "output_type": "execute_result",
                    "data": {
                        "text/plain": [
                            "   Name  Age\n",
                            "a  jack   34\n",
                            "b  Riti   30\n",
                            "c  Aadi   16"
                        ],
                        "text/html": "<div>\n<style scoped>\n    .dataframe tbody tr th:only-of-type {\n        vertical-align: middle;\n    }\n\n    .dataframe tbody tr th {\n        vertical-align: top;\n    }\n\n    .dataframe thead th {\n        text-align: right;\n    }\n</style>\n<table border=\"1\" class=\"dataframe\">\n  <thead>\n    <tr style=\"text-align: right;\">\n      <th></th>\n      <th>Name</th>\n      <th>Age</th>\n    </tr>\n  </thead>\n  <tbody>\n    <tr>\n      <th>a</th>\n      <td>jack</td>\n      <td>34</td>\n    </tr>\n    <tr>\n      <th>b</th>\n      <td>Riti</td>\n      <td>30</td>\n    </tr>\n    <tr>\n      <th>c</th>\n      <td>Aadi</td>\n      <td>16</td>\n    </tr>\n  </tbody>\n</table>\n</div>"
                    },
                    "metadata": {},
                    "execution_count": 12
                }
            ],
            "metadata": {}
        },
        {
            "cell_type": "markdown",
            "source": [
                "- Select multiple columns by Indexes in a list\r\n",
                "\r\n",
                "Select columns at column index 0 and 2:"
            ],
            "metadata": {}
        },
        {
            "cell_type": "code",
            "execution_count": 13,
            "source": [
                "dfObj.iloc[: , [0, 2] ]\r\n",
                "# It will return a DataFrame object i.e:"
            ],
            "outputs": [
                {
                    "output_type": "execute_result",
                    "data": {
                        "text/plain": [
                            "   Name      City\n",
                            "a  jack    Sydeny\n",
                            "b  Riti     Delhi\n",
                            "c  Aadi  New York"
                        ],
                        "text/html": "<div>\n<style scoped>\n    .dataframe tbody tr th:only-of-type {\n        vertical-align: middle;\n    }\n\n    .dataframe tbody tr th {\n        vertical-align: top;\n    }\n\n    .dataframe thead th {\n        text-align: right;\n    }\n</style>\n<table border=\"1\" class=\"dataframe\">\n  <thead>\n    <tr style=\"text-align: right;\">\n      <th></th>\n      <th>Name</th>\n      <th>City</th>\n    </tr>\n  </thead>\n  <tbody>\n    <tr>\n      <th>a</th>\n      <td>jack</td>\n      <td>Sydeny</td>\n    </tr>\n    <tr>\n      <th>b</th>\n      <td>Riti</td>\n      <td>Delhi</td>\n    </tr>\n    <tr>\n      <th>c</th>\n      <td>Aadi</td>\n      <td>New York</td>\n    </tr>\n  </tbody>\n</table>\n</div>"
                    },
                    "metadata": {},
                    "execution_count": 13
                }
            ],
            "metadata": {}
        },
        {
            "cell_type": "markdown",
            "source": [
                "- Select single row by Index Position\r\n",
                "\r\n",
                "Select row at index 2 i.e."
            ],
            "metadata": {}
        },
        {
            "cell_type": "code",
            "execution_count": 14,
            "source": [
                "dfObj.iloc[ 1 , : ]\r\n",
                "# It will return a Series object i.e,"
            ],
            "outputs": [
                {
                    "output_type": "execute_result",
                    "data": {
                        "text/plain": [
                            "Name     Riti\n",
                            "Age        30\n",
                            "City    Delhi\n",
                            "Name: b, dtype: object"
                        ]
                    },
                    "metadata": {},
                    "execution_count": 14
                }
            ],
            "metadata": {}
        },
        {
            "cell_type": "markdown",
            "source": [
                "- Select multiple rows by Index range\r\n",
                "\r\n",
                "Select rows in row index range [0 to 2):"
            ],
            "metadata": {}
        },
        {
            "cell_type": "code",
            "execution_count": 15,
            "source": [
                "dfObj.iloc[ 0:2 , : ]\r\n",
                "# It will return a DataFrame object i.e:"
            ],
            "outputs": [
                {
                    "output_type": "execute_result",
                    "data": {
                        "text/plain": [
                            "   Name  Age    City\n",
                            "a  jack   34  Sydeny\n",
                            "b  Riti   30   Delhi"
                        ],
                        "text/html": "<div>\n<style scoped>\n    .dataframe tbody tr th:only-of-type {\n        vertical-align: middle;\n    }\n\n    .dataframe tbody tr th {\n        vertical-align: top;\n    }\n\n    .dataframe thead th {\n        text-align: right;\n    }\n</style>\n<table border=\"1\" class=\"dataframe\">\n  <thead>\n    <tr style=\"text-align: right;\">\n      <th></th>\n      <th>Name</th>\n      <th>Age</th>\n      <th>City</th>\n    </tr>\n  </thead>\n  <tbody>\n    <tr>\n      <th>a</th>\n      <td>jack</td>\n      <td>34</td>\n      <td>Sydeny</td>\n    </tr>\n    <tr>\n      <th>b</th>\n      <td>Riti</td>\n      <td>30</td>\n      <td>Delhi</td>\n    </tr>\n  </tbody>\n</table>\n</div>"
                    },
                    "metadata": {},
                    "execution_count": 15
                }
            ],
            "metadata": {}
        },
        {
            "cell_type": "markdown",
            "source": [
                "- Select multiple rows by Index positions in a list\r\n",
                "\r\n",
                "Select rows at rows index 0 and 2:"
            ],
            "metadata": {}
        },
        {
            "cell_type": "code",
            "execution_count": 16,
            "source": [
                "dfObj.iloc[ [0, 2] , : ]\r\n",
                "# It will return a DataFrame object i.e:"
            ],
            "outputs": [
                {
                    "output_type": "execute_result",
                    "data": {
                        "text/plain": [
                            "   Name  Age      City\n",
                            "a  jack   34    Sydeny\n",
                            "c  Aadi   16  New York"
                        ],
                        "text/html": "<div>\n<style scoped>\n    .dataframe tbody tr th:only-of-type {\n        vertical-align: middle;\n    }\n\n    .dataframe tbody tr th {\n        vertical-align: top;\n    }\n\n    .dataframe thead th {\n        text-align: right;\n    }\n</style>\n<table border=\"1\" class=\"dataframe\">\n  <thead>\n    <tr style=\"text-align: right;\">\n      <th></th>\n      <th>Name</th>\n      <th>Age</th>\n      <th>City</th>\n    </tr>\n  </thead>\n  <tbody>\n    <tr>\n      <th>a</th>\n      <td>jack</td>\n      <td>34</td>\n      <td>Sydeny</td>\n    </tr>\n    <tr>\n      <th>c</th>\n      <td>Aadi</td>\n      <td>16</td>\n      <td>New York</td>\n    </tr>\n  </tbody>\n</table>\n</div>"
                    },
                    "metadata": {},
                    "execution_count": 16
                }
            ],
            "metadata": {}
        },
        {
            "cell_type": "markdown",
            "source": [
                "- Select multiple rows & columns by Index positions\r\n",
                "\r\n",
                "Select rows at row index 0 and 2,"
            ],
            "metadata": {}
        },
        {
            "cell_type": "code",
            "execution_count": 17,
            "source": [
                "dfObj.iloc[[2 ,0 ] , : ]\r\n",
                "# It will return a DataFrame object i.e,"
            ],
            "outputs": [
                {
                    "output_type": "execute_result",
                    "data": {
                        "text/plain": [
                            "   Name  Age      City\n",
                            "c  Aadi   16  New York\n",
                            "a  jack   34    Sydeny"
                        ],
                        "text/html": "<div>\n<style scoped>\n    .dataframe tbody tr th:only-of-type {\n        vertical-align: middle;\n    }\n\n    .dataframe tbody tr th {\n        vertical-align: top;\n    }\n\n    .dataframe thead th {\n        text-align: right;\n    }\n</style>\n<table border=\"1\" class=\"dataframe\">\n  <thead>\n    <tr style=\"text-align: right;\">\n      <th></th>\n      <th>Name</th>\n      <th>Age</th>\n      <th>City</th>\n    </tr>\n  </thead>\n  <tbody>\n    <tr>\n      <th>c</th>\n      <td>Aadi</td>\n      <td>16</td>\n      <td>New York</td>\n    </tr>\n    <tr>\n      <th>a</th>\n      <td>jack</td>\n      <td>34</td>\n      <td>Sydeny</td>\n    </tr>\n  </tbody>\n</table>\n</div>"
                    },
                    "metadata": {},
                    "execution_count": 17
                }
            ],
            "metadata": {}
        },
        {
            "cell_type": "markdown",
            "source": [
                "- Select multiple rows & columns by Index positions\r\n",
                "\r\n",
                "Select rows at index 0 & 2. Also columns at index 1 & 2:"
            ],
            "metadata": {}
        },
        {
            "cell_type": "code",
            "execution_count": 18,
            "source": [
                "dfObj.iloc[[0 , 2] , [1 , 2] ]\r\n",
                "# It will return following DataFrame object:"
            ],
            "outputs": [
                {
                    "output_type": "execute_result",
                    "data": {
                        "text/plain": [
                            "   Age      City\n",
                            "a   34    Sydeny\n",
                            "c   16  New York"
                        ],
                        "text/html": "<div>\n<style scoped>\n    .dataframe tbody tr th:only-of-type {\n        vertical-align: middle;\n    }\n\n    .dataframe tbody tr th {\n        vertical-align: top;\n    }\n\n    .dataframe thead th {\n        text-align: right;\n    }\n</style>\n<table border=\"1\" class=\"dataframe\">\n  <thead>\n    <tr style=\"text-align: right;\">\n      <th></th>\n      <th>Age</th>\n      <th>City</th>\n    </tr>\n  </thead>\n  <tbody>\n    <tr>\n      <th>a</th>\n      <td>34</td>\n      <td>Sydeny</td>\n    </tr>\n    <tr>\n      <th>c</th>\n      <td>16</td>\n      <td>New York</td>\n    </tr>\n  </tbody>\n</table>\n</div>"
                    },
                    "metadata": {},
                    "execution_count": 18
                }
            ],
            "metadata": {}
        },
        {
            "cell_type": "markdown",
            "source": [
                "- Select multiple rows & columns by Indexes in a range\r\n",
                "\r\n",
                "Select rows at index 0 to 2 (2nd index not included). Also columns at index 0 to 2 (2nd index not included):"
            ],
            "metadata": {}
        },
        {
            "cell_type": "code",
            "execution_count": 19,
            "source": [
                "dfObj.iloc[ 0 : 2 ,  0 : 2 ]\r\n",
                "# It will return following DataFrame object:"
            ],
            "outputs": [
                {
                    "output_type": "execute_result",
                    "data": {
                        "text/plain": [
                            "   Name  Age\n",
                            "a  jack   34\n",
                            "b  Riti   30"
                        ],
                        "text/html": "<div>\n<style scoped>\n    .dataframe tbody tr th:only-of-type {\n        vertical-align: middle;\n    }\n\n    .dataframe tbody tr th {\n        vertical-align: top;\n    }\n\n    .dataframe thead th {\n        text-align: right;\n    }\n</style>\n<table border=\"1\" class=\"dataframe\">\n  <thead>\n    <tr style=\"text-align: right;\">\n      <th></th>\n      <th>Name</th>\n      <th>Age</th>\n    </tr>\n  </thead>\n  <tbody>\n    <tr>\n      <th>a</th>\n      <td>jack</td>\n      <td>34</td>\n    </tr>\n    <tr>\n      <th>b</th>\n      <td>Riti</td>\n      <td>30</td>\n    </tr>\n  </tbody>\n</table>\n</div>"
                    },
                    "metadata": {},
                    "execution_count": 19
                }
            ],
            "metadata": {}
        },
        {
            "cell_type": "markdown",
            "source": [
                "If we try to select an index out of range then it will **\"IndexError\"**.\r\n",
                "\r\n",
                "## Selecting Columns in DataFrame using [ ] operator\r\n",
                "\r\n",
                "To access a single or multiple columns from DataFrame by name we can use dictionary like notation on DataFrame i.e.\r\n",
                "\r\n",
                "- Select a Column by Name"
            ],
            "metadata": {}
        },
        {
            "cell_type": "code",
            "execution_count": 20,
            "source": [
                "column2 = dfObj['Age']\r\n",
                "# It will return a Series object with same indexes as dataFrame i.e.\r\n",
                "column2"
            ],
            "outputs": [
                {
                    "output_type": "execute_result",
                    "data": {
                        "text/plain": [
                            "a    34\n",
                            "b    30\n",
                            "c    16\n",
                            "Name: Age, dtype: int64"
                        ]
                    },
                    "metadata": {},
                    "execution_count": 20
                }
            ],
            "metadata": {}
        },
        {
            "cell_type": "markdown",
            "source": [
                "- Select multiple columns by Name\r\n",
                "\r\n",
                "Instead of passing a single name in [ ] we can pass a list of column names i.e."
            ],
            "metadata": {}
        },
        {
            "cell_type": "code",
            "execution_count": 21,
            "source": [
                "column2 = dfObj[ ['Age', 'Name'] ]\r\n",
                "# It will return a DataFrame object containing only specified columns from given DataFrame object i.e.\r\n",
                "column2"
            ],
            "outputs": [
                {
                    "output_type": "execute_result",
                    "data": {
                        "text/plain": [
                            "   Age  Name\n",
                            "a   34  jack\n",
                            "b   30  Riti\n",
                            "c   16  Aadi"
                        ],
                        "text/html": "<div>\n<style scoped>\n    .dataframe tbody tr th:only-of-type {\n        vertical-align: middle;\n    }\n\n    .dataframe tbody tr th {\n        vertical-align: top;\n    }\n\n    .dataframe thead th {\n        text-align: right;\n    }\n</style>\n<table border=\"1\" class=\"dataframe\">\n  <thead>\n    <tr style=\"text-align: right;\">\n      <th></th>\n      <th>Age</th>\n      <th>Name</th>\n    </tr>\n  </thead>\n  <tbody>\n    <tr>\n      <th>a</th>\n      <td>34</td>\n      <td>jack</td>\n    </tr>\n    <tr>\n      <th>b</th>\n      <td>30</td>\n      <td>Riti</td>\n    </tr>\n    <tr>\n      <th>c</th>\n      <td>16</td>\n      <td>Aadi</td>\n    </tr>\n  </tbody>\n</table>\n</div>"
                    },
                    "metadata": {},
                    "execution_count": 21
                }
            ],
            "metadata": {}
        },
        {
            "cell_type": "markdown",
            "source": [
                "On accessing a column name that doesn’t exists it will throw **\"KeyError\"**."
            ],
            "metadata": {}
        },
        {
            "cell_type": "code",
            "execution_count": 29,
            "source": [
                "students = [ ('a','jack', 34, 'Sydeny') ,\r\n",
                "             ('c','Riti', 30, 'Delhi' ) ,\r\n",
                "             ('b','Aadi', 16, 'New York') ]\r\n",
                "# Create a DataFrame object1fObj = pd.DataFrame(students, columns = ['Idx', 'Name' , 'Age', 'City'])\r\n",
                "# Contents of DataFrame object dfObj ar1\n",
                "dfObj"
            ],
            "outputs": [
                {
                    "output_type": "execute_result",
                    "data": {
                        "text/plain": [
                            "  Idx  Name  Age      City\n",
                            "0   a  jack   34    Sydeny\n",
                            "1   c  Riti   30     Delhi\n",
                            "2   b  Aadi   16  New York"
                        ],
                        "text/html": "<div>\n<style scoped>\n    .dataframe tbody tr th:only-of-type {\n        vertical-align: middle;\n    }\n\n    .dataframe tbody tr th {\n        vertical-align: top;\n    }\n\n    .dataframe thead th {\n        text-align: right;\n    }\n</style>\n<table border=\"1\" class=\"dataframe\">\n  <thead>\n    <tr style=\"text-align: right;\">\n      <th></th>\n      <th>Idx</th>\n      <th>Name</th>\n      <th>Age</th>\n      <th>City</th>\n    </tr>\n  </thead>\n  <tbody>\n    <tr>\n      <th>0</th>\n      <td>a</td>\n      <td>jack</td>\n      <td>34</td>\n      <td>Sydeny</td>\n    </tr>\n    <tr>\n      <th>1</th>\n      <td>c</td>\n      <td>Riti</td>\n      <td>30</td>\n      <td>Delhi</td>\n    </tr>\n    <tr>\n      <th>2</th>\n      <td>b</td>\n      <td>Aadi</td>\n      <td>16</td>\n      <td>New York</td>\n    </tr>\n  </tbody>\n</table>\n</div>"
                    },
                    "metadata": {},
                    "execution_count": 29
                }
            ],
            "metadata": {}
        },
        {
            "cell_type": "code",
            "execution_count": 31,
            "source": [
                "multiidx_df = df1.set_index(['Idx', 'Name'])\r\n",
                "multiidx_df"
            ],
            "outputs": [
                {
                    "output_type": "execute_result",
                    "data": {
                        "text/plain": [
                            "          Age      City\n",
                            "Idx Name               \n",
                            "a   jack   34    Sydeny\n",
                            "c   Riti   30     Delhi\n",
                            "b   Aadi   16  New York"
                        ],
                        "text/html": "<div>\n<style scoped>\n    .dataframe tbody tr th:only-of-type {\n        vertical-align: middle;\n    }\n\n    .dataframe tbody tr th {\n        vertical-align: top;\n    }\n\n    .dataframe thead th {\n        text-align: right;\n    }\n</style>\n<table border=\"1\" class=\"dataframe\">\n  <thead>\n    <tr style=\"text-align: right;\">\n      <th></th>\n      <th></th>\n      <th>Age</th>\n      <th>City</th>\n    </tr>\n    <tr>\n      <th>Idx</th>\n      <th>Name</th>\n      <th></th>\n      <th></th>\n    </tr>\n  </thead>\n  <tbody>\n    <tr>\n      <th>a</th>\n      <th>jack</th>\n      <td>34</td>\n      <td>Sydeny</td>\n    </tr>\n    <tr>\n      <th>c</th>\n      <th>Riti</th>\n      <td>30</td>\n      <td>Delhi</td>\n    </tr>\n    <tr>\n      <th>b</th>\n      <th>Aadi</th>\n      <td>16</td>\n      <td>New York</td>\n    </tr>\n  </tbody>\n</table>\n</div>"
                    },
                    "metadata": {},
                    "execution_count": 31
                }
            ],
            "metadata": {}
        },
        {
            "cell_type": "code",
            "execution_count": 59,
            "metadata": {},
            "outputs": [
                {
                    "output_type": "execute_result",
                    "data": {
                        "text/plain": [
                            "      Name  Age      City\n",
                            "a     Jack   34    Sydeny\n",
                            "a  Daniels   38   Glasgow\n",
                            "a    Tommy   29  Edimburg\n",
                            "b     Riti   30     Delhi\n",
                            "c     Aadi   16  New York"
                        ],
                        "text/html": "<div>\n<style scoped>\n    .dataframe tbody tr th:only-of-type {\n        vertical-align: middle;\n    }\n\n    .dataframe tbody tr th {\n        vertical-align: top;\n    }\n\n    .dataframe thead th {\n        text-align: right;\n    }\n</style>\n<table border=\"1\" class=\"dataframe\">\n  <thead>\n    <tr style=\"text-align: right;\">\n      <th></th>\n      <th>Name</th>\n      <th>Age</th>\n      <th>City</th>\n    </tr>\n  </thead>\n  <tbody>\n    <tr>\n      <th>a</th>\n      <td>Jack</td>\n      <td>34</td>\n      <td>Sydeny</td>\n    </tr>\n    <tr>\n      <th>a</th>\n      <td>Daniels</td>\n      <td>38</td>\n      <td>Glasgow</td>\n    </tr>\n    <tr>\n      <th>a</th>\n      <td>Tommy</td>\n      <td>29</td>\n      <td>Edimburg</td>\n    </tr>\n    <tr>\n      <th>b</th>\n      <td>Riti</td>\n      <td>30</td>\n      <td>Delhi</td>\n    </tr>\n    <tr>\n      <th>c</th>\n      <td>Aadi</td>\n      <td>16</td>\n      <td>New York</td>\n    </tr>\n  </tbody>\n</table>\n</div>"
                    },
                    "metadata": {},
                    "execution_count": 59
                }
            ],
            "source": [
                "students = [ ('Jack', 34, 'Sydeny') ,\n",
                "             ('Daniels', 38, 'Glasgow'),\n",
                "             ('Tommy', 29, 'Edimburg'),\n",
                "             ('Riti', 30, 'Delhi' ) ,\n",
                "             ('Aadi', 16, 'New York') ]\n",
                "# Create a DataFrame object\n",
                "df2 = pd.DataFrame(students, columns = ['Name' , 'Age', 'City'], index=['a', 'a', 'a', 'b', 'c'])\n",
                "df2"
            ]
        },
        {
            "cell_type": "code",
            "execution_count": 60,
            "metadata": {},
            "outputs": [
                {
                    "output_type": "execute_result",
                    "data": {
                        "text/plain": [
                            "           Age      City\n",
                            "  Name                  \n",
                            "a Jack      34    Sydeny\n",
                            "  Daniels   38   Glasgow\n",
                            "  Tommy     29  Edimburg\n",
                            "b Riti      30     Delhi\n",
                            "c Aadi      16  New York"
                        ],
                        "text/html": "<div>\n<style scoped>\n    .dataframe tbody tr th:only-of-type {\n        vertical-align: middle;\n    }\n\n    .dataframe tbody tr th {\n        vertical-align: top;\n    }\n\n    .dataframe thead th {\n        text-align: right;\n    }\n</style>\n<table border=\"1\" class=\"dataframe\">\n  <thead>\n    <tr style=\"text-align: right;\">\n      <th></th>\n      <th></th>\n      <th>Age</th>\n      <th>City</th>\n    </tr>\n    <tr>\n      <th></th>\n      <th>Name</th>\n      <th></th>\n      <th></th>\n    </tr>\n  </thead>\n  <tbody>\n    <tr>\n      <th rowspan=\"3\" valign=\"top\">a</th>\n      <th>Jack</th>\n      <td>34</td>\n      <td>Sydeny</td>\n    </tr>\n    <tr>\n      <th>Daniels</th>\n      <td>38</td>\n      <td>Glasgow</td>\n    </tr>\n    <tr>\n      <th>Tommy</th>\n      <td>29</td>\n      <td>Edimburg</td>\n    </tr>\n    <tr>\n      <th>b</th>\n      <th>Riti</th>\n      <td>30</td>\n      <td>Delhi</td>\n    </tr>\n    <tr>\n      <th>c</th>\n      <th>Aadi</th>\n      <td>16</td>\n      <td>New York</td>\n    </tr>\n  </tbody>\n</table>\n</div>"
                    },
                    "metadata": {},
                    "execution_count": 60
                }
            ],
            "source": [
                "df2 = df2.set_index([pd.Index(['a', 'a', 'a','b', 'c']), 'Name'])\n",
                "#df2 = df2.set_index('Name')\n",
                "df2"
            ]
        },
        {
            "cell_type": "code",
            "execution_count": 74,
            "metadata": {},
            "outputs": [
                {
                    "output_type": "error",
                    "ename": "UnsortedIndexError",
                    "evalue": "'Key length (2) was greater than MultiIndex lexsort depth (1)'",
                    "traceback": [
                        "\u001b[1;31m---------------------------------------------------------------------------\u001b[0m",
                        "\u001b[1;31mUnsortedIndexError\u001b[0m                        Traceback (most recent call last)",
                        "\u001b[1;32m<ipython-input-74-9a8e51ec3b33>\u001b[0m in \u001b[0;36m<module>\u001b[1;34m\u001b[0m\n\u001b[0;32m      2\u001b[0m \u001b[1;31m#subset = df2.loc[ ('a' , 'Daniels') ,'Age' : 'City' ]\u001b[0m\u001b[1;33m\u001b[0m\u001b[1;33m\u001b[0m\u001b[1;33m\u001b[0m\u001b[0m\n\u001b[0;32m      3\u001b[0m \u001b[1;31m#subset = df2.loc[ 'a':'b' ,'Age' : 'City' ] # 'Jack':'Daniels'\u001b[0m\u001b[1;33m\u001b[0m\u001b[1;33m\u001b[0m\u001b[1;33m\u001b[0m\u001b[0m\n\u001b[1;32m----> 4\u001b[1;33m \u001b[0msubset\u001b[0m \u001b[1;33m=\u001b[0m \u001b[0mdf2\u001b[0m\u001b[1;33m.\u001b[0m\u001b[0mloc\u001b[0m\u001b[1;33m[\u001b[0m \u001b[1;33m(\u001b[0m\u001b[1;34m'b'\u001b[0m\u001b[1;33m,\u001b[0m \u001b[1;34m'Riti'\u001b[0m\u001b[1;33m)\u001b[0m\u001b[1;33m:\u001b[0m\u001b[1;34m'c'\u001b[0m \u001b[1;33m,\u001b[0m\u001b[1;34m'Age'\u001b[0m \u001b[1;33m:\u001b[0m \u001b[1;34m'City'\u001b[0m \u001b[1;33m]\u001b[0m \u001b[1;31m# 'Jack':'Daniels'\u001b[0m\u001b[1;33m\u001b[0m\u001b[1;33m\u001b[0m\u001b[0m\n\u001b[0m\u001b[0;32m      5\u001b[0m \u001b[1;31m# It will return a subset DataFrame with rows from 'a' to 'c' & columns from 'Age' to 'City' i.e.\u001b[0m\u001b[1;33m\u001b[0m\u001b[1;33m\u001b[0m\u001b[1;33m\u001b[0m\u001b[0m\n\u001b[0;32m      6\u001b[0m \u001b[0msubset\u001b[0m\u001b[1;33m\u001b[0m\u001b[1;33m\u001b[0m\u001b[0m\n",
                        "\u001b[1;32mC:\\Users\\anaconda3\\envs\\myhpc\\lib\\site-packages\\pandas\\core\\indexing.py\u001b[0m in \u001b[0;36m__getitem__\u001b[1;34m(self, key)\u001b[0m\n\u001b[0;32m    923\u001b[0m                 \u001b[1;32mwith\u001b[0m \u001b[0msuppress\u001b[0m\u001b[1;33m(\u001b[0m\u001b[0mKeyError\u001b[0m\u001b[1;33m,\u001b[0m \u001b[0mIndexError\u001b[0m\u001b[1;33m)\u001b[0m\u001b[1;33m:\u001b[0m\u001b[1;33m\u001b[0m\u001b[1;33m\u001b[0m\u001b[0m\n\u001b[0;32m    924\u001b[0m                     \u001b[1;32mreturn\u001b[0m \u001b[0mself\u001b[0m\u001b[1;33m.\u001b[0m\u001b[0mobj\u001b[0m\u001b[1;33m.\u001b[0m\u001b[0m_get_value\u001b[0m\u001b[1;33m(\u001b[0m\u001b[1;33m*\u001b[0m\u001b[0mkey\u001b[0m\u001b[1;33m,\u001b[0m \u001b[0mtakeable\u001b[0m\u001b[1;33m=\u001b[0m\u001b[0mself\u001b[0m\u001b[1;33m.\u001b[0m\u001b[0m_takeable\u001b[0m\u001b[1;33m)\u001b[0m\u001b[1;33m\u001b[0m\u001b[1;33m\u001b[0m\u001b[0m\n\u001b[1;32m--> 925\u001b[1;33m             \u001b[1;32mreturn\u001b[0m \u001b[0mself\u001b[0m\u001b[1;33m.\u001b[0m\u001b[0m_getitem_tuple\u001b[0m\u001b[1;33m(\u001b[0m\u001b[0mkey\u001b[0m\u001b[1;33m)\u001b[0m\u001b[1;33m\u001b[0m\u001b[1;33m\u001b[0m\u001b[0m\n\u001b[0m\u001b[0;32m    926\u001b[0m         \u001b[1;32melse\u001b[0m\u001b[1;33m:\u001b[0m\u001b[1;33m\u001b[0m\u001b[1;33m\u001b[0m\u001b[0m\n\u001b[0;32m    927\u001b[0m             \u001b[1;31m# we by definition only have the 0th axis\u001b[0m\u001b[1;33m\u001b[0m\u001b[1;33m\u001b[0m\u001b[1;33m\u001b[0m\u001b[0m\n",
                        "\u001b[1;32mC:\\Users\\anaconda3\\envs\\myhpc\\lib\\site-packages\\pandas\\core\\indexing.py\u001b[0m in \u001b[0;36m_getitem_tuple\u001b[1;34m(self, tup)\u001b[0m\n\u001b[0;32m   1098\u001b[0m     \u001b[1;32mdef\u001b[0m \u001b[0m_getitem_tuple\u001b[0m\u001b[1;33m(\u001b[0m\u001b[0mself\u001b[0m\u001b[1;33m,\u001b[0m \u001b[0mtup\u001b[0m\u001b[1;33m:\u001b[0m \u001b[0mtuple\u001b[0m\u001b[1;33m)\u001b[0m\u001b[1;33m:\u001b[0m\u001b[1;33m\u001b[0m\u001b[1;33m\u001b[0m\u001b[0m\n\u001b[0;32m   1099\u001b[0m         \u001b[1;32mwith\u001b[0m \u001b[0msuppress\u001b[0m\u001b[1;33m(\u001b[0m\u001b[0mIndexingError\u001b[0m\u001b[1;33m)\u001b[0m\u001b[1;33m:\u001b[0m\u001b[1;33m\u001b[0m\u001b[1;33m\u001b[0m\u001b[0m\n\u001b[1;32m-> 1100\u001b[1;33m             \u001b[1;32mreturn\u001b[0m \u001b[0mself\u001b[0m\u001b[1;33m.\u001b[0m\u001b[0m_getitem_lowerdim\u001b[0m\u001b[1;33m(\u001b[0m\u001b[0mtup\u001b[0m\u001b[1;33m)\u001b[0m\u001b[1;33m\u001b[0m\u001b[1;33m\u001b[0m\u001b[0m\n\u001b[0m\u001b[0;32m   1101\u001b[0m \u001b[1;33m\u001b[0m\u001b[0m\n\u001b[0;32m   1102\u001b[0m         \u001b[1;31m# no multi-index, so validate all of the indexers\u001b[0m\u001b[1;33m\u001b[0m\u001b[1;33m\u001b[0m\u001b[1;33m\u001b[0m\u001b[0m\n",
                        "\u001b[1;32mC:\\Users\\anaconda3\\envs\\myhpc\\lib\\site-packages\\pandas\\core\\indexing.py\u001b[0m in \u001b[0;36m_getitem_lowerdim\u001b[1;34m(self, tup)\u001b[0m\n\u001b[0;32m    820\u001b[0m         \u001b[1;31m# we may have a nested tuples indexer here\u001b[0m\u001b[1;33m\u001b[0m\u001b[1;33m\u001b[0m\u001b[1;33m\u001b[0m\u001b[0m\n\u001b[0;32m    821\u001b[0m         \u001b[1;32mif\u001b[0m \u001b[0mself\u001b[0m\u001b[1;33m.\u001b[0m\u001b[0m_is_nested_tuple_indexer\u001b[0m\u001b[1;33m(\u001b[0m\u001b[0mtup\u001b[0m\u001b[1;33m)\u001b[0m\u001b[1;33m:\u001b[0m\u001b[1;33m\u001b[0m\u001b[1;33m\u001b[0m\u001b[0m\n\u001b[1;32m--> 822\u001b[1;33m             \u001b[1;32mreturn\u001b[0m \u001b[0mself\u001b[0m\u001b[1;33m.\u001b[0m\u001b[0m_getitem_nested_tuple\u001b[0m\u001b[1;33m(\u001b[0m\u001b[0mtup\u001b[0m\u001b[1;33m)\u001b[0m\u001b[1;33m\u001b[0m\u001b[1;33m\u001b[0m\u001b[0m\n\u001b[0m\u001b[0;32m    823\u001b[0m \u001b[1;33m\u001b[0m\u001b[0m\n\u001b[0;32m    824\u001b[0m         \u001b[1;31m# we maybe be using a tuple to represent multiple dimensions here\u001b[0m\u001b[1;33m\u001b[0m\u001b[1;33m\u001b[0m\u001b[1;33m\u001b[0m\u001b[0m\n",
                        "\u001b[1;32mC:\\Users\\anaconda3\\envs\\myhpc\\lib\\site-packages\\pandas\\core\\indexing.py\u001b[0m in \u001b[0;36m_getitem_nested_tuple\u001b[1;34m(self, tup)\u001b[0m\n\u001b[0;32m    904\u001b[0m                 \u001b[1;32mcontinue\u001b[0m\u001b[1;33m\u001b[0m\u001b[1;33m\u001b[0m\u001b[0m\n\u001b[0;32m    905\u001b[0m \u001b[1;33m\u001b[0m\u001b[0m\n\u001b[1;32m--> 906\u001b[1;33m             \u001b[0mobj\u001b[0m \u001b[1;33m=\u001b[0m \u001b[0mgetattr\u001b[0m\u001b[1;33m(\u001b[0m\u001b[0mobj\u001b[0m\u001b[1;33m,\u001b[0m \u001b[0mself\u001b[0m\u001b[1;33m.\u001b[0m\u001b[0mname\u001b[0m\u001b[1;33m)\u001b[0m\u001b[1;33m.\u001b[0m\u001b[0m_getitem_axis\u001b[0m\u001b[1;33m(\u001b[0m\u001b[0mkey\u001b[0m\u001b[1;33m,\u001b[0m \u001b[0maxis\u001b[0m\u001b[1;33m=\u001b[0m\u001b[0maxis\u001b[0m\u001b[1;33m)\u001b[0m\u001b[1;33m\u001b[0m\u001b[1;33m\u001b[0m\u001b[0m\n\u001b[0m\u001b[0;32m    907\u001b[0m             \u001b[0maxis\u001b[0m \u001b[1;33m-=\u001b[0m \u001b[1;36m1\u001b[0m\u001b[1;33m\u001b[0m\u001b[1;33m\u001b[0m\u001b[0m\n\u001b[0;32m    908\u001b[0m \u001b[1;33m\u001b[0m\u001b[0m\n",
                        "\u001b[1;32mC:\\Users\\anaconda3\\envs\\myhpc\\lib\\site-packages\\pandas\\core\\indexing.py\u001b[0m in \u001b[0;36m_getitem_axis\u001b[1;34m(self, key, axis)\u001b[0m\n\u001b[0;32m   1140\u001b[0m         \u001b[1;32mif\u001b[0m \u001b[0misinstance\u001b[0m\u001b[1;33m(\u001b[0m\u001b[0mkey\u001b[0m\u001b[1;33m,\u001b[0m \u001b[0mslice\u001b[0m\u001b[1;33m)\u001b[0m\u001b[1;33m:\u001b[0m\u001b[1;33m\u001b[0m\u001b[1;33m\u001b[0m\u001b[0m\n\u001b[0;32m   1141\u001b[0m             \u001b[0mself\u001b[0m\u001b[1;33m.\u001b[0m\u001b[0m_validate_key\u001b[0m\u001b[1;33m(\u001b[0m\u001b[0mkey\u001b[0m\u001b[1;33m,\u001b[0m \u001b[0maxis\u001b[0m\u001b[1;33m)\u001b[0m\u001b[1;33m\u001b[0m\u001b[1;33m\u001b[0m\u001b[0m\n\u001b[1;32m-> 1142\u001b[1;33m             \u001b[1;32mreturn\u001b[0m \u001b[0mself\u001b[0m\u001b[1;33m.\u001b[0m\u001b[0m_get_slice_axis\u001b[0m\u001b[1;33m(\u001b[0m\u001b[0mkey\u001b[0m\u001b[1;33m,\u001b[0m \u001b[0maxis\u001b[0m\u001b[1;33m=\u001b[0m\u001b[0maxis\u001b[0m\u001b[1;33m)\u001b[0m\u001b[1;33m\u001b[0m\u001b[1;33m\u001b[0m\u001b[0m\n\u001b[0m\u001b[0;32m   1143\u001b[0m         \u001b[1;32melif\u001b[0m \u001b[0mcom\u001b[0m\u001b[1;33m.\u001b[0m\u001b[0mis_bool_indexer\u001b[0m\u001b[1;33m(\u001b[0m\u001b[0mkey\u001b[0m\u001b[1;33m)\u001b[0m\u001b[1;33m:\u001b[0m\u001b[1;33m\u001b[0m\u001b[1;33m\u001b[0m\u001b[0m\n\u001b[0;32m   1144\u001b[0m             \u001b[1;32mreturn\u001b[0m \u001b[0mself\u001b[0m\u001b[1;33m.\u001b[0m\u001b[0m_getbool_axis\u001b[0m\u001b[1;33m(\u001b[0m\u001b[0mkey\u001b[0m\u001b[1;33m,\u001b[0m \u001b[0maxis\u001b[0m\u001b[1;33m=\u001b[0m\u001b[0maxis\u001b[0m\u001b[1;33m)\u001b[0m\u001b[1;33m\u001b[0m\u001b[1;33m\u001b[0m\u001b[0m\n",
                        "\u001b[1;32mC:\\Users\\anaconda3\\envs\\myhpc\\lib\\site-packages\\pandas\\core\\indexing.py\u001b[0m in \u001b[0;36m_get_slice_axis\u001b[1;34m(self, slice_obj, axis)\u001b[0m\n\u001b[0;32m   1174\u001b[0m \u001b[1;33m\u001b[0m\u001b[0m\n\u001b[0;32m   1175\u001b[0m         \u001b[0mlabels\u001b[0m \u001b[1;33m=\u001b[0m \u001b[0mobj\u001b[0m\u001b[1;33m.\u001b[0m\u001b[0m_get_axis\u001b[0m\u001b[1;33m(\u001b[0m\u001b[0maxis\u001b[0m\u001b[1;33m)\u001b[0m\u001b[1;33m\u001b[0m\u001b[1;33m\u001b[0m\u001b[0m\n\u001b[1;32m-> 1176\u001b[1;33m         \u001b[0mindexer\u001b[0m \u001b[1;33m=\u001b[0m \u001b[0mlabels\u001b[0m\u001b[1;33m.\u001b[0m\u001b[0mslice_indexer\u001b[0m\u001b[1;33m(\u001b[0m\u001b[0mslice_obj\u001b[0m\u001b[1;33m.\u001b[0m\u001b[0mstart\u001b[0m\u001b[1;33m,\u001b[0m \u001b[0mslice_obj\u001b[0m\u001b[1;33m.\u001b[0m\u001b[0mstop\u001b[0m\u001b[1;33m,\u001b[0m \u001b[0mslice_obj\u001b[0m\u001b[1;33m.\u001b[0m\u001b[0mstep\u001b[0m\u001b[1;33m)\u001b[0m\u001b[1;33m\u001b[0m\u001b[1;33m\u001b[0m\u001b[0m\n\u001b[0m\u001b[0;32m   1177\u001b[0m \u001b[1;33m\u001b[0m\u001b[0m\n\u001b[0;32m   1178\u001b[0m         \u001b[1;32mif\u001b[0m \u001b[0misinstance\u001b[0m\u001b[1;33m(\u001b[0m\u001b[0mindexer\u001b[0m\u001b[1;33m,\u001b[0m \u001b[0mslice\u001b[0m\u001b[1;33m)\u001b[0m\u001b[1;33m:\u001b[0m\u001b[1;33m\u001b[0m\u001b[1;33m\u001b[0m\u001b[0m\n",
                        "\u001b[1;32mC:\\Users\\anaconda3\\envs\\myhpc\\lib\\site-packages\\pandas\\core\\indexes\\base.py\u001b[0m in \u001b[0;36mslice_indexer\u001b[1;34m(self, start, end, step, kind)\u001b[0m\n\u001b[0;32m   5684\u001b[0m         \u001b[0mslice\u001b[0m\u001b[1;33m(\u001b[0m\u001b[1;36m1\u001b[0m\u001b[1;33m,\u001b[0m \u001b[1;36m3\u001b[0m\u001b[1;33m,\u001b[0m \u001b[1;32mNone\u001b[0m\u001b[1;33m)\u001b[0m\u001b[1;33m\u001b[0m\u001b[1;33m\u001b[0m\u001b[0m\n\u001b[0;32m   5685\u001b[0m         \"\"\"\n\u001b[1;32m-> 5686\u001b[1;33m         \u001b[0mstart_slice\u001b[0m\u001b[1;33m,\u001b[0m \u001b[0mend_slice\u001b[0m \u001b[1;33m=\u001b[0m \u001b[0mself\u001b[0m\u001b[1;33m.\u001b[0m\u001b[0mslice_locs\u001b[0m\u001b[1;33m(\u001b[0m\u001b[0mstart\u001b[0m\u001b[1;33m,\u001b[0m \u001b[0mend\u001b[0m\u001b[1;33m,\u001b[0m \u001b[0mstep\u001b[0m\u001b[1;33m=\u001b[0m\u001b[0mstep\u001b[0m\u001b[1;33m)\u001b[0m\u001b[1;33m\u001b[0m\u001b[1;33m\u001b[0m\u001b[0m\n\u001b[0m\u001b[0;32m   5687\u001b[0m \u001b[1;33m\u001b[0m\u001b[0m\n\u001b[0;32m   5688\u001b[0m         \u001b[1;31m# return a slice\u001b[0m\u001b[1;33m\u001b[0m\u001b[1;33m\u001b[0m\u001b[1;33m\u001b[0m\u001b[0m\n",
                        "\u001b[1;32mC:\\Users\\anaconda3\\envs\\myhpc\\lib\\site-packages\\pandas\\core\\indexes\\multi.py\u001b[0m in \u001b[0;36mslice_locs\u001b[1;34m(self, start, end, step, kind)\u001b[0m\n\u001b[0;32m   2791\u001b[0m         \u001b[1;31m# This function adds nothing to its parent implementation (the magic\u001b[0m\u001b[1;33m\u001b[0m\u001b[1;33m\u001b[0m\u001b[1;33m\u001b[0m\u001b[0m\n\u001b[0;32m   2792\u001b[0m         \u001b[1;31m# happens in get_slice_bound method), but it adds meaningful doc.\u001b[0m\u001b[1;33m\u001b[0m\u001b[1;33m\u001b[0m\u001b[1;33m\u001b[0m\u001b[0m\n\u001b[1;32m-> 2793\u001b[1;33m         \u001b[1;32mreturn\u001b[0m \u001b[0msuper\u001b[0m\u001b[1;33m(\u001b[0m\u001b[1;33m)\u001b[0m\u001b[1;33m.\u001b[0m\u001b[0mslice_locs\u001b[0m\u001b[1;33m(\u001b[0m\u001b[0mstart\u001b[0m\u001b[1;33m,\u001b[0m \u001b[0mend\u001b[0m\u001b[1;33m,\u001b[0m \u001b[0mstep\u001b[0m\u001b[1;33m)\u001b[0m\u001b[1;33m\u001b[0m\u001b[1;33m\u001b[0m\u001b[0m\n\u001b[0m\u001b[0;32m   2794\u001b[0m \u001b[1;33m\u001b[0m\u001b[0m\n\u001b[0;32m   2795\u001b[0m     \u001b[1;32mdef\u001b[0m \u001b[0m_partial_tup_index\u001b[0m\u001b[1;33m(\u001b[0m\u001b[0mself\u001b[0m\u001b[1;33m,\u001b[0m \u001b[0mtup\u001b[0m\u001b[1;33m:\u001b[0m \u001b[0mtuple\u001b[0m\u001b[1;33m,\u001b[0m \u001b[0mside\u001b[0m\u001b[1;33m=\u001b[0m\u001b[1;34m\"left\"\u001b[0m\u001b[1;33m)\u001b[0m\u001b[1;33m:\u001b[0m\u001b[1;33m\u001b[0m\u001b[1;33m\u001b[0m\u001b[0m\n",
                        "\u001b[1;32mC:\\Users\\anaconda3\\envs\\myhpc\\lib\\site-packages\\pandas\\core\\indexes\\base.py\u001b[0m in \u001b[0;36mslice_locs\u001b[1;34m(self, start, end, step, kind)\u001b[0m\n\u001b[0;32m   5886\u001b[0m         \u001b[0mstart_slice\u001b[0m \u001b[1;33m=\u001b[0m \u001b[1;32mNone\u001b[0m\u001b[1;33m\u001b[0m\u001b[1;33m\u001b[0m\u001b[0m\n\u001b[0;32m   5887\u001b[0m         \u001b[1;32mif\u001b[0m \u001b[0mstart\u001b[0m \u001b[1;32mis\u001b[0m \u001b[1;32mnot\u001b[0m \u001b[1;32mNone\u001b[0m\u001b[1;33m:\u001b[0m\u001b[1;33m\u001b[0m\u001b[1;33m\u001b[0m\u001b[0m\n\u001b[1;32m-> 5888\u001b[1;33m             \u001b[0mstart_slice\u001b[0m \u001b[1;33m=\u001b[0m \u001b[0mself\u001b[0m\u001b[1;33m.\u001b[0m\u001b[0mget_slice_bound\u001b[0m\u001b[1;33m(\u001b[0m\u001b[0mstart\u001b[0m\u001b[1;33m,\u001b[0m \u001b[1;34m\"left\"\u001b[0m\u001b[1;33m)\u001b[0m\u001b[1;33m\u001b[0m\u001b[1;33m\u001b[0m\u001b[0m\n\u001b[0m\u001b[0;32m   5889\u001b[0m         \u001b[1;32mif\u001b[0m \u001b[0mstart_slice\u001b[0m \u001b[1;32mis\u001b[0m \u001b[1;32mNone\u001b[0m\u001b[1;33m:\u001b[0m\u001b[1;33m\u001b[0m\u001b[1;33m\u001b[0m\u001b[0m\n\u001b[0;32m   5890\u001b[0m             \u001b[0mstart_slice\u001b[0m \u001b[1;33m=\u001b[0m \u001b[1;36m0\u001b[0m\u001b[1;33m\u001b[0m\u001b[1;33m\u001b[0m\u001b[0m\n",
                        "\u001b[1;32mC:\\Users\\anaconda3\\envs\\myhpc\\lib\\site-packages\\pandas\\core\\indexes\\multi.py\u001b[0m in \u001b[0;36mget_slice_bound\u001b[1;34m(self, label, side, kind)\u001b[0m\n\u001b[0;32m   2735\u001b[0m         \u001b[1;32mif\u001b[0m \u001b[1;32mnot\u001b[0m \u001b[0misinstance\u001b[0m\u001b[1;33m(\u001b[0m\u001b[0mlabel\u001b[0m\u001b[1;33m,\u001b[0m \u001b[0mtuple\u001b[0m\u001b[1;33m)\u001b[0m\u001b[1;33m:\u001b[0m\u001b[1;33m\u001b[0m\u001b[1;33m\u001b[0m\u001b[0m\n\u001b[0;32m   2736\u001b[0m             \u001b[0mlabel\u001b[0m \u001b[1;33m=\u001b[0m \u001b[1;33m(\u001b[0m\u001b[0mlabel\u001b[0m\u001b[1;33m,\u001b[0m\u001b[1;33m)\u001b[0m\u001b[1;33m\u001b[0m\u001b[1;33m\u001b[0m\u001b[0m\n\u001b[1;32m-> 2737\u001b[1;33m         \u001b[1;32mreturn\u001b[0m \u001b[0mself\u001b[0m\u001b[1;33m.\u001b[0m\u001b[0m_partial_tup_index\u001b[0m\u001b[1;33m(\u001b[0m\u001b[0mlabel\u001b[0m\u001b[1;33m,\u001b[0m \u001b[0mside\u001b[0m\u001b[1;33m=\u001b[0m\u001b[0mside\u001b[0m\u001b[1;33m)\u001b[0m\u001b[1;33m\u001b[0m\u001b[1;33m\u001b[0m\u001b[0m\n\u001b[0m\u001b[0;32m   2738\u001b[0m \u001b[1;33m\u001b[0m\u001b[0m\n\u001b[0;32m   2739\u001b[0m     \u001b[1;32mdef\u001b[0m \u001b[0mslice_locs\u001b[0m\u001b[1;33m(\u001b[0m\u001b[0mself\u001b[0m\u001b[1;33m,\u001b[0m \u001b[0mstart\u001b[0m\u001b[1;33m=\u001b[0m\u001b[1;32mNone\u001b[0m\u001b[1;33m,\u001b[0m \u001b[0mend\u001b[0m\u001b[1;33m=\u001b[0m\u001b[1;32mNone\u001b[0m\u001b[1;33m,\u001b[0m \u001b[0mstep\u001b[0m\u001b[1;33m=\u001b[0m\u001b[1;32mNone\u001b[0m\u001b[1;33m,\u001b[0m \u001b[0mkind\u001b[0m\u001b[1;33m=\u001b[0m\u001b[1;32mNone\u001b[0m\u001b[1;33m)\u001b[0m\u001b[1;33m:\u001b[0m\u001b[1;33m\u001b[0m\u001b[1;33m\u001b[0m\u001b[0m\n",
                        "\u001b[1;32mC:\\Users\\anaconda3\\envs\\myhpc\\lib\\site-packages\\pandas\\core\\indexes\\multi.py\u001b[0m in \u001b[0;36m_partial_tup_index\u001b[1;34m(self, tup, side)\u001b[0m\n\u001b[0;32m   2795\u001b[0m     \u001b[1;32mdef\u001b[0m \u001b[0m_partial_tup_index\u001b[0m\u001b[1;33m(\u001b[0m\u001b[0mself\u001b[0m\u001b[1;33m,\u001b[0m \u001b[0mtup\u001b[0m\u001b[1;33m:\u001b[0m \u001b[0mtuple\u001b[0m\u001b[1;33m,\u001b[0m \u001b[0mside\u001b[0m\u001b[1;33m=\u001b[0m\u001b[1;34m\"left\"\u001b[0m\u001b[1;33m)\u001b[0m\u001b[1;33m:\u001b[0m\u001b[1;33m\u001b[0m\u001b[1;33m\u001b[0m\u001b[0m\n\u001b[0;32m   2796\u001b[0m         \u001b[1;32mif\u001b[0m \u001b[0mlen\u001b[0m\u001b[1;33m(\u001b[0m\u001b[0mtup\u001b[0m\u001b[1;33m)\u001b[0m \u001b[1;33m>\u001b[0m \u001b[0mself\u001b[0m\u001b[1;33m.\u001b[0m\u001b[0m_lexsort_depth\u001b[0m\u001b[1;33m:\u001b[0m\u001b[1;33m\u001b[0m\u001b[1;33m\u001b[0m\u001b[0m\n\u001b[1;32m-> 2797\u001b[1;33m             raise UnsortedIndexError(\n\u001b[0m\u001b[0;32m   2798\u001b[0m                 \u001b[1;34mf\"Key length ({len(tup)}) was greater than MultiIndex lexsort depth \"\u001b[0m\u001b[1;33m\u001b[0m\u001b[1;33m\u001b[0m\u001b[0m\n\u001b[0;32m   2799\u001b[0m                 \u001b[1;34mf\"({self._lexsort_depth})\"\u001b[0m\u001b[1;33m\u001b[0m\u001b[1;33m\u001b[0m\u001b[0m\n",
                        "\u001b[1;31mUnsortedIndexError\u001b[0m: 'Key length (2) was greater than MultiIndex lexsort depth (1)'"
                    ]
                }
            ],
            "source": [
                "#subset = df2.loc[ ('a' , 'Jack') ,'Age' : 'City' ]\n",
                "#subset = df2.loc[ ('a' , 'Daniels') ,'Age' : 'City' ]\n",
                "#subset = df2.loc[ 'a':'b' ,'Age' : 'City' ] # 'Jack':'Daniels'\n",
                "subset = df2.loc[ ('b', 'Riti'):'c' ,'Age' : 'City' ] # 'Jack':'Daniels'\n",
                "# It will return a subset DataFrame with rows from 'a' to 'c' & columns from 'Age' to 'City' i.e.\n",
                "subset"
            ]
        },
        {
            "cell_type": "code",
            "execution_count": 113,
            "source": [
                "#sort dataframe by index in descending order\r\n",
                "sortidx_df = multiidx_df.sort_index(ascending=True)\r\n",
                "sortidx_df"
            ],
            "outputs": [
                {
                    "output_type": "execute_result",
                    "data": {
                        "text/plain": [
                            "          Age      City\n",
                            "Idx Name               \n",
                            "a   jack   34    Sydeny\n",
                            "b   Aadi   16  New York\n",
                            "c   Riti   30     Delhi"
                        ],
                        "text/html": [
                            "<div>\n",
                            "<style scoped>\n",
                            "    .dataframe tbody tr th:only-of-type {\n",
                            "        vertical-align: middle;\n",
                            "    }\n",
                            "\n",
                            "    .dataframe tbody tr th {\n",
                            "        vertical-align: top;\n",
                            "    }\n",
                            "\n",
                            "    .dataframe thead th {\n",
                            "        text-align: right;\n",
                            "    }\n",
                            "</style>\n",
                            "<table border=\"1\" class=\"dataframe\">\n",
                            "  <thead>\n",
                            "    <tr style=\"text-align: right;\">\n",
                            "      <th></th>\n",
                            "      <th></th>\n",
                            "      <th>Age</th>\n",
                            "      <th>City</th>\n",
                            "    </tr>\n",
                            "    <tr>\n",
                            "      <th>Idx</th>\n",
                            "      <th>Name</th>\n",
                            "      <th></th>\n",
                            "      <th></th>\n",
                            "    </tr>\n",
                            "  </thead>\n",
                            "  <tbody>\n",
                            "    <tr>\n",
                            "      <th>a</th>\n",
                            "      <th>jack</th>\n",
                            "      <td>34</td>\n",
                            "      <td>Sydeny</td>\n",
                            "    </tr>\n",
                            "    <tr>\n",
                            "      <th>b</th>\n",
                            "      <th>Aadi</th>\n",
                            "      <td>16</td>\n",
                            "      <td>New York</td>\n",
                            "    </tr>\n",
                            "    <tr>\n",
                            "      <th>c</th>\n",
                            "      <th>Riti</th>\n",
                            "      <td>30</td>\n",
                            "      <td>Delhi</td>\n",
                            "    </tr>\n",
                            "  </tbody>\n",
                            "</table>\n",
                            "</div>"
                        ]
                    },
                    "metadata": {},
                    "execution_count": 113
                }
            ],
            "metadata": {}
        },
        {
            "cell_type": "code",
            "execution_count": 106,
            "source": [
                "subset = multiidx_df.loc[ 'a' : 'b' ,'Age' : 'City' ]\r\n",
                "# It will return a subset DataFrame with rows from 'a' to 'c' & columns from 'Age' to 'City' i.e.\r\n",
                "subset"
            ],
            "outputs": [
                {
                    "output_type": "execute_result",
                    "data": {
                        "text/plain": [
                            "          Age    City\n",
                            "Idx Name             \n",
                            "a   jack   34  Sydeny\n",
                            "b   Riti   30   Delhi"
                        ],
                        "text/html": [
                            "<div>\n",
                            "<style scoped>\n",
                            "    .dataframe tbody tr th:only-of-type {\n",
                            "        vertical-align: middle;\n",
                            "    }\n",
                            "\n",
                            "    .dataframe tbody tr th {\n",
                            "        vertical-align: top;\n",
                            "    }\n",
                            "\n",
                            "    .dataframe thead th {\n",
                            "        text-align: right;\n",
                            "    }\n",
                            "</style>\n",
                            "<table border=\"1\" class=\"dataframe\">\n",
                            "  <thead>\n",
                            "    <tr style=\"text-align: right;\">\n",
                            "      <th></th>\n",
                            "      <th></th>\n",
                            "      <th>Age</th>\n",
                            "      <th>City</th>\n",
                            "    </tr>\n",
                            "    <tr>\n",
                            "      <th>Idx</th>\n",
                            "      <th>Name</th>\n",
                            "      <th></th>\n",
                            "      <th></th>\n",
                            "    </tr>\n",
                            "  </thead>\n",
                            "  <tbody>\n",
                            "    <tr>\n",
                            "      <th>a</th>\n",
                            "      <th>jack</th>\n",
                            "      <td>34</td>\n",
                            "      <td>Sydeny</td>\n",
                            "    </tr>\n",
                            "    <tr>\n",
                            "      <th>b</th>\n",
                            "      <th>Riti</th>\n",
                            "      <td>30</td>\n",
                            "      <td>Delhi</td>\n",
                            "    </tr>\n",
                            "  </tbody>\n",
                            "</table>\n",
                            "</div>"
                        ]
                    },
                    "metadata": {},
                    "execution_count": 106
                }
            ],
            "metadata": {}
        },
        {
            "cell_type": "code",
            "execution_count": null,
            "source": [
                "index = multiidx_df.index\r\n",
                "index"
            ],
            "outputs": [],
            "metadata": {}
        },
        {
            "cell_type": "code",
            "execution_count": 109,
            "source": [
                "subset = multiidx_df.loc[ ('a' , 'jack') ,'Age' : 'City' ]\r\n",
                "# It will return a subset DataFrame with rows from 'a' to 'c' & columns from 'Age' to 'City' i.e.\r\n",
                "subset"
            ],
            "outputs": [
                {
                    "output_type": "execute_result",
                    "data": {
                        "text/plain": [
                            "Age         34\n",
                            "City    Sydeny\n",
                            "Name: (a, jack), dtype: object"
                        ]
                    },
                    "metadata": {},
                    "execution_count": 109
                }
            ],
            "metadata": {}
        },
        {
            "source": [
                "## Pandas Reset Index of DataFrame\n",
                "\n",
                "When you concatenate, sort, join or do some rearrangements with your DataFrame, the index gets shuffled or out of order.\n",
                "\n",
                "To reset the index of a dataframe, you can use pandas.DataFrame.reset_index() method.\n",
                "\n",
                "### Syntax of reset_index()\n",
                "\n",
                "The syntax of DataFrame.reset_index() function is given below.\n",
                "\n",
                ">DataFrame.reset_index(level=None, drop=False, inplace=False, col_level=0, col_fill='')"
            ],
            "cell_type": "markdown",
            "metadata": {}
        },
        {
            "cell_type": "code",
            "execution_count": 92,
            "source": [
                "# reset index\r\n",
                "dfObj.reset_index(drop=True, inplace=True)\r\n",
                "dfObj"
            ],
            "outputs": [
                {
                    "output_type": "execute_result",
                    "data": {
                        "text/plain": [
                            "   Name  Age      City\n",
                            "0  jack   34    Sydeny\n",
                            "1  Riti   30     Delhi\n",
                            "2  Aadi   16  New York"
                        ],
                        "text/html": [
                            "<div>\n",
                            "<style scoped>\n",
                            "    .dataframe tbody tr th:only-of-type {\n",
                            "        vertical-align: middle;\n",
                            "    }\n",
                            "\n",
                            "    .dataframe tbody tr th {\n",
                            "        vertical-align: top;\n",
                            "    }\n",
                            "\n",
                            "    .dataframe thead th {\n",
                            "        text-align: right;\n",
                            "    }\n",
                            "</style>\n",
                            "<table border=\"1\" class=\"dataframe\">\n",
                            "  <thead>\n",
                            "    <tr style=\"text-align: right;\">\n",
                            "      <th></th>\n",
                            "      <th>Name</th>\n",
                            "      <th>Age</th>\n",
                            "      <th>City</th>\n",
                            "    </tr>\n",
                            "  </thead>\n",
                            "  <tbody>\n",
                            "    <tr>\n",
                            "      <th>0</th>\n",
                            "      <td>jack</td>\n",
                            "      <td>34</td>\n",
                            "      <td>Sydeny</td>\n",
                            "    </tr>\n",
                            "    <tr>\n",
                            "      <th>1</th>\n",
                            "      <td>Riti</td>\n",
                            "      <td>30</td>\n",
                            "      <td>Delhi</td>\n",
                            "    </tr>\n",
                            "    <tr>\n",
                            "      <th>2</th>\n",
                            "      <td>Aadi</td>\n",
                            "      <td>16</td>\n",
                            "      <td>New York</td>\n",
                            "    </tr>\n",
                            "  </tbody>\n",
                            "</table>\n",
                            "</div>"
                        ]
                    },
                    "metadata": {},
                    "execution_count": 92
                }
            ],
            "metadata": {}
        },
        {
            "cell_type": "code",
            "execution_count": null,
            "source": [
                "# Def a main function\r\n",
                "def main():\r\n",
                "if __name__ == '__main__':\r\n",
                "    main()"
            ],
            "outputs": [],
            "metadata": {}
        },
        {
            "source": [
                "# MultiIndex / advanced indexing\n",
                "\n",
                "Source:[Website](https://pandas.pydata.org/docs/user_guide/advanced.html)\n",
                "\n",
                "This section covers indexing with a MultiIndex and other advanced indexing features.\n",
                "\n",
                "See the Indexing and Selecting Data for general indexing documentation.\n",
                "\n",
                ">Warning:\n",
                "\n",
                ">Whether a copy or a reference is returned for a setting operation may depend on the context. This is sometimes called >chained assignment and should be avoided. See Returning a View versus Copy.\n",
                "\n",
                "See the cookbook for some advanced strategies.\n",
                "\n",
                "### Hierarchical indexing (MultiIndex)\n",
                "\n",
                "Hierarchical / Multi-level indexing is very exciting as it opens the door to some quite sophisticated data analysis and manipulation, especially for working with higher dimensional data. In essence, it enables you to store and manipulate data with an arbitrary number of dimensions in lower dimensional data structures like Series (1d) and DataFrame (2d).\n",
                "\n",
                "In this section, we will show what exactly we mean by “hierarchical” indexing and how it integrates with all of the pandas indexing functionality described above and in prior sections. Later, when discussing group by and pivoting and reshaping data, we’ll show non-trivial applications to illustrate how it aids in structuring data for analysis.\n",
                "\n",
                "See the cookbook for some advanced strategies.\n",
                "\n",
                "### Creating a MultiIndex (hierarchical index) object\n",
                "\n",
                "The MultiIndex object is the hierarchical analogue of the standard Index object which typically stores the axis labels in pandas objects. You can think of MultiIndex as an array of tuples where each tuple is unique. A MultiIndex can be created from a list of arrays (using MultiIndex.from_arrays()), an array of tuples (using MultiIndex.from_tuples()), a crossed set of iterables (using MultiIndex.from_product()), or a DataFrame (using MultiIndex.from_frame()). The Index constructor will attempt to return a MultiIndex when it is passed a list of tuples. The following examples demonstrate different ways to initialize MultiIndexes."
            ],
            "cell_type": "markdown",
            "metadata": {}
        },
        {
            "cell_type": "code",
            "execution_count": 79,
            "metadata": {},
            "outputs": [
                {
                    "output_type": "execute_result",
                    "data": {
                        "text/plain": [
                            "[('bar', 'one'),\n",
                            " ('bar', 'two'),\n",
                            " ('baz', 'one'),\n",
                            " ('baz', 'two'),\n",
                            " ('foo', 'one'),\n",
                            " ('foo', 'two'),\n",
                            " ('qux', 'one'),\n",
                            " ('qux', 'two')]"
                        ]
                    },
                    "metadata": {},
                    "execution_count": 79
                }
            ],
            "source": [
                "arrays = [\n",
                "         [\"bar\", \"bar\", \"baz\", \"baz\", \"foo\", \"foo\", \"qux\", \"qux\"],\n",
                "         [\"one\", \"two\", \"one\", \"two\", \"one\", \"two\", \"one\", \"two\"]\n",
                "         ]\n",
                "tuples = list(zip(*arrays))\n",
                "tuples"
            ]
        },
        {
            "cell_type": "code",
            "execution_count": 80,
            "metadata": {},
            "outputs": [
                {
                    "output_type": "execute_result",
                    "data": {
                        "text/plain": [
                            "MultiIndex([('bar', 'one'),\n",
                            "            ('bar', 'two'),\n",
                            "            ('baz', 'one'),\n",
                            "            ('baz', 'two'),\n",
                            "            ('foo', 'one'),\n",
                            "            ('foo', 'two'),\n",
                            "            ('qux', 'one'),\n",
                            "            ('qux', 'two')],\n",
                            "           names=['first', 'second'])"
                        ]
                    },
                    "metadata": {},
                    "execution_count": 80
                }
            ],
            "source": [
                "index = pd.MultiIndex.from_tuples(tuples, names=[\"first\", \"second\"])\n",
                "index"
            ]
        },
        {
            "cell_type": "code",
            "execution_count": 82,
            "metadata": {},
            "outputs": [
                {
                    "output_type": "execute_result",
                    "data": {
                        "text/plain": [
                            "first  second\n",
                            "bar    one      -1.478147\n",
                            "       two      -1.352791\n",
                            "baz    one       2.580965\n",
                            "       two      -0.804420\n",
                            "foo    one       0.523965\n",
                            "       two      -0.022875\n",
                            "qux    one       0.452632\n",
                            "       two       0.782408\n",
                            "dtype: float64"
                        ]
                    },
                    "metadata": {},
                    "execution_count": 82
                }
            ],
            "source": [
                "s = pd.Series(np.random.randn(8), index=index)\n",
                "s"
            ]
        },
        {
            "source": [
                "When you want every pairing of the elements in two iterables, it can be easier to use the MultiIndex.from_product() method:"
            ],
            "cell_type": "markdown",
            "metadata": {}
        },
        {
            "cell_type": "code",
            "execution_count": 84,
            "metadata": {},
            "outputs": [
                {
                    "output_type": "execute_result",
                    "data": {
                        "text/plain": [
                            "MultiIndex([('bar', 'one'),\n",
                            "            ('bar', 'two'),\n",
                            "            ('baz', 'one'),\n",
                            "            ('baz', 'two'),\n",
                            "            ('foo', 'one'),\n",
                            "            ('foo', 'two'),\n",
                            "            ('qux', 'one'),\n",
                            "            ('qux', 'two')],\n",
                            "           names=['first', 'second'])"
                        ]
                    },
                    "metadata": {},
                    "execution_count": 84
                }
            ],
            "source": [
                " iterables = [[\"bar\", \"baz\", \"foo\", \"qux\"], [\"one\", \"two\"]]\n",
                " pd.MultiIndex.from_product(iterables, names=[\"first\", \"second\"])"
            ]
        },
        {
            "source": [
                "You can also construct a MultiIndex from a DataFrame directly, using the method MultiIndex.from_frame(). This is a complementary method to MultiIndex.to_frame()."
            ],
            "cell_type": "markdown",
            "metadata": {}
        },
        {
            "cell_type": "code",
            "execution_count": 86,
            "metadata": {},
            "outputs": [
                {
                    "output_type": "execute_result",
                    "data": {
                        "text/plain": [
                            "MultiIndex([('bar', 'one'),\n",
                            "            ('bar', 'two'),\n",
                            "            ('foo', 'one'),\n",
                            "            ('foo', 'two')],\n",
                            "           names=['first', 'second'])"
                        ]
                    },
                    "metadata": {},
                    "execution_count": 86
                }
            ],
            "source": [
                "df = pd.DataFrame([[\"bar\", \"one\"], [\"bar\", \"two\"], [\"foo\", \"one\"], [\"foo\", \"two\"]], columns=[\"first\", \"second\"])\n",
                "pd.MultiIndex.from_frame(df)"
            ]
        },
        {
            "source": [
                "As a convenience, you can pass a list of arrays directly into Series or DataFrame to construct a MultiIndex automatically:"
            ],
            "cell_type": "markdown",
            "metadata": {}
        },
        {
            "cell_type": "code",
            "execution_count": 87,
            "metadata": {},
            "outputs": [
                {
                    "output_type": "execute_result",
                    "data": {
                        "text/plain": [
                            "bar  one   -1.797106\n",
                            "     two   -0.737625\n",
                            "baz  one   -0.232824\n",
                            "     two   -0.024058\n",
                            "foo  one    0.357740\n",
                            "     two   -0.101232\n",
                            "qux  one    1.166176\n",
                            "     two    1.088219\n",
                            "dtype: float64"
                        ]
                    },
                    "metadata": {},
                    "execution_count": 87
                }
            ],
            "source": [
                " arrays = [\n",
                "         np.array([\"bar\", \"bar\", \"baz\", \"baz\", \"foo\", \"foo\", \"qux\", \"qux\"]),\n",
                "         np.array([\"one\", \"two\", \"one\", \"two\", \"one\", \"two\", \"one\", \"two\"])\n",
                "         ]\n",
                " s = pd.Series(np.random.randn(8), index=arrays)\n",
                " s"
            ]
        },
        {
            "cell_type": "code",
            "execution_count": 88,
            "metadata": {},
            "outputs": [
                {
                    "output_type": "execute_result",
                    "data": {
                        "text/plain": [
                            "                0         1         2         3\n",
                            "bar one -0.080210 -0.369492 -0.478812 -0.298867\n",
                            "    two  0.451638  1.388668  0.940596  0.455285\n",
                            "baz one  0.633782 -0.791084  0.420975 -0.007652\n",
                            "    two -0.791739 -0.988791  0.940509  1.164916\n",
                            "foo one  1.138735  1.069375 -0.648297  0.116251\n",
                            "    two  1.431864 -0.254708  0.957014 -1.415579\n",
                            "qux one -0.031022 -0.071966  0.409570 -0.845197\n",
                            "    two -1.038143 -1.121989 -0.103787 -0.508146"
                        ],
                        "text/html": "<div>\n<style scoped>\n    .dataframe tbody tr th:only-of-type {\n        vertical-align: middle;\n    }\n\n    .dataframe tbody tr th {\n        vertical-align: top;\n    }\n\n    .dataframe thead th {\n        text-align: right;\n    }\n</style>\n<table border=\"1\" class=\"dataframe\">\n  <thead>\n    <tr style=\"text-align: right;\">\n      <th></th>\n      <th></th>\n      <th>0</th>\n      <th>1</th>\n      <th>2</th>\n      <th>3</th>\n    </tr>\n  </thead>\n  <tbody>\n    <tr>\n      <th rowspan=\"2\" valign=\"top\">bar</th>\n      <th>one</th>\n      <td>-0.080210</td>\n      <td>-0.369492</td>\n      <td>-0.478812</td>\n      <td>-0.298867</td>\n    </tr>\n    <tr>\n      <th>two</th>\n      <td>0.451638</td>\n      <td>1.388668</td>\n      <td>0.940596</td>\n      <td>0.455285</td>\n    </tr>\n    <tr>\n      <th rowspan=\"2\" valign=\"top\">baz</th>\n      <th>one</th>\n      <td>0.633782</td>\n      <td>-0.791084</td>\n      <td>0.420975</td>\n      <td>-0.007652</td>\n    </tr>\n    <tr>\n      <th>two</th>\n      <td>-0.791739</td>\n      <td>-0.988791</td>\n      <td>0.940509</td>\n      <td>1.164916</td>\n    </tr>\n    <tr>\n      <th rowspan=\"2\" valign=\"top\">foo</th>\n      <th>one</th>\n      <td>1.138735</td>\n      <td>1.069375</td>\n      <td>-0.648297</td>\n      <td>0.116251</td>\n    </tr>\n    <tr>\n      <th>two</th>\n      <td>1.431864</td>\n      <td>-0.254708</td>\n      <td>0.957014</td>\n      <td>-1.415579</td>\n    </tr>\n    <tr>\n      <th rowspan=\"2\" valign=\"top\">qux</th>\n      <th>one</th>\n      <td>-0.031022</td>\n      <td>-0.071966</td>\n      <td>0.409570</td>\n      <td>-0.845197</td>\n    </tr>\n    <tr>\n      <th>two</th>\n      <td>-1.038143</td>\n      <td>-1.121989</td>\n      <td>-0.103787</td>\n      <td>-0.508146</td>\n    </tr>\n  </tbody>\n</table>\n</div>"
                    },
                    "metadata": {},
                    "execution_count": 88
                }
            ],
            "source": [
                "df = pd.DataFrame(np.random.randn(8, 4), index=arrays)\n",
                "df"
            ]
        },
        {
            "source": [
                "All of the MultiIndex constructors accept a names argument which stores string names for the levels themselves. If no names are provided, None will be assigned:"
            ],
            "cell_type": "markdown",
            "metadata": {}
        },
        {
            "cell_type": "code",
            "execution_count": 89,
            "metadata": {},
            "outputs": [
                {
                    "output_type": "execute_result",
                    "data": {
                        "text/plain": [
                            "FrozenList([None, None])"
                        ]
                    },
                    "metadata": {},
                    "execution_count": 89
                }
            ],
            "source": [
                " df.index.names"
            ]
        },
        {
            "source": [
                "This index can back any axis of a pandas object, and the number of levels of the index is up to you:"
            ],
            "cell_type": "markdown",
            "metadata": {}
        },
        {
            "cell_type": "code",
            "execution_count": 90,
            "metadata": {},
            "outputs": [
                {
                    "output_type": "execute_result",
                    "data": {
                        "text/plain": [
                            "first        bar                 baz                 foo                 qux  \\\n",
                            "second       one       two       one       two       one       two       one   \n",
                            "A      -0.259651  0.963181  1.675700 -0.304849  0.646670 -0.502411 -1.182101   \n",
                            "B       0.278600  0.357024 -1.083407 -1.333659  0.485616  1.485936 -0.096224   \n",
                            "C      -0.653120  0.159799 -0.708887  0.304110 -1.323304 -0.223076  0.732673   \n",
                            "\n",
                            "first             \n",
                            "second       two  \n",
                            "A      -2.011454  \n",
                            "B       0.792112  \n",
                            "C      -2.214595  "
                        ],
                        "text/html": "<div>\n<style scoped>\n    .dataframe tbody tr th:only-of-type {\n        vertical-align: middle;\n    }\n\n    .dataframe tbody tr th {\n        vertical-align: top;\n    }\n\n    .dataframe thead tr th {\n        text-align: left;\n    }\n</style>\n<table border=\"1\" class=\"dataframe\">\n  <thead>\n    <tr>\n      <th>first</th>\n      <th colspan=\"2\" halign=\"left\">bar</th>\n      <th colspan=\"2\" halign=\"left\">baz</th>\n      <th colspan=\"2\" halign=\"left\">foo</th>\n      <th colspan=\"2\" halign=\"left\">qux</th>\n    </tr>\n    <tr>\n      <th>second</th>\n      <th>one</th>\n      <th>two</th>\n      <th>one</th>\n      <th>two</th>\n      <th>one</th>\n      <th>two</th>\n      <th>one</th>\n      <th>two</th>\n    </tr>\n  </thead>\n  <tbody>\n    <tr>\n      <th>A</th>\n      <td>-0.259651</td>\n      <td>0.963181</td>\n      <td>1.675700</td>\n      <td>-0.304849</td>\n      <td>0.646670</td>\n      <td>-0.502411</td>\n      <td>-1.182101</td>\n      <td>-2.011454</td>\n    </tr>\n    <tr>\n      <th>B</th>\n      <td>0.278600</td>\n      <td>0.357024</td>\n      <td>-1.083407</td>\n      <td>-1.333659</td>\n      <td>0.485616</td>\n      <td>1.485936</td>\n      <td>-0.096224</td>\n      <td>0.792112</td>\n    </tr>\n    <tr>\n      <th>C</th>\n      <td>-0.653120</td>\n      <td>0.159799</td>\n      <td>-0.708887</td>\n      <td>0.304110</td>\n      <td>-1.323304</td>\n      <td>-0.223076</td>\n      <td>0.732673</td>\n      <td>-2.214595</td>\n    </tr>\n  </tbody>\n</table>\n</div>"
                    },
                    "metadata": {},
                    "execution_count": 90
                }
            ],
            "source": [
                "df = pd.DataFrame(np.random.randn(3, 8), index=[\"A\", \"B\", \"C\"], columns=index)\n",
                "df"
            ]
        },
        {
            "cell_type": "code",
            "execution_count": 91,
            "metadata": {},
            "outputs": [
                {
                    "output_type": "execute_result",
                    "data": {
                        "text/plain": [
                            "first              bar                 baz                 foo          \n",
                            "second             one       two       one       two       one       two\n",
                            "first second                                                            \n",
                            "bar   one    -1.466511  0.212572 -0.889408  1.051375 -2.265290  0.007282\n",
                            "      two     1.734695  1.243289 -1.677496 -1.059324  2.276390 -0.637450\n",
                            "baz   one    -0.661013  0.743295 -0.014851  0.533944 -1.103464 -0.250764\n",
                            "      two     0.036594  1.328393  0.565494  0.329937 -1.421584 -1.069910\n",
                            "foo   one    -0.870426 -2.186741  1.964949 -1.921937 -0.128138  0.762425\n",
                            "      two     0.213391 -0.526124  0.064484 -0.777507 -0.654736 -1.114678"
                        ],
                        "text/html": "<div>\n<style scoped>\n    .dataframe tbody tr th:only-of-type {\n        vertical-align: middle;\n    }\n\n    .dataframe tbody tr th {\n        vertical-align: top;\n    }\n\n    .dataframe thead tr th {\n        text-align: left;\n    }\n\n    .dataframe thead tr:last-of-type th {\n        text-align: right;\n    }\n</style>\n<table border=\"1\" class=\"dataframe\">\n  <thead>\n    <tr>\n      <th></th>\n      <th>first</th>\n      <th colspan=\"2\" halign=\"left\">bar</th>\n      <th colspan=\"2\" halign=\"left\">baz</th>\n      <th colspan=\"2\" halign=\"left\">foo</th>\n    </tr>\n    <tr>\n      <th></th>\n      <th>second</th>\n      <th>one</th>\n      <th>two</th>\n      <th>one</th>\n      <th>two</th>\n      <th>one</th>\n      <th>two</th>\n    </tr>\n    <tr>\n      <th>first</th>\n      <th>second</th>\n      <th></th>\n      <th></th>\n      <th></th>\n      <th></th>\n      <th></th>\n      <th></th>\n    </tr>\n  </thead>\n  <tbody>\n    <tr>\n      <th rowspan=\"2\" valign=\"top\">bar</th>\n      <th>one</th>\n      <td>-1.466511</td>\n      <td>0.212572</td>\n      <td>-0.889408</td>\n      <td>1.051375</td>\n      <td>-2.265290</td>\n      <td>0.007282</td>\n    </tr>\n    <tr>\n      <th>two</th>\n      <td>1.734695</td>\n      <td>1.243289</td>\n      <td>-1.677496</td>\n      <td>-1.059324</td>\n      <td>2.276390</td>\n      <td>-0.637450</td>\n    </tr>\n    <tr>\n      <th rowspan=\"2\" valign=\"top\">baz</th>\n      <th>one</th>\n      <td>-0.661013</td>\n      <td>0.743295</td>\n      <td>-0.014851</td>\n      <td>0.533944</td>\n      <td>-1.103464</td>\n      <td>-0.250764</td>\n    </tr>\n    <tr>\n      <th>two</th>\n      <td>0.036594</td>\n      <td>1.328393</td>\n      <td>0.565494</td>\n      <td>0.329937</td>\n      <td>-1.421584</td>\n      <td>-1.069910</td>\n    </tr>\n    <tr>\n      <th rowspan=\"2\" valign=\"top\">foo</th>\n      <th>one</th>\n      <td>-0.870426</td>\n      <td>-2.186741</td>\n      <td>1.964949</td>\n      <td>-1.921937</td>\n      <td>-0.128138</td>\n      <td>0.762425</td>\n    </tr>\n    <tr>\n      <th>two</th>\n      <td>0.213391</td>\n      <td>-0.526124</td>\n      <td>0.064484</td>\n      <td>-0.777507</td>\n      <td>-0.654736</td>\n      <td>-1.114678</td>\n    </tr>\n  </tbody>\n</table>\n</div>"
                    },
                    "metadata": {},
                    "execution_count": 91
                }
            ],
            "source": [
                "pd.DataFrame(np.random.randn(6, 6), index=index[:6], columns=index[:6])"
            ]
        },
        {
            "source": [
                "We’ve “sparsified” the higher levels of the indexes to make the console output a bit easier on the eyes. Note that how the index is displayed can be controlled using the multi_sparse option in pandas.set_options():"
            ],
            "cell_type": "markdown",
            "metadata": {}
        },
        {
            "cell_type": "code",
            "execution_count": 92,
            "metadata": {},
            "outputs": [],
            "source": [
                "with pd.option_context(\"display.multi_sparse\", False):\n",
                "    df"
            ]
        },
        {
            "source": [
                "It’s worth keeping in mind that there’s nothing preventing you from using tuples as atomic labels on an axis:"
            ],
            "cell_type": "markdown",
            "metadata": {}
        },
        {
            "cell_type": "code",
            "execution_count": 93,
            "metadata": {},
            "outputs": [
                {
                    "output_type": "execute_result",
                    "data": {
                        "text/plain": [
                            "(bar, one)    0.914080\n",
                            "(bar, two)   -2.467238\n",
                            "(baz, one)   -1.645765\n",
                            "(baz, two)   -0.737904\n",
                            "(foo, one)    0.930063\n",
                            "(foo, two)   -0.368896\n",
                            "(qux, one)    0.264107\n",
                            "(qux, two)    0.544208\n",
                            "dtype: float64"
                        ]
                    },
                    "metadata": {},
                    "execution_count": 93
                }
            ],
            "source": [
                "pd.Series(np.random.randn(8), index=tuples)"
            ]
        },
        {
            "source": [
                "The reason that the MultiIndex matters is that it can allow you to do grouping, selection, and reshaping operations as we will describe below and in subsequent areas of the documentation. As you will see in later sections, you can find yourself working with hierarchically-indexed data without creating a MultiIndex explicitly yourself. However, when loading data from a file, you may wish to generate your own MultiIndex when preparing the data set.\n",
                "\n",
                "## Reconstructing the level labels\n",
                "\n",
                "The method get_level_values() will return a vector of the labels for each location at a particular level:"
            ],
            "cell_type": "markdown",
            "metadata": {}
        },
        {
            "cell_type": "code",
            "execution_count": 95,
            "metadata": {},
            "outputs": [
                {
                    "output_type": "execute_result",
                    "data": {
                        "text/plain": [
                            "Index(['bar', 'bar', 'baz', 'baz', 'foo', 'foo', 'qux', 'qux'], dtype='object', name='first')"
                        ]
                    },
                    "metadata": {},
                    "execution_count": 95
                }
            ],
            "source": [
                "index.get_level_values(0)"
            ]
        },
        {
            "cell_type": "code",
            "execution_count": 96,
            "metadata": {},
            "outputs": [
                {
                    "output_type": "execute_result",
                    "data": {
                        "text/plain": [
                            "Index(['one', 'two', 'one', 'two', 'one', 'two', 'one', 'two'], dtype='object', name='second')"
                        ]
                    },
                    "metadata": {},
                    "execution_count": 96
                }
            ],
            "source": [
                "index.get_level_values(\"second\")"
            ]
        },
        {
            "source": [
                "## Basic indexing on axis with MultiIndex\n",
                "\n",
                "One of the important features of hierarchical indexing is that you can select data by a “partial” label identifying a subgroup in the data. Partial selection “drops” levels of the hierarchical index in the result in a completely analogous way to selecting a column in a regular DataFrame:"
            ],
            "cell_type": "markdown",
            "metadata": {}
        },
        {
            "cell_type": "code",
            "execution_count": 97,
            "metadata": {},
            "outputs": [
                {
                    "output_type": "execute_result",
                    "data": {
                        "text/plain": [
                            "second       one       two\n",
                            "A      -0.259651  0.963181\n",
                            "B       0.278600  0.357024\n",
                            "C      -0.653120  0.159799"
                        ],
                        "text/html": "<div>\n<style scoped>\n    .dataframe tbody tr th:only-of-type {\n        vertical-align: middle;\n    }\n\n    .dataframe tbody tr th {\n        vertical-align: top;\n    }\n\n    .dataframe thead th {\n        text-align: right;\n    }\n</style>\n<table border=\"1\" class=\"dataframe\">\n  <thead>\n    <tr style=\"text-align: right;\">\n      <th>second</th>\n      <th>one</th>\n      <th>two</th>\n    </tr>\n  </thead>\n  <tbody>\n    <tr>\n      <th>A</th>\n      <td>-0.259651</td>\n      <td>0.963181</td>\n    </tr>\n    <tr>\n      <th>B</th>\n      <td>0.278600</td>\n      <td>0.357024</td>\n    </tr>\n    <tr>\n      <th>C</th>\n      <td>-0.653120</td>\n      <td>0.159799</td>\n    </tr>\n  </tbody>\n</table>\n</div>"
                    },
                    "metadata": {},
                    "execution_count": 97
                }
            ],
            "source": [
                "df[\"bar\"]"
            ]
        },
        {
            "cell_type": "code",
            "execution_count": 98,
            "metadata": {},
            "outputs": [
                {
                    "output_type": "execute_result",
                    "data": {
                        "text/plain": [
                            "A   -0.259651\n",
                            "B    0.278600\n",
                            "C   -0.653120\n",
                            "Name: (bar, one), dtype: float64"
                        ]
                    },
                    "metadata": {},
                    "execution_count": 98
                }
            ],
            "source": [
                "df[\"bar\", \"one\"]"
            ]
        },
        {
            "cell_type": "code",
            "execution_count": 99,
            "metadata": {},
            "outputs": [
                {
                    "output_type": "execute_result",
                    "data": {
                        "text/plain": [
                            "A   -0.259651\n",
                            "B    0.278600\n",
                            "C   -0.653120\n",
                            "Name: one, dtype: float64"
                        ]
                    },
                    "metadata": {},
                    "execution_count": 99
                }
            ],
            "source": [
                "df[\"bar\"][\"one\"]"
            ]
        },
        {
            "cell_type": "code",
            "execution_count": 100,
            "metadata": {},
            "outputs": [
                {
                    "output_type": "execute_result",
                    "data": {
                        "text/plain": [
                            "one    1.166176\n",
                            "two    1.088219\n",
                            "dtype: float64"
                        ]
                    },
                    "metadata": {},
                    "execution_count": 100
                }
            ],
            "source": [
                "s[\"qux\"]"
            ]
        },
        {
            "source": [
                "See Cross-section with hierarchical index for how to select on a deeper level.\n",
                "\n",
                "## Defined levels\n",
                "\n",
                "The MultiIndex keeps all the defined levels of an index, even if they are not actually used. When slicing an index, you may notice this. For example:"
            ],
            "cell_type": "markdown",
            "metadata": {}
        },
        {
            "cell_type": "code",
            "execution_count": 101,
            "metadata": {},
            "outputs": [
                {
                    "output_type": "execute_result",
                    "data": {
                        "text/plain": [
                            "FrozenList([['bar', 'baz', 'foo', 'qux'], ['one', 'two']])"
                        ]
                    },
                    "metadata": {},
                    "execution_count": 101
                }
            ],
            "source": [
                "df.columns.levels  # original MultiIndex"
            ]
        },
        {
            "cell_type": "code",
            "execution_count": 102,
            "metadata": {},
            "outputs": [
                {
                    "output_type": "execute_result",
                    "data": {
                        "text/plain": [
                            "FrozenList([['bar', 'baz', 'foo', 'qux'], ['one', 'two']])"
                        ]
                    },
                    "metadata": {},
                    "execution_count": 102
                }
            ],
            "source": [
                "df[[\"foo\",\"qux\"]].columns.levels  # sliced"
            ]
        },
        {
            "source": [
                "This is done to avoid a recomputation of the levels in order to make slicing highly performant. If you want to see only the used levels, you can use the get_level_values() method."
            ],
            "cell_type": "markdown",
            "metadata": {}
        },
        {
            "cell_type": "code",
            "execution_count": 103,
            "metadata": {},
            "outputs": [
                {
                    "output_type": "execute_result",
                    "data": {
                        "text/plain": [
                            "array([('foo', 'one'), ('foo', 'two'), ('qux', 'one'), ('qux', 'two')],\n",
                            "      dtype=object)"
                        ]
                    },
                    "metadata": {},
                    "execution_count": 103
                }
            ],
            "source": [
                "df[[\"foo\", \"qux\"]].columns.to_numpy()"
            ]
        },
        {
            "cell_type": "code",
            "execution_count": 104,
            "metadata": {},
            "outputs": [
                {
                    "output_type": "execute_result",
                    "data": {
                        "text/plain": [
                            "Index(['foo', 'foo', 'qux', 'qux'], dtype='object', name='first')"
                        ]
                    },
                    "metadata": {},
                    "execution_count": 104
                }
            ],
            "source": [
                "# for a specific level\n",
                "df[[\"foo\", \"qux\"]].columns.get_level_values(0)"
            ]
        },
        {
            "source": [
                "To reconstruct the MultiIndex with only the used levels, the remove_unused_levels() method may be used."
            ],
            "cell_type": "markdown",
            "metadata": {}
        },
        {
            "cell_type": "code",
            "execution_count": 105,
            "metadata": {},
            "outputs": [
                {
                    "output_type": "execute_result",
                    "data": {
                        "text/plain": [
                            "FrozenList([['foo', 'qux'], ['one', 'two']])"
                        ]
                    },
                    "metadata": {},
                    "execution_count": 105
                }
            ],
            "source": [
                "new_mi = df[[\"foo\", \"qux\"]].columns.remove_unused_levels()\n",
                "new_mi.levels"
            ]
        },
        {
            "source": [
                "## Data alignment and using reindex\n",
                "\n",
                "Operations between differently-indexed objects having MultiIndex on the axes will work as you expect; data alignment will work the same as an Index of tuples:"
            ],
            "cell_type": "markdown",
            "metadata": {}
        },
        {
            "cell_type": "code",
            "execution_count": 107,
            "metadata": {},
            "outputs": [
                {
                    "output_type": "execute_result",
                    "data": {
                        "text/plain": [
                            "bar  one   -3.594213\n",
                            "     two   -1.475251\n",
                            "baz  one   -0.465648\n",
                            "     two   -0.048116\n",
                            "foo  one    0.715480\n",
                            "     two   -0.202465\n",
                            "qux  one         NaN\n",
                            "     two         NaN\n",
                            "dtype: float64"
                        ]
                    },
                    "metadata": {},
                    "execution_count": 107
                }
            ],
            "source": [
                "s + s[:-2]"
            ]
        },
        {
            "cell_type": "code",
            "execution_count": 108,
            "metadata": {},
            "outputs": [
                {
                    "output_type": "execute_result",
                    "data": {
                        "text/plain": [
                            "bar  one   -3.594213\n",
                            "     two         NaN\n",
                            "baz  one   -0.465648\n",
                            "     two         NaN\n",
                            "foo  one    0.715480\n",
                            "     two         NaN\n",
                            "qux  one    2.332353\n",
                            "     two         NaN\n",
                            "dtype: float64"
                        ]
                    },
                    "metadata": {},
                    "execution_count": 108
                }
            ],
            "source": [
                "s + s[::2]"
            ]
        },
        {
            "source": [
                "The reindex() method of Series/DataFrames can be called with another MultiIndex, or even a list or array of tuples:"
            ],
            "cell_type": "markdown",
            "metadata": {}
        },
        {
            "cell_type": "code",
            "execution_count": 109,
            "metadata": {},
            "outputs": [
                {
                    "output_type": "execute_result",
                    "data": {
                        "text/plain": [
                            "first  second\n",
                            "bar    one      -1.797106\n",
                            "       two      -0.737625\n",
                            "baz    one      -0.232824\n",
                            "dtype: float64"
                        ]
                    },
                    "metadata": {},
                    "execution_count": 109
                }
            ],
            "source": [
                "s.reindex(index[:3])"
            ]
        },
        {
            "cell_type": "code",
            "execution_count": 110,
            "metadata": {},
            "outputs": [
                {
                    "output_type": "execute_result",
                    "data": {
                        "text/plain": [
                            "foo  two   -0.101232\n",
                            "bar  one   -1.797106\n",
                            "qux  one    1.166176\n",
                            "baz  one   -0.232824\n",
                            "dtype: float64"
                        ]
                    },
                    "metadata": {},
                    "execution_count": 110
                }
            ],
            "source": [
                "s.reindex([(\"foo\", \"two\"), (\"bar\", \"one\"), (\"qux\", \"one\"), (\"baz\", \"one\")])"
            ]
        },
        {
            "source": [
                "## Advanced indexing with hierarchical index\n",
                "\n",
                "Syntactically integrating MultiIndex in advanced indexing with .loc is a bit challenging, but we’ve made every effort to do so. In general, MultiIndex keys take the form of tuples. For example, the following works as you would expect:"
            ],
            "cell_type": "markdown",
            "metadata": {}
        },
        {
            "cell_type": "code",
            "execution_count": 111,
            "metadata": {},
            "outputs": [
                {
                    "output_type": "execute_result",
                    "data": {
                        "text/plain": [
                            "                     A         B         C\n",
                            "first second                              \n",
                            "bar   one    -0.259651  0.278600 -0.653120\n",
                            "      two     0.963181  0.357024  0.159799\n",
                            "baz   one     1.675700 -1.083407 -0.708887\n",
                            "      two    -0.304849 -1.333659  0.304110\n",
                            "foo   one     0.646670  0.485616 -1.323304\n",
                            "      two    -0.502411  1.485936 -0.223076\n",
                            "qux   one    -1.182101 -0.096224  0.732673\n",
                            "      two    -2.011454  0.792112 -2.214595"
                        ],
                        "text/html": "<div>\n<style scoped>\n    .dataframe tbody tr th:only-of-type {\n        vertical-align: middle;\n    }\n\n    .dataframe tbody tr th {\n        vertical-align: top;\n    }\n\n    .dataframe thead th {\n        text-align: right;\n    }\n</style>\n<table border=\"1\" class=\"dataframe\">\n  <thead>\n    <tr style=\"text-align: right;\">\n      <th></th>\n      <th></th>\n      <th>A</th>\n      <th>B</th>\n      <th>C</th>\n    </tr>\n    <tr>\n      <th>first</th>\n      <th>second</th>\n      <th></th>\n      <th></th>\n      <th></th>\n    </tr>\n  </thead>\n  <tbody>\n    <tr>\n      <th rowspan=\"2\" valign=\"top\">bar</th>\n      <th>one</th>\n      <td>-0.259651</td>\n      <td>0.278600</td>\n      <td>-0.653120</td>\n    </tr>\n    <tr>\n      <th>two</th>\n      <td>0.963181</td>\n      <td>0.357024</td>\n      <td>0.159799</td>\n    </tr>\n    <tr>\n      <th rowspan=\"2\" valign=\"top\">baz</th>\n      <th>one</th>\n      <td>1.675700</td>\n      <td>-1.083407</td>\n      <td>-0.708887</td>\n    </tr>\n    <tr>\n      <th>two</th>\n      <td>-0.304849</td>\n      <td>-1.333659</td>\n      <td>0.304110</td>\n    </tr>\n    <tr>\n      <th rowspan=\"2\" valign=\"top\">foo</th>\n      <th>one</th>\n      <td>0.646670</td>\n      <td>0.485616</td>\n      <td>-1.323304</td>\n    </tr>\n    <tr>\n      <th>two</th>\n      <td>-0.502411</td>\n      <td>1.485936</td>\n      <td>-0.223076</td>\n    </tr>\n    <tr>\n      <th rowspan=\"2\" valign=\"top\">qux</th>\n      <th>one</th>\n      <td>-1.182101</td>\n      <td>-0.096224</td>\n      <td>0.732673</td>\n    </tr>\n    <tr>\n      <th>two</th>\n      <td>-2.011454</td>\n      <td>0.792112</td>\n      <td>-2.214595</td>\n    </tr>\n  </tbody>\n</table>\n</div>"
                    },
                    "metadata": {},
                    "execution_count": 111
                }
            ],
            "source": [
                "df = df.T\n",
                "df"
            ]
        },
        {
            "cell_type": "code",
            "execution_count": 112,
            "metadata": {},
            "outputs": [
                {
                    "output_type": "execute_result",
                    "data": {
                        "text/plain": [
                            "A    0.963181\n",
                            "B    0.357024\n",
                            "C    0.159799\n",
                            "Name: (bar, two), dtype: float64"
                        ]
                    },
                    "metadata": {},
                    "execution_count": 112
                }
            ],
            "source": [
                "df.loc[(\"bar\", \"two\")]"
            ]
        },
        {
            "source": [
                "Note that df.loc\\['bar', 'two'\\] would also work in this example, but this shorthand notation can lead to ambiguity in general.\n",
                "\n",
                "If you also want to index a specific column with .loc, you must use a tuple like this:"
            ],
            "cell_type": "markdown",
            "metadata": {}
        },
        {
            "cell_type": "code",
            "execution_count": 113,
            "metadata": {},
            "outputs": [
                {
                    "output_type": "execute_result",
                    "data": {
                        "text/plain": [
                            "0.9631813854861432"
                        ]
                    },
                    "metadata": {},
                    "execution_count": 113
                }
            ],
            "source": [
                "df.loc[(\"bar\", \"two\"), \"A\"]"
            ]
        },
        {
            "source": [
                "You don’t have to specify all levels of the MultiIndex by passing only the first elements of the tuple. For example, you can use “partial” indexing to get all elements with bar in the first level as follows:"
            ],
            "cell_type": "markdown",
            "metadata": {}
        },
        {
            "cell_type": "code",
            "execution_count": 114,
            "metadata": {},
            "outputs": [
                {
                    "output_type": "execute_result",
                    "data": {
                        "text/plain": [
                            "               A         B         C\n",
                            "second                              \n",
                            "one    -0.259651  0.278600 -0.653120\n",
                            "two     0.963181  0.357024  0.159799"
                        ],
                        "text/html": "<div>\n<style scoped>\n    .dataframe tbody tr th:only-of-type {\n        vertical-align: middle;\n    }\n\n    .dataframe tbody tr th {\n        vertical-align: top;\n    }\n\n    .dataframe thead th {\n        text-align: right;\n    }\n</style>\n<table border=\"1\" class=\"dataframe\">\n  <thead>\n    <tr style=\"text-align: right;\">\n      <th></th>\n      <th>A</th>\n      <th>B</th>\n      <th>C</th>\n    </tr>\n    <tr>\n      <th>second</th>\n      <th></th>\n      <th></th>\n      <th></th>\n    </tr>\n  </thead>\n  <tbody>\n    <tr>\n      <th>one</th>\n      <td>-0.259651</td>\n      <td>0.278600</td>\n      <td>-0.653120</td>\n    </tr>\n    <tr>\n      <th>two</th>\n      <td>0.963181</td>\n      <td>0.357024</td>\n      <td>0.159799</td>\n    </tr>\n  </tbody>\n</table>\n</div>"
                    },
                    "metadata": {},
                    "execution_count": 114
                }
            ],
            "source": [
                "df.loc[\"bar\"]"
            ]
        },
        {
            "source": [
                "This is a shortcut for the slightly more verbose notation df.loc[('bar',),] (equivalent to df.loc['bar',] in this example).\n",
                "\n",
                "“Partial” slicing also works quite nicely."
            ],
            "cell_type": "markdown",
            "metadata": {}
        },
        {
            "cell_type": "code",
            "execution_count": 115,
            "metadata": {},
            "outputs": [
                {
                    "output_type": "execute_result",
                    "data": {
                        "text/plain": [
                            "                     A         B         C\n",
                            "first second                              \n",
                            "baz   one     1.675700 -1.083407 -0.708887\n",
                            "      two    -0.304849 -1.333659  0.304110\n",
                            "foo   one     0.646670  0.485616 -1.323304\n",
                            "      two    -0.502411  1.485936 -0.223076"
                        ],
                        "text/html": "<div>\n<style scoped>\n    .dataframe tbody tr th:only-of-type {\n        vertical-align: middle;\n    }\n\n    .dataframe tbody tr th {\n        vertical-align: top;\n    }\n\n    .dataframe thead th {\n        text-align: right;\n    }\n</style>\n<table border=\"1\" class=\"dataframe\">\n  <thead>\n    <tr style=\"text-align: right;\">\n      <th></th>\n      <th></th>\n      <th>A</th>\n      <th>B</th>\n      <th>C</th>\n    </tr>\n    <tr>\n      <th>first</th>\n      <th>second</th>\n      <th></th>\n      <th></th>\n      <th></th>\n    </tr>\n  </thead>\n  <tbody>\n    <tr>\n      <th rowspan=\"2\" valign=\"top\">baz</th>\n      <th>one</th>\n      <td>1.675700</td>\n      <td>-1.083407</td>\n      <td>-0.708887</td>\n    </tr>\n    <tr>\n      <th>two</th>\n      <td>-0.304849</td>\n      <td>-1.333659</td>\n      <td>0.304110</td>\n    </tr>\n    <tr>\n      <th rowspan=\"2\" valign=\"top\">foo</th>\n      <th>one</th>\n      <td>0.646670</td>\n      <td>0.485616</td>\n      <td>-1.323304</td>\n    </tr>\n    <tr>\n      <th>two</th>\n      <td>-0.502411</td>\n      <td>1.485936</td>\n      <td>-0.223076</td>\n    </tr>\n  </tbody>\n</table>\n</div>"
                    },
                    "metadata": {},
                    "execution_count": 115
                }
            ],
            "source": [
                "df.loc[\"baz\":\"foo\"]"
            ]
        },
        {
            "source": [
                "You can slice with a ‘range’ of values, by providing a slice of tuples."
            ],
            "cell_type": "markdown",
            "metadata": {}
        },
        {
            "cell_type": "code",
            "execution_count": 116,
            "metadata": {},
            "outputs": [
                {
                    "output_type": "execute_result",
                    "data": {
                        "text/plain": [
                            "                     A         B         C\n",
                            "first second                              \n",
                            "baz   two    -0.304849 -1.333659  0.304110\n",
                            "foo   one     0.646670  0.485616 -1.323304\n",
                            "      two    -0.502411  1.485936 -0.223076\n",
                            "qux   one    -1.182101 -0.096224  0.732673"
                        ],
                        "text/html": "<div>\n<style scoped>\n    .dataframe tbody tr th:only-of-type {\n        vertical-align: middle;\n    }\n\n    .dataframe tbody tr th {\n        vertical-align: top;\n    }\n\n    .dataframe thead th {\n        text-align: right;\n    }\n</style>\n<table border=\"1\" class=\"dataframe\">\n  <thead>\n    <tr style=\"text-align: right;\">\n      <th></th>\n      <th></th>\n      <th>A</th>\n      <th>B</th>\n      <th>C</th>\n    </tr>\n    <tr>\n      <th>first</th>\n      <th>second</th>\n      <th></th>\n      <th></th>\n      <th></th>\n    </tr>\n  </thead>\n  <tbody>\n    <tr>\n      <th>baz</th>\n      <th>two</th>\n      <td>-0.304849</td>\n      <td>-1.333659</td>\n      <td>0.304110</td>\n    </tr>\n    <tr>\n      <th rowspan=\"2\" valign=\"top\">foo</th>\n      <th>one</th>\n      <td>0.646670</td>\n      <td>0.485616</td>\n      <td>-1.323304</td>\n    </tr>\n    <tr>\n      <th>two</th>\n      <td>-0.502411</td>\n      <td>1.485936</td>\n      <td>-0.223076</td>\n    </tr>\n    <tr>\n      <th>qux</th>\n      <th>one</th>\n      <td>-1.182101</td>\n      <td>-0.096224</td>\n      <td>0.732673</td>\n    </tr>\n  </tbody>\n</table>\n</div>"
                    },
                    "metadata": {},
                    "execution_count": 116
                }
            ],
            "source": [
                "df.loc[(\"baz\", \"two\"):(\"qux\", \"one\")]"
            ]
        },
        {
            "cell_type": "code",
            "execution_count": 117,
            "metadata": {},
            "outputs": [
                {
                    "output_type": "execute_result",
                    "data": {
                        "text/plain": [
                            "                     A         B         C\n",
                            "first second                              \n",
                            "baz   two    -0.304849 -1.333659  0.304110\n",
                            "foo   one     0.646670  0.485616 -1.323304\n",
                            "      two    -0.502411  1.485936 -0.223076"
                        ],
                        "text/html": "<div>\n<style scoped>\n    .dataframe tbody tr th:only-of-type {\n        vertical-align: middle;\n    }\n\n    .dataframe tbody tr th {\n        vertical-align: top;\n    }\n\n    .dataframe thead th {\n        text-align: right;\n    }\n</style>\n<table border=\"1\" class=\"dataframe\">\n  <thead>\n    <tr style=\"text-align: right;\">\n      <th></th>\n      <th></th>\n      <th>A</th>\n      <th>B</th>\n      <th>C</th>\n    </tr>\n    <tr>\n      <th>first</th>\n      <th>second</th>\n      <th></th>\n      <th></th>\n      <th></th>\n    </tr>\n  </thead>\n  <tbody>\n    <tr>\n      <th>baz</th>\n      <th>two</th>\n      <td>-0.304849</td>\n      <td>-1.333659</td>\n      <td>0.304110</td>\n    </tr>\n    <tr>\n      <th rowspan=\"2\" valign=\"top\">foo</th>\n      <th>one</th>\n      <td>0.646670</td>\n      <td>0.485616</td>\n      <td>-1.323304</td>\n    </tr>\n    <tr>\n      <th>two</th>\n      <td>-0.502411</td>\n      <td>1.485936</td>\n      <td>-0.223076</td>\n    </tr>\n  </tbody>\n</table>\n</div>"
                    },
                    "metadata": {},
                    "execution_count": 117
                }
            ],
            "source": [
                "df.loc[(\"baz\", \"two\"):\"foo\"]"
            ]
        },
        {
            "source": [
                "Passing a list of labels or tuples works similar to reindexing:"
            ],
            "cell_type": "markdown",
            "metadata": {}
        },
        {
            "cell_type": "code",
            "execution_count": 118,
            "metadata": {},
            "outputs": [
                {
                    "output_type": "execute_result",
                    "data": {
                        "text/plain": [
                            "                     A         B         C\n",
                            "first second                              \n",
                            "bar   two     0.963181  0.357024  0.159799\n",
                            "qux   one    -1.182101 -0.096224  0.732673"
                        ],
                        "text/html": "<div>\n<style scoped>\n    .dataframe tbody tr th:only-of-type {\n        vertical-align: middle;\n    }\n\n    .dataframe tbody tr th {\n        vertical-align: top;\n    }\n\n    .dataframe thead th {\n        text-align: right;\n    }\n</style>\n<table border=\"1\" class=\"dataframe\">\n  <thead>\n    <tr style=\"text-align: right;\">\n      <th></th>\n      <th></th>\n      <th>A</th>\n      <th>B</th>\n      <th>C</th>\n    </tr>\n    <tr>\n      <th>first</th>\n      <th>second</th>\n      <th></th>\n      <th></th>\n      <th></th>\n    </tr>\n  </thead>\n  <tbody>\n    <tr>\n      <th>bar</th>\n      <th>two</th>\n      <td>0.963181</td>\n      <td>0.357024</td>\n      <td>0.159799</td>\n    </tr>\n    <tr>\n      <th>qux</th>\n      <th>one</th>\n      <td>-1.182101</td>\n      <td>-0.096224</td>\n      <td>0.732673</td>\n    </tr>\n  </tbody>\n</table>\n</div>"
                    },
                    "metadata": {},
                    "execution_count": 118
                }
            ],
            "source": [
                "df.loc[[(\"bar\", \"two\"), (\"qux\", \"one\")]]"
            ]
        },
        {
            "source": [
                "> Note:\n",
                "\n",
                "> It is important to note that tuples and lists are not treated identically in pandas when it comes to indexing. Whereas a tuple is interpreted as one multi-level key, a list is used to specify several keys. Or in other words, tuples go horizontally (traversing levels), lists go vertically (scanning levels).\n",
                "\n",
                "Importantly, a list of tuples indexes several complete MultiIndex keys, whereas a tuple of lists refer to several values within a level:"
            ],
            "cell_type": "markdown",
            "metadata": {}
        },
        {
            "cell_type": "code",
            "execution_count": 119,
            "metadata": {},
            "outputs": [
                {
                    "output_type": "execute_result",
                    "data": {
                        "text/plain": [
                            "A  c    1\n",
                            "   d    2\n",
                            "   e    3\n",
                            "B  c    4\n",
                            "   d    5\n",
                            "   e    6\n",
                            "dtype: int64"
                        ]
                    },
                    "metadata": {},
                    "execution_count": 119
                }
            ],
            "source": [
                "s = pd.Series([1, 2, 3, 4, 5, 6], index=pd.MultiIndex.from_product([[\"A\", \"B\"], [\"c\", \"d\", \"e\"]]))\n",
                "s"
            ]
        },
        {
            "cell_type": "code",
            "execution_count": 120,
            "metadata": {},
            "outputs": [
                {
                    "output_type": "execute_result",
                    "data": {
                        "text/plain": [
                            "A  c    1\n",
                            "B  d    5\n",
                            "dtype: int64"
                        ]
                    },
                    "metadata": {},
                    "execution_count": 120
                }
            ],
            "source": [
                "s.loc[[(\"A\", \"c\"), (\"B\", \"d\")]]  # list of tuples"
            ]
        },
        {
            "cell_type": "code",
            "execution_count": 121,
            "metadata": {},
            "outputs": [
                {
                    "output_type": "execute_result",
                    "data": {
                        "text/plain": [
                            "A  c    1\n",
                            "   d    2\n",
                            "B  c    4\n",
                            "   d    5\n",
                            "dtype: int64"
                        ]
                    },
                    "metadata": {},
                    "execution_count": 121
                }
            ],
            "source": [
                "s.loc[([\"A\", \"B\"], [\"c\", \"d\"])]  # tuple of lists"
            ]
        },
        {
            "source": [
                "## Using slicers\n",
                "\n",
                "You can slice a MultiIndex by providing multiple indexers.\n",
                "\n",
                "You can provide any of the selectors as if you are indexing by label, see Selection by Label, including slices, lists of labels, labels, and boolean indexers.\n",
                "\n",
                "You can use slice(None) to select all the contents of that level. You do not need to specify all the deeper levels, they will be implied as slice(None).\n",
                "\n",
                "As usual, both sides of the slicers are included as this is label indexing.\n",
                "\n",
                "> Warning:\n",
                "\n",
                "> You should specify all axes in the .loc specifier, meaning the indexer for the index and for the columns. There are some ambiguous cases where the passed indexer could be mis-interpreted as indexing both axes, rather than into say the MultiIndex for the rows.\n",
                "\n",
                "You should do this:\n",
                "\n",
                "`df.loc[(slice(\"A1\", \"A3\"), ...), :]`  # noqa: E999\n",
                "\n",
                "You should not do this:\n",
                "\n",
                "`df.loc[(slice(\"A1\", \"A3\"), ...)]`  # noqa: E999"
            ],
            "cell_type": "markdown",
            "metadata": {}
        },
        {
            "cell_type": "code",
            "execution_count": 131,
            "metadata": {},
            "outputs": [],
            "source": [
                "def mklbl(prefix, n):\n",
                "    return [\"%s%s\" % (prefix, i) for i in range(n)]\n",
                "\n",
                "miindex = pd.MultiIndex.from_product([mklbl(\"A\", 4), mklbl(\"B\", 2), mklbl(\"C\", 4), mklbl(\"D\", 2)])\n",
                "\n",
                "micolumns = pd.MultiIndex.from_tuples([(\"a\", \"foo\"), (\"a\", \"bar\"), (\"b\", \"foo\"), (\"b\", \"bah\")], names=[\"lvl0\", \"lvl1\"])\n",
                "\n",
                "dfmi = (\n",
                "        pd.DataFrame(\n",
                "            np.arange(len(miindex) * len(micolumns)).reshape(\n",
                "                (len(miindex), len(micolumns))\n",
                "           ),\n",
                "            index=miindex,\n",
                "            columns=micolumns,\n",
                "        )\n",
                "        .sort_index()\n",
                "        .sort_index(axis=1)\n",
                ")"
            ]
        },
        {
            "cell_type": "code",
            "execution_count": 132,
            "metadata": {},
            "outputs": [
                {
                    "output_type": "execute_result",
                    "data": {
                        "text/plain": [
                            "lvl0           a         b     \n",
                            "lvl1         bar  foo  bah  foo\n",
                            "A0 B0 C0 D0    1    0    3    2\n",
                            "         D1    5    4    7    6\n",
                            "      C1 D0    9    8   11   10\n",
                            "         D1   13   12   15   14\n",
                            "      C2 D0   17   16   19   18\n",
                            "...          ...  ...  ...  ...\n",
                            "A3 B1 C1 D1  237  236  239  238\n",
                            "      C2 D0  241  240  243  242\n",
                            "         D1  245  244  247  246\n",
                            "      C3 D0  249  248  251  250\n",
                            "         D1  253  252  255  254\n",
                            "\n",
                            "[64 rows x 4 columns]"
                        ],
                        "text/html": "<div>\n<style scoped>\n    .dataframe tbody tr th:only-of-type {\n        vertical-align: middle;\n    }\n\n    .dataframe tbody tr th {\n        vertical-align: top;\n    }\n\n    .dataframe thead tr th {\n        text-align: left;\n    }\n</style>\n<table border=\"1\" class=\"dataframe\">\n  <thead>\n    <tr>\n      <th></th>\n      <th></th>\n      <th></th>\n      <th>lvl0</th>\n      <th colspan=\"2\" halign=\"left\">a</th>\n      <th colspan=\"2\" halign=\"left\">b</th>\n    </tr>\n    <tr>\n      <th></th>\n      <th></th>\n      <th></th>\n      <th>lvl1</th>\n      <th>bar</th>\n      <th>foo</th>\n      <th>bah</th>\n      <th>foo</th>\n    </tr>\n  </thead>\n  <tbody>\n    <tr>\n      <th rowspan=\"5\" valign=\"top\">A0</th>\n      <th rowspan=\"5\" valign=\"top\">B0</th>\n      <th rowspan=\"2\" valign=\"top\">C0</th>\n      <th>D0</th>\n      <td>1</td>\n      <td>0</td>\n      <td>3</td>\n      <td>2</td>\n    </tr>\n    <tr>\n      <th>D1</th>\n      <td>5</td>\n      <td>4</td>\n      <td>7</td>\n      <td>6</td>\n    </tr>\n    <tr>\n      <th rowspan=\"2\" valign=\"top\">C1</th>\n      <th>D0</th>\n      <td>9</td>\n      <td>8</td>\n      <td>11</td>\n      <td>10</td>\n    </tr>\n    <tr>\n      <th>D1</th>\n      <td>13</td>\n      <td>12</td>\n      <td>15</td>\n      <td>14</td>\n    </tr>\n    <tr>\n      <th>C2</th>\n      <th>D0</th>\n      <td>17</td>\n      <td>16</td>\n      <td>19</td>\n      <td>18</td>\n    </tr>\n    <tr>\n      <th>...</th>\n      <th>...</th>\n      <th>...</th>\n      <th>...</th>\n      <td>...</td>\n      <td>...</td>\n      <td>...</td>\n      <td>...</td>\n    </tr>\n    <tr>\n      <th rowspan=\"5\" valign=\"top\">A3</th>\n      <th rowspan=\"5\" valign=\"top\">B1</th>\n      <th>C1</th>\n      <th>D1</th>\n      <td>237</td>\n      <td>236</td>\n      <td>239</td>\n      <td>238</td>\n    </tr>\n    <tr>\n      <th rowspan=\"2\" valign=\"top\">C2</th>\n      <th>D0</th>\n      <td>241</td>\n      <td>240</td>\n      <td>243</td>\n      <td>242</td>\n    </tr>\n    <tr>\n      <th>D1</th>\n      <td>245</td>\n      <td>244</td>\n      <td>247</td>\n      <td>246</td>\n    </tr>\n    <tr>\n      <th rowspan=\"2\" valign=\"top\">C3</th>\n      <th>D0</th>\n      <td>249</td>\n      <td>248</td>\n      <td>251</td>\n      <td>250</td>\n    </tr>\n    <tr>\n      <th>D1</th>\n      <td>253</td>\n      <td>252</td>\n      <td>255</td>\n      <td>254</td>\n    </tr>\n  </tbody>\n</table>\n<p>64 rows × 4 columns</p>\n</div>"
                    },
                    "metadata": {},
                    "execution_count": 132
                }
            ],
            "source": [
                "dfmi"
            ]
        },
        {
            "source": [
                "Basic MultiIndex slicing using slices, lists, and labels."
            ],
            "cell_type": "markdown",
            "metadata": {}
        },
        {
            "cell_type": "code",
            "execution_count": 133,
            "metadata": {},
            "outputs": [
                {
                    "output_type": "execute_result",
                    "data": {
                        "text/plain": [
                            "lvl0           a         b     \n",
                            "lvl1         bar  foo  bah  foo\n",
                            "A1 B0 C1 D0   73   72   75   74\n",
                            "         D1   77   76   79   78\n",
                            "      C3 D0   89   88   91   90\n",
                            "         D1   93   92   95   94\n",
                            "   B1 C1 D0  105  104  107  106\n",
                            "         D1  109  108  111  110\n",
                            "      C3 D0  121  120  123  122\n",
                            "         D1  125  124  127  126\n",
                            "A2 B0 C1 D0  137  136  139  138\n",
                            "         D1  141  140  143  142\n",
                            "      C3 D0  153  152  155  154\n",
                            "         D1  157  156  159  158\n",
                            "   B1 C1 D0  169  168  171  170\n",
                            "         D1  173  172  175  174\n",
                            "      C3 D0  185  184  187  186\n",
                            "         D1  189  188  191  190\n",
                            "A3 B0 C1 D0  201  200  203  202\n",
                            "         D1  205  204  207  206\n",
                            "      C3 D0  217  216  219  218\n",
                            "         D1  221  220  223  222\n",
                            "   B1 C1 D0  233  232  235  234\n",
                            "         D1  237  236  239  238\n",
                            "      C3 D0  249  248  251  250\n",
                            "         D1  253  252  255  254"
                        ],
                        "text/html": "<div>\n<style scoped>\n    .dataframe tbody tr th:only-of-type {\n        vertical-align: middle;\n    }\n\n    .dataframe tbody tr th {\n        vertical-align: top;\n    }\n\n    .dataframe thead tr th {\n        text-align: left;\n    }\n</style>\n<table border=\"1\" class=\"dataframe\">\n  <thead>\n    <tr>\n      <th></th>\n      <th></th>\n      <th></th>\n      <th>lvl0</th>\n      <th colspan=\"2\" halign=\"left\">a</th>\n      <th colspan=\"2\" halign=\"left\">b</th>\n    </tr>\n    <tr>\n      <th></th>\n      <th></th>\n      <th></th>\n      <th>lvl1</th>\n      <th>bar</th>\n      <th>foo</th>\n      <th>bah</th>\n      <th>foo</th>\n    </tr>\n  </thead>\n  <tbody>\n    <tr>\n      <th rowspan=\"8\" valign=\"top\">A1</th>\n      <th rowspan=\"4\" valign=\"top\">B0</th>\n      <th rowspan=\"2\" valign=\"top\">C1</th>\n      <th>D0</th>\n      <td>73</td>\n      <td>72</td>\n      <td>75</td>\n      <td>74</td>\n    </tr>\n    <tr>\n      <th>D1</th>\n      <td>77</td>\n      <td>76</td>\n      <td>79</td>\n      <td>78</td>\n    </tr>\n    <tr>\n      <th rowspan=\"2\" valign=\"top\">C3</th>\n      <th>D0</th>\n      <td>89</td>\n      <td>88</td>\n      <td>91</td>\n      <td>90</td>\n    </tr>\n    <tr>\n      <th>D1</th>\n      <td>93</td>\n      <td>92</td>\n      <td>95</td>\n      <td>94</td>\n    </tr>\n    <tr>\n      <th rowspan=\"4\" valign=\"top\">B1</th>\n      <th rowspan=\"2\" valign=\"top\">C1</th>\n      <th>D0</th>\n      <td>105</td>\n      <td>104</td>\n      <td>107</td>\n      <td>106</td>\n    </tr>\n    <tr>\n      <th>D1</th>\n      <td>109</td>\n      <td>108</td>\n      <td>111</td>\n      <td>110</td>\n    </tr>\n    <tr>\n      <th rowspan=\"2\" valign=\"top\">C3</th>\n      <th>D0</th>\n      <td>121</td>\n      <td>120</td>\n      <td>123</td>\n      <td>122</td>\n    </tr>\n    <tr>\n      <th>D1</th>\n      <td>125</td>\n      <td>124</td>\n      <td>127</td>\n      <td>126</td>\n    </tr>\n    <tr>\n      <th rowspan=\"8\" valign=\"top\">A2</th>\n      <th rowspan=\"4\" valign=\"top\">B0</th>\n      <th rowspan=\"2\" valign=\"top\">C1</th>\n      <th>D0</th>\n      <td>137</td>\n      <td>136</td>\n      <td>139</td>\n      <td>138</td>\n    </tr>\n    <tr>\n      <th>D1</th>\n      <td>141</td>\n      <td>140</td>\n      <td>143</td>\n      <td>142</td>\n    </tr>\n    <tr>\n      <th rowspan=\"2\" valign=\"top\">C3</th>\n      <th>D0</th>\n      <td>153</td>\n      <td>152</td>\n      <td>155</td>\n      <td>154</td>\n    </tr>\n    <tr>\n      <th>D1</th>\n      <td>157</td>\n      <td>156</td>\n      <td>159</td>\n      <td>158</td>\n    </tr>\n    <tr>\n      <th rowspan=\"4\" valign=\"top\">B1</th>\n      <th rowspan=\"2\" valign=\"top\">C1</th>\n      <th>D0</th>\n      <td>169</td>\n      <td>168</td>\n      <td>171</td>\n      <td>170</td>\n    </tr>\n    <tr>\n      <th>D1</th>\n      <td>173</td>\n      <td>172</td>\n      <td>175</td>\n      <td>174</td>\n    </tr>\n    <tr>\n      <th rowspan=\"2\" valign=\"top\">C3</th>\n      <th>D0</th>\n      <td>185</td>\n      <td>184</td>\n      <td>187</td>\n      <td>186</td>\n    </tr>\n    <tr>\n      <th>D1</th>\n      <td>189</td>\n      <td>188</td>\n      <td>191</td>\n      <td>190</td>\n    </tr>\n    <tr>\n      <th rowspan=\"8\" valign=\"top\">A3</th>\n      <th rowspan=\"4\" valign=\"top\">B0</th>\n      <th rowspan=\"2\" valign=\"top\">C1</th>\n      <th>D0</th>\n      <td>201</td>\n      <td>200</td>\n      <td>203</td>\n      <td>202</td>\n    </tr>\n    <tr>\n      <th>D1</th>\n      <td>205</td>\n      <td>204</td>\n      <td>207</td>\n      <td>206</td>\n    </tr>\n    <tr>\n      <th rowspan=\"2\" valign=\"top\">C3</th>\n      <th>D0</th>\n      <td>217</td>\n      <td>216</td>\n      <td>219</td>\n      <td>218</td>\n    </tr>\n    <tr>\n      <th>D1</th>\n      <td>221</td>\n      <td>220</td>\n      <td>223</td>\n      <td>222</td>\n    </tr>\n    <tr>\n      <th rowspan=\"4\" valign=\"top\">B1</th>\n      <th rowspan=\"2\" valign=\"top\">C1</th>\n      <th>D0</th>\n      <td>233</td>\n      <td>232</td>\n      <td>235</td>\n      <td>234</td>\n    </tr>\n    <tr>\n      <th>D1</th>\n      <td>237</td>\n      <td>236</td>\n      <td>239</td>\n      <td>238</td>\n    </tr>\n    <tr>\n      <th rowspan=\"2\" valign=\"top\">C3</th>\n      <th>D0</th>\n      <td>249</td>\n      <td>248</td>\n      <td>251</td>\n      <td>250</td>\n    </tr>\n    <tr>\n      <th>D1</th>\n      <td>253</td>\n      <td>252</td>\n      <td>255</td>\n      <td>254</td>\n    </tr>\n  </tbody>\n</table>\n</div>"
                    },
                    "metadata": {},
                    "execution_count": 133
                }
            ],
            "source": [
                "dfmi.loc[(slice(\"A1\", \"A3\"), slice(None), [\"C1\", \"C3\"]), :]"
            ]
        },
        {
            "source": [
                "You can use pandas.IndexSlice to facilitate a more natural syntax using :, rather than using slice(None)."
            ],
            "cell_type": "markdown",
            "metadata": {}
        },
        {
            "cell_type": "code",
            "execution_count": 136,
            "metadata": {},
            "outputs": [
                {
                    "output_type": "execute_result",
                    "data": {
                        "text/plain": [
                            "lvl0           a    b\n",
                            "lvl1         foo  foo\n",
                            "A0 B0 C1 D0    8   10\n",
                            "         D1   12   14\n",
                            "      C3 D0   24   26\n",
                            "         D1   28   30\n",
                            "   B1 C1 D0   40   42\n",
                            "         D1   44   46\n",
                            "      C3 D0   56   58\n",
                            "         D1   60   62\n",
                            "A1 B0 C1 D0   72   74\n",
                            "         D1   76   78\n",
                            "      C3 D0   88   90\n",
                            "         D1   92   94\n",
                            "   B1 C1 D0  104  106\n",
                            "         D1  108  110\n",
                            "      C3 D0  120  122\n",
                            "         D1  124  126\n",
                            "A2 B0 C1 D0  136  138\n",
                            "         D1  140  142\n",
                            "      C3 D0  152  154\n",
                            "         D1  156  158\n",
                            "   B1 C1 D0  168  170\n",
                            "         D1  172  174\n",
                            "      C3 D0  184  186\n",
                            "         D1  188  190\n",
                            "A3 B0 C1 D0  200  202\n",
                            "         D1  204  206\n",
                            "      C3 D0  216  218\n",
                            "         D1  220  222\n",
                            "   B1 C1 D0  232  234\n",
                            "         D1  236  238\n",
                            "      C3 D0  248  250\n",
                            "         D1  252  254"
                        ],
                        "text/html": "<div>\n<style scoped>\n    .dataframe tbody tr th:only-of-type {\n        vertical-align: middle;\n    }\n\n    .dataframe tbody tr th {\n        vertical-align: top;\n    }\n\n    .dataframe thead tr th {\n        text-align: left;\n    }\n</style>\n<table border=\"1\" class=\"dataframe\">\n  <thead>\n    <tr>\n      <th></th>\n      <th></th>\n      <th></th>\n      <th>lvl0</th>\n      <th>a</th>\n      <th>b</th>\n    </tr>\n    <tr>\n      <th></th>\n      <th></th>\n      <th></th>\n      <th>lvl1</th>\n      <th>foo</th>\n      <th>foo</th>\n    </tr>\n  </thead>\n  <tbody>\n    <tr>\n      <th rowspan=\"8\" valign=\"top\">A0</th>\n      <th rowspan=\"4\" valign=\"top\">B0</th>\n      <th rowspan=\"2\" valign=\"top\">C1</th>\n      <th>D0</th>\n      <td>8</td>\n      <td>10</td>\n    </tr>\n    <tr>\n      <th>D1</th>\n      <td>12</td>\n      <td>14</td>\n    </tr>\n    <tr>\n      <th rowspan=\"2\" valign=\"top\">C3</th>\n      <th>D0</th>\n      <td>24</td>\n      <td>26</td>\n    </tr>\n    <tr>\n      <th>D1</th>\n      <td>28</td>\n      <td>30</td>\n    </tr>\n    <tr>\n      <th rowspan=\"4\" valign=\"top\">B1</th>\n      <th rowspan=\"2\" valign=\"top\">C1</th>\n      <th>D0</th>\n      <td>40</td>\n      <td>42</td>\n    </tr>\n    <tr>\n      <th>D1</th>\n      <td>44</td>\n      <td>46</td>\n    </tr>\n    <tr>\n      <th rowspan=\"2\" valign=\"top\">C3</th>\n      <th>D0</th>\n      <td>56</td>\n      <td>58</td>\n    </tr>\n    <tr>\n      <th>D1</th>\n      <td>60</td>\n      <td>62</td>\n    </tr>\n    <tr>\n      <th rowspan=\"8\" valign=\"top\">A1</th>\n      <th rowspan=\"4\" valign=\"top\">B0</th>\n      <th rowspan=\"2\" valign=\"top\">C1</th>\n      <th>D0</th>\n      <td>72</td>\n      <td>74</td>\n    </tr>\n    <tr>\n      <th>D1</th>\n      <td>76</td>\n      <td>78</td>\n    </tr>\n    <tr>\n      <th rowspan=\"2\" valign=\"top\">C3</th>\n      <th>D0</th>\n      <td>88</td>\n      <td>90</td>\n    </tr>\n    <tr>\n      <th>D1</th>\n      <td>92</td>\n      <td>94</td>\n    </tr>\n    <tr>\n      <th rowspan=\"4\" valign=\"top\">B1</th>\n      <th rowspan=\"2\" valign=\"top\">C1</th>\n      <th>D0</th>\n      <td>104</td>\n      <td>106</td>\n    </tr>\n    <tr>\n      <th>D1</th>\n      <td>108</td>\n      <td>110</td>\n    </tr>\n    <tr>\n      <th rowspan=\"2\" valign=\"top\">C3</th>\n      <th>D0</th>\n      <td>120</td>\n      <td>122</td>\n    </tr>\n    <tr>\n      <th>D1</th>\n      <td>124</td>\n      <td>126</td>\n    </tr>\n    <tr>\n      <th rowspan=\"8\" valign=\"top\">A2</th>\n      <th rowspan=\"4\" valign=\"top\">B0</th>\n      <th rowspan=\"2\" valign=\"top\">C1</th>\n      <th>D0</th>\n      <td>136</td>\n      <td>138</td>\n    </tr>\n    <tr>\n      <th>D1</th>\n      <td>140</td>\n      <td>142</td>\n    </tr>\n    <tr>\n      <th rowspan=\"2\" valign=\"top\">C3</th>\n      <th>D0</th>\n      <td>152</td>\n      <td>154</td>\n    </tr>\n    <tr>\n      <th>D1</th>\n      <td>156</td>\n      <td>158</td>\n    </tr>\n    <tr>\n      <th rowspan=\"4\" valign=\"top\">B1</th>\n      <th rowspan=\"2\" valign=\"top\">C1</th>\n      <th>D0</th>\n      <td>168</td>\n      <td>170</td>\n    </tr>\n    <tr>\n      <th>D1</th>\n      <td>172</td>\n      <td>174</td>\n    </tr>\n    <tr>\n      <th rowspan=\"2\" valign=\"top\">C3</th>\n      <th>D0</th>\n      <td>184</td>\n      <td>186</td>\n    </tr>\n    <tr>\n      <th>D1</th>\n      <td>188</td>\n      <td>190</td>\n    </tr>\n    <tr>\n      <th rowspan=\"8\" valign=\"top\">A3</th>\n      <th rowspan=\"4\" valign=\"top\">B0</th>\n      <th rowspan=\"2\" valign=\"top\">C1</th>\n      <th>D0</th>\n      <td>200</td>\n      <td>202</td>\n    </tr>\n    <tr>\n      <th>D1</th>\n      <td>204</td>\n      <td>206</td>\n    </tr>\n    <tr>\n      <th rowspan=\"2\" valign=\"top\">C3</th>\n      <th>D0</th>\n      <td>216</td>\n      <td>218</td>\n    </tr>\n    <tr>\n      <th>D1</th>\n      <td>220</td>\n      <td>222</td>\n    </tr>\n    <tr>\n      <th rowspan=\"4\" valign=\"top\">B1</th>\n      <th rowspan=\"2\" valign=\"top\">C1</th>\n      <th>D0</th>\n      <td>232</td>\n      <td>234</td>\n    </tr>\n    <tr>\n      <th>D1</th>\n      <td>236</td>\n      <td>238</td>\n    </tr>\n    <tr>\n      <th rowspan=\"2\" valign=\"top\">C3</th>\n      <th>D0</th>\n      <td>248</td>\n      <td>250</td>\n    </tr>\n    <tr>\n      <th>D1</th>\n      <td>252</td>\n      <td>254</td>\n    </tr>\n  </tbody>\n</table>\n</div>"
                    },
                    "metadata": {},
                    "execution_count": 136
                }
            ],
            "source": [
                "idx = pd.IndexSlice\n",
                "dfmi.loc[idx[:, :, [\"C1\", \"C3\"]], idx[:, \"foo\"]]"
            ]
        },
        {
            "source": [
                "It is possible to perform quite complicated selections using this method on multiple axes at the same time."
            ],
            "cell_type": "markdown",
            "metadata": {}
        },
        {
            "cell_type": "code",
            "execution_count": 137,
            "metadata": {},
            "outputs": [
                {
                    "output_type": "execute_result",
                    "data": {
                        "text/plain": [
                            "lvl0        a    b\n",
                            "lvl1      foo  foo\n",
                            "B0 C0 D0   64   66\n",
                            "      D1   68   70\n",
                            "   C1 D0   72   74\n",
                            "      D1   76   78\n",
                            "   C2 D0   80   82\n",
                            "      D1   84   86\n",
                            "   C3 D0   88   90\n",
                            "      D1   92   94\n",
                            "B1 C0 D0   96   98\n",
                            "      D1  100  102\n",
                            "   C1 D0  104  106\n",
                            "      D1  108  110\n",
                            "   C2 D0  112  114\n",
                            "      D1  116  118\n",
                            "   C3 D0  120  122\n",
                            "      D1  124  126"
                        ],
                        "text/html": "<div>\n<style scoped>\n    .dataframe tbody tr th:only-of-type {\n        vertical-align: middle;\n    }\n\n    .dataframe tbody tr th {\n        vertical-align: top;\n    }\n\n    .dataframe thead tr th {\n        text-align: left;\n    }\n</style>\n<table border=\"1\" class=\"dataframe\">\n  <thead>\n    <tr>\n      <th></th>\n      <th></th>\n      <th>lvl0</th>\n      <th>a</th>\n      <th>b</th>\n    </tr>\n    <tr>\n      <th></th>\n      <th></th>\n      <th>lvl1</th>\n      <th>foo</th>\n      <th>foo</th>\n    </tr>\n  </thead>\n  <tbody>\n    <tr>\n      <th rowspan=\"8\" valign=\"top\">B0</th>\n      <th rowspan=\"2\" valign=\"top\">C0</th>\n      <th>D0</th>\n      <td>64</td>\n      <td>66</td>\n    </tr>\n    <tr>\n      <th>D1</th>\n      <td>68</td>\n      <td>70</td>\n    </tr>\n    <tr>\n      <th rowspan=\"2\" valign=\"top\">C1</th>\n      <th>D0</th>\n      <td>72</td>\n      <td>74</td>\n    </tr>\n    <tr>\n      <th>D1</th>\n      <td>76</td>\n      <td>78</td>\n    </tr>\n    <tr>\n      <th rowspan=\"2\" valign=\"top\">C2</th>\n      <th>D0</th>\n      <td>80</td>\n      <td>82</td>\n    </tr>\n    <tr>\n      <th>D1</th>\n      <td>84</td>\n      <td>86</td>\n    </tr>\n    <tr>\n      <th rowspan=\"2\" valign=\"top\">C3</th>\n      <th>D0</th>\n      <td>88</td>\n      <td>90</td>\n    </tr>\n    <tr>\n      <th>D1</th>\n      <td>92</td>\n      <td>94</td>\n    </tr>\n    <tr>\n      <th rowspan=\"8\" valign=\"top\">B1</th>\n      <th rowspan=\"2\" valign=\"top\">C0</th>\n      <th>D0</th>\n      <td>96</td>\n      <td>98</td>\n    </tr>\n    <tr>\n      <th>D1</th>\n      <td>100</td>\n      <td>102</td>\n    </tr>\n    <tr>\n      <th rowspan=\"2\" valign=\"top\">C1</th>\n      <th>D0</th>\n      <td>104</td>\n      <td>106</td>\n    </tr>\n    <tr>\n      <th>D1</th>\n      <td>108</td>\n      <td>110</td>\n    </tr>\n    <tr>\n      <th rowspan=\"2\" valign=\"top\">C2</th>\n      <th>D0</th>\n      <td>112</td>\n      <td>114</td>\n    </tr>\n    <tr>\n      <th>D1</th>\n      <td>116</td>\n      <td>118</td>\n    </tr>\n    <tr>\n      <th rowspan=\"2\" valign=\"top\">C3</th>\n      <th>D0</th>\n      <td>120</td>\n      <td>122</td>\n    </tr>\n    <tr>\n      <th>D1</th>\n      <td>124</td>\n      <td>126</td>\n    </tr>\n  </tbody>\n</table>\n</div>"
                    },
                    "metadata": {},
                    "execution_count": 137
                }
            ],
            "source": [
                "dfmi.loc[\"A1\", (slice(None), \"foo\")]"
            ]
        },
        {
            "cell_type": "code",
            "execution_count": 138,
            "metadata": {},
            "outputs": [
                {
                    "output_type": "execute_result",
                    "data": {
                        "text/plain": [
                            "lvl0           a    b\n",
                            "lvl1         foo  foo\n",
                            "A0 B0 C1 D0    8   10\n",
                            "         D1   12   14\n",
                            "      C3 D0   24   26\n",
                            "         D1   28   30\n",
                            "   B1 C1 D0   40   42\n",
                            "         D1   44   46\n",
                            "      C3 D0   56   58\n",
                            "         D1   60   62\n",
                            "A1 B0 C1 D0   72   74\n",
                            "         D1   76   78\n",
                            "      C3 D0   88   90\n",
                            "         D1   92   94\n",
                            "   B1 C1 D0  104  106\n",
                            "         D1  108  110\n",
                            "      C3 D0  120  122\n",
                            "         D1  124  126\n",
                            "A2 B0 C1 D0  136  138\n",
                            "         D1  140  142\n",
                            "      C3 D0  152  154\n",
                            "         D1  156  158\n",
                            "   B1 C1 D0  168  170\n",
                            "         D1  172  174\n",
                            "      C3 D0  184  186\n",
                            "         D1  188  190\n",
                            "A3 B0 C1 D0  200  202\n",
                            "         D1  204  206\n",
                            "      C3 D0  216  218\n",
                            "         D1  220  222\n",
                            "   B1 C1 D0  232  234\n",
                            "         D1  236  238\n",
                            "      C3 D0  248  250\n",
                            "         D1  252  254"
                        ],
                        "text/html": "<div>\n<style scoped>\n    .dataframe tbody tr th:only-of-type {\n        vertical-align: middle;\n    }\n\n    .dataframe tbody tr th {\n        vertical-align: top;\n    }\n\n    .dataframe thead tr th {\n        text-align: left;\n    }\n</style>\n<table border=\"1\" class=\"dataframe\">\n  <thead>\n    <tr>\n      <th></th>\n      <th></th>\n      <th></th>\n      <th>lvl0</th>\n      <th>a</th>\n      <th>b</th>\n    </tr>\n    <tr>\n      <th></th>\n      <th></th>\n      <th></th>\n      <th>lvl1</th>\n      <th>foo</th>\n      <th>foo</th>\n    </tr>\n  </thead>\n  <tbody>\n    <tr>\n      <th rowspan=\"8\" valign=\"top\">A0</th>\n      <th rowspan=\"4\" valign=\"top\">B0</th>\n      <th rowspan=\"2\" valign=\"top\">C1</th>\n      <th>D0</th>\n      <td>8</td>\n      <td>10</td>\n    </tr>\n    <tr>\n      <th>D1</th>\n      <td>12</td>\n      <td>14</td>\n    </tr>\n    <tr>\n      <th rowspan=\"2\" valign=\"top\">C3</th>\n      <th>D0</th>\n      <td>24</td>\n      <td>26</td>\n    </tr>\n    <tr>\n      <th>D1</th>\n      <td>28</td>\n      <td>30</td>\n    </tr>\n    <tr>\n      <th rowspan=\"4\" valign=\"top\">B1</th>\n      <th rowspan=\"2\" valign=\"top\">C1</th>\n      <th>D0</th>\n      <td>40</td>\n      <td>42</td>\n    </tr>\n    <tr>\n      <th>D1</th>\n      <td>44</td>\n      <td>46</td>\n    </tr>\n    <tr>\n      <th rowspan=\"2\" valign=\"top\">C3</th>\n      <th>D0</th>\n      <td>56</td>\n      <td>58</td>\n    </tr>\n    <tr>\n      <th>D1</th>\n      <td>60</td>\n      <td>62</td>\n    </tr>\n    <tr>\n      <th rowspan=\"8\" valign=\"top\">A1</th>\n      <th rowspan=\"4\" valign=\"top\">B0</th>\n      <th rowspan=\"2\" valign=\"top\">C1</th>\n      <th>D0</th>\n      <td>72</td>\n      <td>74</td>\n    </tr>\n    <tr>\n      <th>D1</th>\n      <td>76</td>\n      <td>78</td>\n    </tr>\n    <tr>\n      <th rowspan=\"2\" valign=\"top\">C3</th>\n      <th>D0</th>\n      <td>88</td>\n      <td>90</td>\n    </tr>\n    <tr>\n      <th>D1</th>\n      <td>92</td>\n      <td>94</td>\n    </tr>\n    <tr>\n      <th rowspan=\"4\" valign=\"top\">B1</th>\n      <th rowspan=\"2\" valign=\"top\">C1</th>\n      <th>D0</th>\n      <td>104</td>\n      <td>106</td>\n    </tr>\n    <tr>\n      <th>D1</th>\n      <td>108</td>\n      <td>110</td>\n    </tr>\n    <tr>\n      <th rowspan=\"2\" valign=\"top\">C3</th>\n      <th>D0</th>\n      <td>120</td>\n      <td>122</td>\n    </tr>\n    <tr>\n      <th>D1</th>\n      <td>124</td>\n      <td>126</td>\n    </tr>\n    <tr>\n      <th rowspan=\"8\" valign=\"top\">A2</th>\n      <th rowspan=\"4\" valign=\"top\">B0</th>\n      <th rowspan=\"2\" valign=\"top\">C1</th>\n      <th>D0</th>\n      <td>136</td>\n      <td>138</td>\n    </tr>\n    <tr>\n      <th>D1</th>\n      <td>140</td>\n      <td>142</td>\n    </tr>\n    <tr>\n      <th rowspan=\"2\" valign=\"top\">C3</th>\n      <th>D0</th>\n      <td>152</td>\n      <td>154</td>\n    </tr>\n    <tr>\n      <th>D1</th>\n      <td>156</td>\n      <td>158</td>\n    </tr>\n    <tr>\n      <th rowspan=\"4\" valign=\"top\">B1</th>\n      <th rowspan=\"2\" valign=\"top\">C1</th>\n      <th>D0</th>\n      <td>168</td>\n      <td>170</td>\n    </tr>\n    <tr>\n      <th>D1</th>\n      <td>172</td>\n      <td>174</td>\n    </tr>\n    <tr>\n      <th rowspan=\"2\" valign=\"top\">C3</th>\n      <th>D0</th>\n      <td>184</td>\n      <td>186</td>\n    </tr>\n    <tr>\n      <th>D1</th>\n      <td>188</td>\n      <td>190</td>\n    </tr>\n    <tr>\n      <th rowspan=\"8\" valign=\"top\">A3</th>\n      <th rowspan=\"4\" valign=\"top\">B0</th>\n      <th rowspan=\"2\" valign=\"top\">C1</th>\n      <th>D0</th>\n      <td>200</td>\n      <td>202</td>\n    </tr>\n    <tr>\n      <th>D1</th>\n      <td>204</td>\n      <td>206</td>\n    </tr>\n    <tr>\n      <th rowspan=\"2\" valign=\"top\">C3</th>\n      <th>D0</th>\n      <td>216</td>\n      <td>218</td>\n    </tr>\n    <tr>\n      <th>D1</th>\n      <td>220</td>\n      <td>222</td>\n    </tr>\n    <tr>\n      <th rowspan=\"4\" valign=\"top\">B1</th>\n      <th rowspan=\"2\" valign=\"top\">C1</th>\n      <th>D0</th>\n      <td>232</td>\n      <td>234</td>\n    </tr>\n    <tr>\n      <th>D1</th>\n      <td>236</td>\n      <td>238</td>\n    </tr>\n    <tr>\n      <th rowspan=\"2\" valign=\"top\">C3</th>\n      <th>D0</th>\n      <td>248</td>\n      <td>250</td>\n    </tr>\n    <tr>\n      <th>D1</th>\n      <td>252</td>\n      <td>254</td>\n    </tr>\n  </tbody>\n</table>\n</div>"
                    },
                    "metadata": {},
                    "execution_count": 138
                }
            ],
            "source": [
                "dfmi.loc[idx[:, :, [\"C1\", \"C3\"]], idx[:, \"foo\"]]"
            ]
        },
        {
            "source": [
                "Using a boolean indexer you can provide selection related to the values"
            ],
            "cell_type": "markdown",
            "metadata": {}
        },
        {
            "cell_type": "code",
            "execution_count": 140,
            "metadata": {},
            "outputs": [
                {
                    "output_type": "execute_result",
                    "data": {
                        "text/plain": [
                            "lvl0           a    b\n",
                            "lvl1         foo  foo\n",
                            "A3 B0 C1 D1  204  206\n",
                            "      C3 D0  216  218\n",
                            "         D1  220  222\n",
                            "   B1 C1 D0  232  234\n",
                            "         D1  236  238\n",
                            "      C3 D0  248  250\n",
                            "         D1  252  254"
                        ],
                        "text/html": "<div>\n<style scoped>\n    .dataframe tbody tr th:only-of-type {\n        vertical-align: middle;\n    }\n\n    .dataframe tbody tr th {\n        vertical-align: top;\n    }\n\n    .dataframe thead tr th {\n        text-align: left;\n    }\n</style>\n<table border=\"1\" class=\"dataframe\">\n  <thead>\n    <tr>\n      <th></th>\n      <th></th>\n      <th></th>\n      <th>lvl0</th>\n      <th>a</th>\n      <th>b</th>\n    </tr>\n    <tr>\n      <th></th>\n      <th></th>\n      <th></th>\n      <th>lvl1</th>\n      <th>foo</th>\n      <th>foo</th>\n    </tr>\n  </thead>\n  <tbody>\n    <tr>\n      <th rowspan=\"7\" valign=\"top\">A3</th>\n      <th rowspan=\"3\" valign=\"top\">B0</th>\n      <th>C1</th>\n      <th>D1</th>\n      <td>204</td>\n      <td>206</td>\n    </tr>\n    <tr>\n      <th rowspan=\"2\" valign=\"top\">C3</th>\n      <th>D0</th>\n      <td>216</td>\n      <td>218</td>\n    </tr>\n    <tr>\n      <th>D1</th>\n      <td>220</td>\n      <td>222</td>\n    </tr>\n    <tr>\n      <th rowspan=\"4\" valign=\"top\">B1</th>\n      <th rowspan=\"2\" valign=\"top\">C1</th>\n      <th>D0</th>\n      <td>232</td>\n      <td>234</td>\n    </tr>\n    <tr>\n      <th>D1</th>\n      <td>236</td>\n      <td>238</td>\n    </tr>\n    <tr>\n      <th rowspan=\"2\" valign=\"top\">C3</th>\n      <th>D0</th>\n      <td>248</td>\n      <td>250</td>\n    </tr>\n    <tr>\n      <th>D1</th>\n      <td>252</td>\n      <td>254</td>\n    </tr>\n  </tbody>\n</table>\n</div>"
                    },
                    "metadata": {},
                    "execution_count": 140
                }
            ],
            "source": [
                "mask = dfmi[(\"a\", \"foo\")] > 200\n",
                "dfmi.loc[idx[mask, :, [\"C1\", \"C3\"]], idx[:, \"foo\"]]"
            ]
        },
        {
            "source": [
                "You can also specify the axis argument to .loc to interpret the passed slicers on a single axis."
            ],
            "cell_type": "markdown",
            "metadata": {}
        },
        {
            "cell_type": "code",
            "execution_count": 141,
            "metadata": {},
            "outputs": [
                {
                    "output_type": "execute_result",
                    "data": {
                        "text/plain": [
                            "lvl0           a         b     \n",
                            "lvl1         bar  foo  bah  foo\n",
                            "A0 B0 C1 D0    9    8   11   10\n",
                            "         D1   13   12   15   14\n",
                            "      C3 D0   25   24   27   26\n",
                            "         D1   29   28   31   30\n",
                            "   B1 C1 D0   41   40   43   42\n",
                            "         D1   45   44   47   46\n",
                            "      C3 D0   57   56   59   58\n",
                            "         D1   61   60   63   62\n",
                            "A1 B0 C1 D0   73   72   75   74\n",
                            "         D1   77   76   79   78\n",
                            "      C3 D0   89   88   91   90\n",
                            "         D1   93   92   95   94\n",
                            "   B1 C1 D0  105  104  107  106\n",
                            "         D1  109  108  111  110\n",
                            "      C3 D0  121  120  123  122\n",
                            "         D1  125  124  127  126\n",
                            "A2 B0 C1 D0  137  136  139  138\n",
                            "         D1  141  140  143  142\n",
                            "      C3 D0  153  152  155  154\n",
                            "         D1  157  156  159  158\n",
                            "   B1 C1 D0  169  168  171  170\n",
                            "         D1  173  172  175  174\n",
                            "      C3 D0  185  184  187  186\n",
                            "         D1  189  188  191  190\n",
                            "A3 B0 C1 D0  201  200  203  202\n",
                            "         D1  205  204  207  206\n",
                            "      C3 D0  217  216  219  218\n",
                            "         D1  221  220  223  222\n",
                            "   B1 C1 D0  233  232  235  234\n",
                            "         D1  237  236  239  238\n",
                            "      C3 D0  249  248  251  250\n",
                            "         D1  253  252  255  254"
                        ],
                        "text/html": "<div>\n<style scoped>\n    .dataframe tbody tr th:only-of-type {\n        vertical-align: middle;\n    }\n\n    .dataframe tbody tr th {\n        vertical-align: top;\n    }\n\n    .dataframe thead tr th {\n        text-align: left;\n    }\n</style>\n<table border=\"1\" class=\"dataframe\">\n  <thead>\n    <tr>\n      <th></th>\n      <th></th>\n      <th></th>\n      <th>lvl0</th>\n      <th colspan=\"2\" halign=\"left\">a</th>\n      <th colspan=\"2\" halign=\"left\">b</th>\n    </tr>\n    <tr>\n      <th></th>\n      <th></th>\n      <th></th>\n      <th>lvl1</th>\n      <th>bar</th>\n      <th>foo</th>\n      <th>bah</th>\n      <th>foo</th>\n    </tr>\n  </thead>\n  <tbody>\n    <tr>\n      <th rowspan=\"8\" valign=\"top\">A0</th>\n      <th rowspan=\"4\" valign=\"top\">B0</th>\n      <th rowspan=\"2\" valign=\"top\">C1</th>\n      <th>D0</th>\n      <td>9</td>\n      <td>8</td>\n      <td>11</td>\n      <td>10</td>\n    </tr>\n    <tr>\n      <th>D1</th>\n      <td>13</td>\n      <td>12</td>\n      <td>15</td>\n      <td>14</td>\n    </tr>\n    <tr>\n      <th rowspan=\"2\" valign=\"top\">C3</th>\n      <th>D0</th>\n      <td>25</td>\n      <td>24</td>\n      <td>27</td>\n      <td>26</td>\n    </tr>\n    <tr>\n      <th>D1</th>\n      <td>29</td>\n      <td>28</td>\n      <td>31</td>\n      <td>30</td>\n    </tr>\n    <tr>\n      <th rowspan=\"4\" valign=\"top\">B1</th>\n      <th rowspan=\"2\" valign=\"top\">C1</th>\n      <th>D0</th>\n      <td>41</td>\n      <td>40</td>\n      <td>43</td>\n      <td>42</td>\n    </tr>\n    <tr>\n      <th>D1</th>\n      <td>45</td>\n      <td>44</td>\n      <td>47</td>\n      <td>46</td>\n    </tr>\n    <tr>\n      <th rowspan=\"2\" valign=\"top\">C3</th>\n      <th>D0</th>\n      <td>57</td>\n      <td>56</td>\n      <td>59</td>\n      <td>58</td>\n    </tr>\n    <tr>\n      <th>D1</th>\n      <td>61</td>\n      <td>60</td>\n      <td>63</td>\n      <td>62</td>\n    </tr>\n    <tr>\n      <th rowspan=\"8\" valign=\"top\">A1</th>\n      <th rowspan=\"4\" valign=\"top\">B0</th>\n      <th rowspan=\"2\" valign=\"top\">C1</th>\n      <th>D0</th>\n      <td>73</td>\n      <td>72</td>\n      <td>75</td>\n      <td>74</td>\n    </tr>\n    <tr>\n      <th>D1</th>\n      <td>77</td>\n      <td>76</td>\n      <td>79</td>\n      <td>78</td>\n    </tr>\n    <tr>\n      <th rowspan=\"2\" valign=\"top\">C3</th>\n      <th>D0</th>\n      <td>89</td>\n      <td>88</td>\n      <td>91</td>\n      <td>90</td>\n    </tr>\n    <tr>\n      <th>D1</th>\n      <td>93</td>\n      <td>92</td>\n      <td>95</td>\n      <td>94</td>\n    </tr>\n    <tr>\n      <th rowspan=\"4\" valign=\"top\">B1</th>\n      <th rowspan=\"2\" valign=\"top\">C1</th>\n      <th>D0</th>\n      <td>105</td>\n      <td>104</td>\n      <td>107</td>\n      <td>106</td>\n    </tr>\n    <tr>\n      <th>D1</th>\n      <td>109</td>\n      <td>108</td>\n      <td>111</td>\n      <td>110</td>\n    </tr>\n    <tr>\n      <th rowspan=\"2\" valign=\"top\">C3</th>\n      <th>D0</th>\n      <td>121</td>\n      <td>120</td>\n      <td>123</td>\n      <td>122</td>\n    </tr>\n    <tr>\n      <th>D1</th>\n      <td>125</td>\n      <td>124</td>\n      <td>127</td>\n      <td>126</td>\n    </tr>\n    <tr>\n      <th rowspan=\"8\" valign=\"top\">A2</th>\n      <th rowspan=\"4\" valign=\"top\">B0</th>\n      <th rowspan=\"2\" valign=\"top\">C1</th>\n      <th>D0</th>\n      <td>137</td>\n      <td>136</td>\n      <td>139</td>\n      <td>138</td>\n    </tr>\n    <tr>\n      <th>D1</th>\n      <td>141</td>\n      <td>140</td>\n      <td>143</td>\n      <td>142</td>\n    </tr>\n    <tr>\n      <th rowspan=\"2\" valign=\"top\">C3</th>\n      <th>D0</th>\n      <td>153</td>\n      <td>152</td>\n      <td>155</td>\n      <td>154</td>\n    </tr>\n    <tr>\n      <th>D1</th>\n      <td>157</td>\n      <td>156</td>\n      <td>159</td>\n      <td>158</td>\n    </tr>\n    <tr>\n      <th rowspan=\"4\" valign=\"top\">B1</th>\n      <th rowspan=\"2\" valign=\"top\">C1</th>\n      <th>D0</th>\n      <td>169</td>\n      <td>168</td>\n      <td>171</td>\n      <td>170</td>\n    </tr>\n    <tr>\n      <th>D1</th>\n      <td>173</td>\n      <td>172</td>\n      <td>175</td>\n      <td>174</td>\n    </tr>\n    <tr>\n      <th rowspan=\"2\" valign=\"top\">C3</th>\n      <th>D0</th>\n      <td>185</td>\n      <td>184</td>\n      <td>187</td>\n      <td>186</td>\n    </tr>\n    <tr>\n      <th>D1</th>\n      <td>189</td>\n      <td>188</td>\n      <td>191</td>\n      <td>190</td>\n    </tr>\n    <tr>\n      <th rowspan=\"8\" valign=\"top\">A3</th>\n      <th rowspan=\"4\" valign=\"top\">B0</th>\n      <th rowspan=\"2\" valign=\"top\">C1</th>\n      <th>D0</th>\n      <td>201</td>\n      <td>200</td>\n      <td>203</td>\n      <td>202</td>\n    </tr>\n    <tr>\n      <th>D1</th>\n      <td>205</td>\n      <td>204</td>\n      <td>207</td>\n      <td>206</td>\n    </tr>\n    <tr>\n      <th rowspan=\"2\" valign=\"top\">C3</th>\n      <th>D0</th>\n      <td>217</td>\n      <td>216</td>\n      <td>219</td>\n      <td>218</td>\n    </tr>\n    <tr>\n      <th>D1</th>\n      <td>221</td>\n      <td>220</td>\n      <td>223</td>\n      <td>222</td>\n    </tr>\n    <tr>\n      <th rowspan=\"4\" valign=\"top\">B1</th>\n      <th rowspan=\"2\" valign=\"top\">C1</th>\n      <th>D0</th>\n      <td>233</td>\n      <td>232</td>\n      <td>235</td>\n      <td>234</td>\n    </tr>\n    <tr>\n      <th>D1</th>\n      <td>237</td>\n      <td>236</td>\n      <td>239</td>\n      <td>238</td>\n    </tr>\n    <tr>\n      <th rowspan=\"2\" valign=\"top\">C3</th>\n      <th>D0</th>\n      <td>249</td>\n      <td>248</td>\n      <td>251</td>\n      <td>250</td>\n    </tr>\n    <tr>\n      <th>D1</th>\n      <td>253</td>\n      <td>252</td>\n      <td>255</td>\n      <td>254</td>\n    </tr>\n  </tbody>\n</table>\n</div>"
                    },
                    "metadata": {},
                    "execution_count": 141
                }
            ],
            "source": [
                "dfmi.loc(axis=0)[:, :, [\"C1\", \"C3\"]]"
            ]
        },
        {
            "source": [
                "Furthermore, you can set the values using the following methods."
            ],
            "cell_type": "markdown",
            "metadata": {}
        },
        {
            "cell_type": "code",
            "execution_count": 142,
            "metadata": {},
            "outputs": [
                {
                    "output_type": "execute_result",
                    "data": {
                        "text/plain": [
                            "lvl0           a         b     \n",
                            "lvl1         bar  foo  bah  foo\n",
                            "A0 B0 C0 D0    1    0    3    2\n",
                            "         D1    5    4    7    6\n",
                            "      C1 D0  -10  -10  -10  -10\n",
                            "         D1  -10  -10  -10  -10\n",
                            "      C2 D0   17   16   19   18\n",
                            "...          ...  ...  ...  ...\n",
                            "A3 B1 C1 D1  -10  -10  -10  -10\n",
                            "      C2 D0  241  240  243  242\n",
                            "         D1  245  244  247  246\n",
                            "      C3 D0  -10  -10  -10  -10\n",
                            "         D1  -10  -10  -10  -10\n",
                            "\n",
                            "[64 rows x 4 columns]"
                        ],
                        "text/html": "<div>\n<style scoped>\n    .dataframe tbody tr th:only-of-type {\n        vertical-align: middle;\n    }\n\n    .dataframe tbody tr th {\n        vertical-align: top;\n    }\n\n    .dataframe thead tr th {\n        text-align: left;\n    }\n</style>\n<table border=\"1\" class=\"dataframe\">\n  <thead>\n    <tr>\n      <th></th>\n      <th></th>\n      <th></th>\n      <th>lvl0</th>\n      <th colspan=\"2\" halign=\"left\">a</th>\n      <th colspan=\"2\" halign=\"left\">b</th>\n    </tr>\n    <tr>\n      <th></th>\n      <th></th>\n      <th></th>\n      <th>lvl1</th>\n      <th>bar</th>\n      <th>foo</th>\n      <th>bah</th>\n      <th>foo</th>\n    </tr>\n  </thead>\n  <tbody>\n    <tr>\n      <th rowspan=\"5\" valign=\"top\">A0</th>\n      <th rowspan=\"5\" valign=\"top\">B0</th>\n      <th rowspan=\"2\" valign=\"top\">C0</th>\n      <th>D0</th>\n      <td>1</td>\n      <td>0</td>\n      <td>3</td>\n      <td>2</td>\n    </tr>\n    <tr>\n      <th>D1</th>\n      <td>5</td>\n      <td>4</td>\n      <td>7</td>\n      <td>6</td>\n    </tr>\n    <tr>\n      <th rowspan=\"2\" valign=\"top\">C1</th>\n      <th>D0</th>\n      <td>-10</td>\n      <td>-10</td>\n      <td>-10</td>\n      <td>-10</td>\n    </tr>\n    <tr>\n      <th>D1</th>\n      <td>-10</td>\n      <td>-10</td>\n      <td>-10</td>\n      <td>-10</td>\n    </tr>\n    <tr>\n      <th>C2</th>\n      <th>D0</th>\n      <td>17</td>\n      <td>16</td>\n      <td>19</td>\n      <td>18</td>\n    </tr>\n    <tr>\n      <th>...</th>\n      <th>...</th>\n      <th>...</th>\n      <th>...</th>\n      <td>...</td>\n      <td>...</td>\n      <td>...</td>\n      <td>...</td>\n    </tr>\n    <tr>\n      <th rowspan=\"5\" valign=\"top\">A3</th>\n      <th rowspan=\"5\" valign=\"top\">B1</th>\n      <th>C1</th>\n      <th>D1</th>\n      <td>-10</td>\n      <td>-10</td>\n      <td>-10</td>\n      <td>-10</td>\n    </tr>\n    <tr>\n      <th rowspan=\"2\" valign=\"top\">C2</th>\n      <th>D0</th>\n      <td>241</td>\n      <td>240</td>\n      <td>243</td>\n      <td>242</td>\n    </tr>\n    <tr>\n      <th>D1</th>\n      <td>245</td>\n      <td>244</td>\n      <td>247</td>\n      <td>246</td>\n    </tr>\n    <tr>\n      <th rowspan=\"2\" valign=\"top\">C3</th>\n      <th>D0</th>\n      <td>-10</td>\n      <td>-10</td>\n      <td>-10</td>\n      <td>-10</td>\n    </tr>\n    <tr>\n      <th>D1</th>\n      <td>-10</td>\n      <td>-10</td>\n      <td>-10</td>\n      <td>-10</td>\n    </tr>\n  </tbody>\n</table>\n<p>64 rows × 4 columns</p>\n</div>"
                    },
                    "metadata": {},
                    "execution_count": 142
                }
            ],
            "source": [
                "df2 = dfmi.copy()\n",
                "df2.loc(axis=0)[:, :, [\"C1\", \"C3\"]] = -10\n",
                "df2"
            ]
        },
        {
            "source": [
                "You can use a right-hand-side of an alignable object as well."
            ],
            "cell_type": "markdown",
            "metadata": {}
        },
        {
            "cell_type": "code",
            "execution_count": 143,
            "metadata": {},
            "outputs": [
                {
                    "output_type": "execute_result",
                    "data": {
                        "text/plain": [
                            "lvl0              a               b        \n",
                            "lvl1            bar     foo     bah     foo\n",
                            "A0 B0 C0 D0       1       0       3       2\n",
                            "         D1       5       4       7       6\n",
                            "      C1 D0    9000    8000   11000   10000\n",
                            "         D1   13000   12000   15000   14000\n",
                            "      C2 D0      17      16      19      18\n",
                            "...             ...     ...     ...     ...\n",
                            "A3 B1 C1 D1  237000  236000  239000  238000\n",
                            "      C2 D0     241     240     243     242\n",
                            "         D1     245     244     247     246\n",
                            "      C3 D0  249000  248000  251000  250000\n",
                            "         D1  253000  252000  255000  254000\n",
                            "\n",
                            "[64 rows x 4 columns]"
                        ],
                        "text/html": "<div>\n<style scoped>\n    .dataframe tbody tr th:only-of-type {\n        vertical-align: middle;\n    }\n\n    .dataframe tbody tr th {\n        vertical-align: top;\n    }\n\n    .dataframe thead tr th {\n        text-align: left;\n    }\n</style>\n<table border=\"1\" class=\"dataframe\">\n  <thead>\n    <tr>\n      <th></th>\n      <th></th>\n      <th></th>\n      <th>lvl0</th>\n      <th colspan=\"2\" halign=\"left\">a</th>\n      <th colspan=\"2\" halign=\"left\">b</th>\n    </tr>\n    <tr>\n      <th></th>\n      <th></th>\n      <th></th>\n      <th>lvl1</th>\n      <th>bar</th>\n      <th>foo</th>\n      <th>bah</th>\n      <th>foo</th>\n    </tr>\n  </thead>\n  <tbody>\n    <tr>\n      <th rowspan=\"5\" valign=\"top\">A0</th>\n      <th rowspan=\"5\" valign=\"top\">B0</th>\n      <th rowspan=\"2\" valign=\"top\">C0</th>\n      <th>D0</th>\n      <td>1</td>\n      <td>0</td>\n      <td>3</td>\n      <td>2</td>\n    </tr>\n    <tr>\n      <th>D1</th>\n      <td>5</td>\n      <td>4</td>\n      <td>7</td>\n      <td>6</td>\n    </tr>\n    <tr>\n      <th rowspan=\"2\" valign=\"top\">C1</th>\n      <th>D0</th>\n      <td>9000</td>\n      <td>8000</td>\n      <td>11000</td>\n      <td>10000</td>\n    </tr>\n    <tr>\n      <th>D1</th>\n      <td>13000</td>\n      <td>12000</td>\n      <td>15000</td>\n      <td>14000</td>\n    </tr>\n    <tr>\n      <th>C2</th>\n      <th>D0</th>\n      <td>17</td>\n      <td>16</td>\n      <td>19</td>\n      <td>18</td>\n    </tr>\n    <tr>\n      <th>...</th>\n      <th>...</th>\n      <th>...</th>\n      <th>...</th>\n      <td>...</td>\n      <td>...</td>\n      <td>...</td>\n      <td>...</td>\n    </tr>\n    <tr>\n      <th rowspan=\"5\" valign=\"top\">A3</th>\n      <th rowspan=\"5\" valign=\"top\">B1</th>\n      <th>C1</th>\n      <th>D1</th>\n      <td>237000</td>\n      <td>236000</td>\n      <td>239000</td>\n      <td>238000</td>\n    </tr>\n    <tr>\n      <th rowspan=\"2\" valign=\"top\">C2</th>\n      <th>D0</th>\n      <td>241</td>\n      <td>240</td>\n      <td>243</td>\n      <td>242</td>\n    </tr>\n    <tr>\n      <th>D1</th>\n      <td>245</td>\n      <td>244</td>\n      <td>247</td>\n      <td>246</td>\n    </tr>\n    <tr>\n      <th rowspan=\"2\" valign=\"top\">C3</th>\n      <th>D0</th>\n      <td>249000</td>\n      <td>248000</td>\n      <td>251000</td>\n      <td>250000</td>\n    </tr>\n    <tr>\n      <th>D1</th>\n      <td>253000</td>\n      <td>252000</td>\n      <td>255000</td>\n      <td>254000</td>\n    </tr>\n  </tbody>\n</table>\n<p>64 rows × 4 columns</p>\n</div>"
                    },
                    "metadata": {},
                    "execution_count": 143
                }
            ],
            "source": [
                "df2 = dfmi.copy()\n",
                "df2.loc[idx[:, :, [\"C1\", \"C3\"]], :] = df2 * 1000\n",
                "df2"
            ]
        },
        {
            "source": [
                "## Cross-section\n",
                "\n",
                "The xs() method of DataFrame additionally takes a level argument to make selecting data at a particular level of a MultiIndex easier."
            ],
            "cell_type": "markdown",
            "metadata": {}
        },
        {
            "cell_type": "code",
            "execution_count": 144,
            "metadata": {},
            "outputs": [
                {
                    "output_type": "execute_result",
                    "data": {
                        "text/plain": [
                            "                     A         B         C\n",
                            "first second                              \n",
                            "bar   one    -0.259651  0.278600 -0.653120\n",
                            "      two     0.963181  0.357024  0.159799\n",
                            "baz   one     1.675700 -1.083407 -0.708887\n",
                            "      two    -0.304849 -1.333659  0.304110\n",
                            "foo   one     0.646670  0.485616 -1.323304\n",
                            "      two    -0.502411  1.485936 -0.223076\n",
                            "qux   one    -1.182101 -0.096224  0.732673\n",
                            "      two    -2.011454  0.792112 -2.214595"
                        ],
                        "text/html": "<div>\n<style scoped>\n    .dataframe tbody tr th:only-of-type {\n        vertical-align: middle;\n    }\n\n    .dataframe tbody tr th {\n        vertical-align: top;\n    }\n\n    .dataframe thead th {\n        text-align: right;\n    }\n</style>\n<table border=\"1\" class=\"dataframe\">\n  <thead>\n    <tr style=\"text-align: right;\">\n      <th></th>\n      <th></th>\n      <th>A</th>\n      <th>B</th>\n      <th>C</th>\n    </tr>\n    <tr>\n      <th>first</th>\n      <th>second</th>\n      <th></th>\n      <th></th>\n      <th></th>\n    </tr>\n  </thead>\n  <tbody>\n    <tr>\n      <th rowspan=\"2\" valign=\"top\">bar</th>\n      <th>one</th>\n      <td>-0.259651</td>\n      <td>0.278600</td>\n      <td>-0.653120</td>\n    </tr>\n    <tr>\n      <th>two</th>\n      <td>0.963181</td>\n      <td>0.357024</td>\n      <td>0.159799</td>\n    </tr>\n    <tr>\n      <th rowspan=\"2\" valign=\"top\">baz</th>\n      <th>one</th>\n      <td>1.675700</td>\n      <td>-1.083407</td>\n      <td>-0.708887</td>\n    </tr>\n    <tr>\n      <th>two</th>\n      <td>-0.304849</td>\n      <td>-1.333659</td>\n      <td>0.304110</td>\n    </tr>\n    <tr>\n      <th rowspan=\"2\" valign=\"top\">foo</th>\n      <th>one</th>\n      <td>0.646670</td>\n      <td>0.485616</td>\n      <td>-1.323304</td>\n    </tr>\n    <tr>\n      <th>two</th>\n      <td>-0.502411</td>\n      <td>1.485936</td>\n      <td>-0.223076</td>\n    </tr>\n    <tr>\n      <th rowspan=\"2\" valign=\"top\">qux</th>\n      <th>one</th>\n      <td>-1.182101</td>\n      <td>-0.096224</td>\n      <td>0.732673</td>\n    </tr>\n    <tr>\n      <th>two</th>\n      <td>-2.011454</td>\n      <td>0.792112</td>\n      <td>-2.214595</td>\n    </tr>\n  </tbody>\n</table>\n</div>"
                    },
                    "metadata": {},
                    "execution_count": 144
                }
            ],
            "source": [
                "df"
            ]
        },
        {
            "cell_type": "code",
            "execution_count": 145,
            "metadata": {},
            "outputs": [
                {
                    "output_type": "execute_result",
                    "data": {
                        "text/plain": [
                            "              A         B         C\n",
                            "first                              \n",
                            "bar   -0.259651  0.278600 -0.653120\n",
                            "baz    1.675700 -1.083407 -0.708887\n",
                            "foo    0.646670  0.485616 -1.323304\n",
                            "qux   -1.182101 -0.096224  0.732673"
                        ],
                        "text/html": "<div>\n<style scoped>\n    .dataframe tbody tr th:only-of-type {\n        vertical-align: middle;\n    }\n\n    .dataframe tbody tr th {\n        vertical-align: top;\n    }\n\n    .dataframe thead th {\n        text-align: right;\n    }\n</style>\n<table border=\"1\" class=\"dataframe\">\n  <thead>\n    <tr style=\"text-align: right;\">\n      <th></th>\n      <th>A</th>\n      <th>B</th>\n      <th>C</th>\n    </tr>\n    <tr>\n      <th>first</th>\n      <th></th>\n      <th></th>\n      <th></th>\n    </tr>\n  </thead>\n  <tbody>\n    <tr>\n      <th>bar</th>\n      <td>-0.259651</td>\n      <td>0.278600</td>\n      <td>-0.653120</td>\n    </tr>\n    <tr>\n      <th>baz</th>\n      <td>1.675700</td>\n      <td>-1.083407</td>\n      <td>-0.708887</td>\n    </tr>\n    <tr>\n      <th>foo</th>\n      <td>0.646670</td>\n      <td>0.485616</td>\n      <td>-1.323304</td>\n    </tr>\n    <tr>\n      <th>qux</th>\n      <td>-1.182101</td>\n      <td>-0.096224</td>\n      <td>0.732673</td>\n    </tr>\n  </tbody>\n</table>\n</div>"
                    },
                    "metadata": {},
                    "execution_count": 145
                }
            ],
            "source": [
                "df.xs(\"one\", level=\"second\")"
            ]
        },
        {
            "cell_type": "code",
            "execution_count": 147,
            "metadata": {},
            "outputs": [
                {
                    "output_type": "execute_result",
                    "data": {
                        "text/plain": [
                            "                     A         B         C\n",
                            "first second                              \n",
                            "bar   one    -0.259651  0.278600 -0.653120\n",
                            "baz   one     1.675700 -1.083407 -0.708887\n",
                            "foo   one     0.646670  0.485616 -1.323304\n",
                            "qux   one    -1.182101 -0.096224  0.732673"
                        ],
                        "text/html": "<div>\n<style scoped>\n    .dataframe tbody tr th:only-of-type {\n        vertical-align: middle;\n    }\n\n    .dataframe tbody tr th {\n        vertical-align: top;\n    }\n\n    .dataframe thead th {\n        text-align: right;\n    }\n</style>\n<table border=\"1\" class=\"dataframe\">\n  <thead>\n    <tr style=\"text-align: right;\">\n      <th></th>\n      <th></th>\n      <th>A</th>\n      <th>B</th>\n      <th>C</th>\n    </tr>\n    <tr>\n      <th>first</th>\n      <th>second</th>\n      <th></th>\n      <th></th>\n      <th></th>\n    </tr>\n  </thead>\n  <tbody>\n    <tr>\n      <th>bar</th>\n      <th>one</th>\n      <td>-0.259651</td>\n      <td>0.278600</td>\n      <td>-0.653120</td>\n    </tr>\n    <tr>\n      <th>baz</th>\n      <th>one</th>\n      <td>1.675700</td>\n      <td>-1.083407</td>\n      <td>-0.708887</td>\n    </tr>\n    <tr>\n      <th>foo</th>\n      <th>one</th>\n      <td>0.646670</td>\n      <td>0.485616</td>\n      <td>-1.323304</td>\n    </tr>\n    <tr>\n      <th>qux</th>\n      <th>one</th>\n      <td>-1.182101</td>\n      <td>-0.096224</td>\n      <td>0.732673</td>\n    </tr>\n  </tbody>\n</table>\n</div>"
                    },
                    "metadata": {},
                    "execution_count": 147
                }
            ],
            "source": [
                "# using the slicers\n",
                "df.loc[(slice(None), \"one\"), :]"
            ]
        },
        {
            "source": [
                "You can also select on the columns with xs, by providing the axis argument."
            ],
            "cell_type": "markdown",
            "metadata": {}
        },
        {
            "cell_type": "code",
            "execution_count": 148,
            "metadata": {},
            "outputs": [
                {
                    "output_type": "execute_result",
                    "data": {
                        "text/plain": [
                            "first       bar       baz       foo       qux\n",
                            "A     -0.259651  1.675700  0.646670 -1.182101\n",
                            "B      0.278600 -1.083407  0.485616 -0.096224\n",
                            "C     -0.653120 -0.708887 -1.323304  0.732673"
                        ],
                        "text/html": "<div>\n<style scoped>\n    .dataframe tbody tr th:only-of-type {\n        vertical-align: middle;\n    }\n\n    .dataframe tbody tr th {\n        vertical-align: top;\n    }\n\n    .dataframe thead th {\n        text-align: right;\n    }\n</style>\n<table border=\"1\" class=\"dataframe\">\n  <thead>\n    <tr style=\"text-align: right;\">\n      <th>first</th>\n      <th>bar</th>\n      <th>baz</th>\n      <th>foo</th>\n      <th>qux</th>\n    </tr>\n  </thead>\n  <tbody>\n    <tr>\n      <th>A</th>\n      <td>-0.259651</td>\n      <td>1.675700</td>\n      <td>0.646670</td>\n      <td>-1.182101</td>\n    </tr>\n    <tr>\n      <th>B</th>\n      <td>0.278600</td>\n      <td>-1.083407</td>\n      <td>0.485616</td>\n      <td>-0.096224</td>\n    </tr>\n    <tr>\n      <th>C</th>\n      <td>-0.653120</td>\n      <td>-0.708887</td>\n      <td>-1.323304</td>\n      <td>0.732673</td>\n    </tr>\n  </tbody>\n</table>\n</div>"
                    },
                    "metadata": {},
                    "execution_count": 148
                }
            ],
            "source": [
                "df = df.T\n",
                "df.xs(\"one\", level=\"second\", axis=1)"
            ]
        },
        {
            "cell_type": "code",
            "execution_count": 149,
            "metadata": {},
            "outputs": [
                {
                    "output_type": "execute_result",
                    "data": {
                        "text/plain": [
                            "first        bar       baz       foo       qux\n",
                            "second       one       one       one       one\n",
                            "A      -0.259651  1.675700  0.646670 -1.182101\n",
                            "B       0.278600 -1.083407  0.485616 -0.096224\n",
                            "C      -0.653120 -0.708887 -1.323304  0.732673"
                        ],
                        "text/html": "<div>\n<style scoped>\n    .dataframe tbody tr th:only-of-type {\n        vertical-align: middle;\n    }\n\n    .dataframe tbody tr th {\n        vertical-align: top;\n    }\n\n    .dataframe thead tr th {\n        text-align: left;\n    }\n</style>\n<table border=\"1\" class=\"dataframe\">\n  <thead>\n    <tr>\n      <th>first</th>\n      <th>bar</th>\n      <th>baz</th>\n      <th>foo</th>\n      <th>qux</th>\n    </tr>\n    <tr>\n      <th>second</th>\n      <th>one</th>\n      <th>one</th>\n      <th>one</th>\n      <th>one</th>\n    </tr>\n  </thead>\n  <tbody>\n    <tr>\n      <th>A</th>\n      <td>-0.259651</td>\n      <td>1.675700</td>\n      <td>0.646670</td>\n      <td>-1.182101</td>\n    </tr>\n    <tr>\n      <th>B</th>\n      <td>0.278600</td>\n      <td>-1.083407</td>\n      <td>0.485616</td>\n      <td>-0.096224</td>\n    </tr>\n    <tr>\n      <th>C</th>\n      <td>-0.653120</td>\n      <td>-0.708887</td>\n      <td>-1.323304</td>\n      <td>0.732673</td>\n    </tr>\n  </tbody>\n</table>\n</div>"
                    },
                    "metadata": {},
                    "execution_count": 149
                }
            ],
            "source": [
                "# using the slicers\n",
                "df.loc[:, (slice(None), \"one\")]"
            ]
        },
        {
            "source": [
                "xs also allows selection with multiple keys."
            ],
            "cell_type": "markdown",
            "metadata": {}
        },
        {
            "cell_type": "code",
            "execution_count": 151,
            "metadata": {},
            "outputs": [
                {
                    "output_type": "execute_result",
                    "data": {
                        "text/plain": [
                            "first        bar\n",
                            "second       one\n",
                            "A      -0.259651\n",
                            "B       0.278600\n",
                            "C      -0.653120"
                        ],
                        "text/html": "<div>\n<style scoped>\n    .dataframe tbody tr th:only-of-type {\n        vertical-align: middle;\n    }\n\n    .dataframe tbody tr th {\n        vertical-align: top;\n    }\n\n    .dataframe thead tr th {\n        text-align: left;\n    }\n</style>\n<table border=\"1\" class=\"dataframe\">\n  <thead>\n    <tr>\n      <th>first</th>\n      <th>bar</th>\n    </tr>\n    <tr>\n      <th>second</th>\n      <th>one</th>\n    </tr>\n  </thead>\n  <tbody>\n    <tr>\n      <th>A</th>\n      <td>-0.259651</td>\n    </tr>\n    <tr>\n      <th>B</th>\n      <td>0.278600</td>\n    </tr>\n    <tr>\n      <th>C</th>\n      <td>-0.653120</td>\n    </tr>\n  </tbody>\n</table>\n</div>"
                    },
                    "metadata": {},
                    "execution_count": 151
                }
            ],
            "source": [
                "df.xs((\"one\", \"bar\"), level=(\"second\", \"first\"), axis=1)"
            ]
        },
        {
            "cell_type": "code",
            "execution_count": 152,
            "metadata": {},
            "outputs": [
                {
                    "output_type": "execute_result",
                    "data": {
                        "text/plain": [
                            "A   -0.259651\n",
                            "B    0.278600\n",
                            "C   -0.653120\n",
                            "Name: (bar, one), dtype: float64"
                        ]
                    },
                    "metadata": {},
                    "execution_count": 152
                }
            ],
            "source": [
                "# using the slicers\n",
                "df.loc[:, (\"bar\", \"one\")]"
            ]
        },
        {
            "source": [
                "You can pass drop_level=False to xs to retain the level that was selected."
            ],
            "cell_type": "markdown",
            "metadata": {}
        },
        {
            "cell_type": "code",
            "execution_count": 153,
            "metadata": {},
            "outputs": [
                {
                    "output_type": "execute_result",
                    "data": {
                        "text/plain": [
                            "first        bar       baz       foo       qux\n",
                            "second       one       one       one       one\n",
                            "A      -0.259651  1.675700  0.646670 -1.182101\n",
                            "B       0.278600 -1.083407  0.485616 -0.096224\n",
                            "C      -0.653120 -0.708887 -1.323304  0.732673"
                        ],
                        "text/html": "<div>\n<style scoped>\n    .dataframe tbody tr th:only-of-type {\n        vertical-align: middle;\n    }\n\n    .dataframe tbody tr th {\n        vertical-align: top;\n    }\n\n    .dataframe thead tr th {\n        text-align: left;\n    }\n</style>\n<table border=\"1\" class=\"dataframe\">\n  <thead>\n    <tr>\n      <th>first</th>\n      <th>bar</th>\n      <th>baz</th>\n      <th>foo</th>\n      <th>qux</th>\n    </tr>\n    <tr>\n      <th>second</th>\n      <th>one</th>\n      <th>one</th>\n      <th>one</th>\n      <th>one</th>\n    </tr>\n  </thead>\n  <tbody>\n    <tr>\n      <th>A</th>\n      <td>-0.259651</td>\n      <td>1.675700</td>\n      <td>0.646670</td>\n      <td>-1.182101</td>\n    </tr>\n    <tr>\n      <th>B</th>\n      <td>0.278600</td>\n      <td>-1.083407</td>\n      <td>0.485616</td>\n      <td>-0.096224</td>\n    </tr>\n    <tr>\n      <th>C</th>\n      <td>-0.653120</td>\n      <td>-0.708887</td>\n      <td>-1.323304</td>\n      <td>0.732673</td>\n    </tr>\n  </tbody>\n</table>\n</div>"
                    },
                    "metadata": {},
                    "execution_count": 153
                }
            ],
            "source": [
                "df.xs(\"one\", level=\"second\", axis=1, drop_level=False)"
            ]
        },
        {
            "source": [
                "Compare the above with the result using drop_level=True (the default value)."
            ],
            "cell_type": "markdown",
            "metadata": {}
        },
        {
            "cell_type": "code",
            "execution_count": 154,
            "metadata": {},
            "outputs": [
                {
                    "output_type": "execute_result",
                    "data": {
                        "text/plain": [
                            "first       bar       baz       foo       qux\n",
                            "A     -0.259651  1.675700  0.646670 -1.182101\n",
                            "B      0.278600 -1.083407  0.485616 -0.096224\n",
                            "C     -0.653120 -0.708887 -1.323304  0.732673"
                        ],
                        "text/html": "<div>\n<style scoped>\n    .dataframe tbody tr th:only-of-type {\n        vertical-align: middle;\n    }\n\n    .dataframe tbody tr th {\n        vertical-align: top;\n    }\n\n    .dataframe thead th {\n        text-align: right;\n    }\n</style>\n<table border=\"1\" class=\"dataframe\">\n  <thead>\n    <tr style=\"text-align: right;\">\n      <th>first</th>\n      <th>bar</th>\n      <th>baz</th>\n      <th>foo</th>\n      <th>qux</th>\n    </tr>\n  </thead>\n  <tbody>\n    <tr>\n      <th>A</th>\n      <td>-0.259651</td>\n      <td>1.675700</td>\n      <td>0.646670</td>\n      <td>-1.182101</td>\n    </tr>\n    <tr>\n      <th>B</th>\n      <td>0.278600</td>\n      <td>-1.083407</td>\n      <td>0.485616</td>\n      <td>-0.096224</td>\n    </tr>\n    <tr>\n      <th>C</th>\n      <td>-0.653120</td>\n      <td>-0.708887</td>\n      <td>-1.323304</td>\n      <td>0.732673</td>\n    </tr>\n  </tbody>\n</table>\n</div>"
                    },
                    "metadata": {},
                    "execution_count": 154
                }
            ],
            "source": [
                "df.xs(\"one\", level=\"second\", axis=1, drop_level=True)"
            ]
        },
        {
            "source": [
                "## Advanced reindexing and alignment\n",
                "\n",
                "Using the parameter level in the reindex() and align() methods of pandas objects is useful to broadcast values across a level. For instance:"
            ],
            "cell_type": "markdown",
            "metadata": {}
        },
        {
            "cell_type": "code",
            "execution_count": 155,
            "metadata": {},
            "outputs": [
                {
                    "output_type": "execute_result",
                    "data": {
                        "text/plain": [
                            "               0         1\n",
                            "one  y -0.241104 -0.496101\n",
                            "     x -0.806812  0.022557\n",
                            "zero y  1.799405 -0.570341\n",
                            "     x -1.115198  0.751839"
                        ],
                        "text/html": "<div>\n<style scoped>\n    .dataframe tbody tr th:only-of-type {\n        vertical-align: middle;\n    }\n\n    .dataframe tbody tr th {\n        vertical-align: top;\n    }\n\n    .dataframe thead th {\n        text-align: right;\n    }\n</style>\n<table border=\"1\" class=\"dataframe\">\n  <thead>\n    <tr style=\"text-align: right;\">\n      <th></th>\n      <th></th>\n      <th>0</th>\n      <th>1</th>\n    </tr>\n  </thead>\n  <tbody>\n    <tr>\n      <th rowspan=\"2\" valign=\"top\">one</th>\n      <th>y</th>\n      <td>-0.241104</td>\n      <td>-0.496101</td>\n    </tr>\n    <tr>\n      <th>x</th>\n      <td>-0.806812</td>\n      <td>0.022557</td>\n    </tr>\n    <tr>\n      <th rowspan=\"2\" valign=\"top\">zero</th>\n      <th>y</th>\n      <td>1.799405</td>\n      <td>-0.570341</td>\n    </tr>\n    <tr>\n      <th>x</th>\n      <td>-1.115198</td>\n      <td>0.751839</td>\n    </tr>\n  </tbody>\n</table>\n</div>"
                    },
                    "metadata": {},
                    "execution_count": 155
                }
            ],
            "source": [
                "midx = pd.MultiIndex(\n",
                "        levels=[[\"zero\", \"one\"], [\"x\", \"y\"]], codes=[[1, 1, 0, 0], [1, 0, 1, 0]]\n",
                ")\n",
                "df = pd.DataFrame(np.random.randn(4, 2), index=midx)\n",
                "df"
            ]
        },
        {
            "cell_type": "code",
            "execution_count": 156,
            "metadata": {},
            "outputs": [
                {
                    "output_type": "execute_result",
                    "data": {
                        "text/plain": [
                            "             0         1\n",
                            "one  -0.523958 -0.236772\n",
                            "zero  0.342104  0.090749"
                        ],
                        "text/html": "<div>\n<style scoped>\n    .dataframe tbody tr th:only-of-type {\n        vertical-align: middle;\n    }\n\n    .dataframe tbody tr th {\n        vertical-align: top;\n    }\n\n    .dataframe thead th {\n        text-align: right;\n    }\n</style>\n<table border=\"1\" class=\"dataframe\">\n  <thead>\n    <tr style=\"text-align: right;\">\n      <th></th>\n      <th>0</th>\n      <th>1</th>\n    </tr>\n  </thead>\n  <tbody>\n    <tr>\n      <th>one</th>\n      <td>-0.523958</td>\n      <td>-0.236772</td>\n    </tr>\n    <tr>\n      <th>zero</th>\n      <td>0.342104</td>\n      <td>0.090749</td>\n    </tr>\n  </tbody>\n</table>\n</div>"
                    },
                    "metadata": {},
                    "execution_count": 156
                }
            ],
            "source": [
                "df2 = df.groupby(level=0).mean()\n",
                "df2"
            ]
        },
        {
            "cell_type": "code",
            "execution_count": 157,
            "metadata": {},
            "outputs": [
                {
                    "output_type": "execute_result",
                    "data": {
                        "text/plain": [
                            "               0         1\n",
                            "one  y -0.523958 -0.236772\n",
                            "     x -0.523958 -0.236772\n",
                            "zero y  0.342104  0.090749\n",
                            "     x  0.342104  0.090749"
                        ],
                        "text/html": "<div>\n<style scoped>\n    .dataframe tbody tr th:only-of-type {\n        vertical-align: middle;\n    }\n\n    .dataframe tbody tr th {\n        vertical-align: top;\n    }\n\n    .dataframe thead th {\n        text-align: right;\n    }\n</style>\n<table border=\"1\" class=\"dataframe\">\n  <thead>\n    <tr style=\"text-align: right;\">\n      <th></th>\n      <th></th>\n      <th>0</th>\n      <th>1</th>\n    </tr>\n  </thead>\n  <tbody>\n    <tr>\n      <th rowspan=\"2\" valign=\"top\">one</th>\n      <th>y</th>\n      <td>-0.523958</td>\n      <td>-0.236772</td>\n    </tr>\n    <tr>\n      <th>x</th>\n      <td>-0.523958</td>\n      <td>-0.236772</td>\n    </tr>\n    <tr>\n      <th rowspan=\"2\" valign=\"top\">zero</th>\n      <th>y</th>\n      <td>0.342104</td>\n      <td>0.090749</td>\n    </tr>\n    <tr>\n      <th>x</th>\n      <td>0.342104</td>\n      <td>0.090749</td>\n    </tr>\n  </tbody>\n</table>\n</div>"
                    },
                    "metadata": {},
                    "execution_count": 157
                }
            ],
            "source": [
                "df2.reindex(df.index, level=0)"
            ]
        },
        {
            "cell_type": "code",
            "execution_count": 158,
            "metadata": {},
            "outputs": [
                {
                    "output_type": "execute_result",
                    "data": {
                        "text/plain": [
                            "               0         1\n",
                            "one  y -0.241104 -0.496101\n",
                            "     x -0.806812  0.022557\n",
                            "zero y  1.799405 -0.570341\n",
                            "     x -1.115198  0.751839"
                        ],
                        "text/html": "<div>\n<style scoped>\n    .dataframe tbody tr th:only-of-type {\n        vertical-align: middle;\n    }\n\n    .dataframe tbody tr th {\n        vertical-align: top;\n    }\n\n    .dataframe thead th {\n        text-align: right;\n    }\n</style>\n<table border=\"1\" class=\"dataframe\">\n  <thead>\n    <tr style=\"text-align: right;\">\n      <th></th>\n      <th></th>\n      <th>0</th>\n      <th>1</th>\n    </tr>\n  </thead>\n  <tbody>\n    <tr>\n      <th rowspan=\"2\" valign=\"top\">one</th>\n      <th>y</th>\n      <td>-0.241104</td>\n      <td>-0.496101</td>\n    </tr>\n    <tr>\n      <th>x</th>\n      <td>-0.806812</td>\n      <td>0.022557</td>\n    </tr>\n    <tr>\n      <th rowspan=\"2\" valign=\"top\">zero</th>\n      <th>y</th>\n      <td>1.799405</td>\n      <td>-0.570341</td>\n    </tr>\n    <tr>\n      <th>x</th>\n      <td>-1.115198</td>\n      <td>0.751839</td>\n    </tr>\n  </tbody>\n</table>\n</div>"
                    },
                    "metadata": {},
                    "execution_count": 158
                }
            ],
            "source": [
                "# aligning\n",
                "df_aligned, df2_aligned = df.align(df2, level=0)\n",
                "df_aligned"
            ]
        },
        {
            "cell_type": "code",
            "execution_count": 159,
            "metadata": {},
            "outputs": [
                {
                    "output_type": "execute_result",
                    "data": {
                        "text/plain": [
                            "               0         1\n",
                            "one  y -0.523958 -0.236772\n",
                            "     x -0.523958 -0.236772\n",
                            "zero y  0.342104  0.090749\n",
                            "     x  0.342104  0.090749"
                        ],
                        "text/html": "<div>\n<style scoped>\n    .dataframe tbody tr th:only-of-type {\n        vertical-align: middle;\n    }\n\n    .dataframe tbody tr th {\n        vertical-align: top;\n    }\n\n    .dataframe thead th {\n        text-align: right;\n    }\n</style>\n<table border=\"1\" class=\"dataframe\">\n  <thead>\n    <tr style=\"text-align: right;\">\n      <th></th>\n      <th></th>\n      <th>0</th>\n      <th>1</th>\n    </tr>\n  </thead>\n  <tbody>\n    <tr>\n      <th rowspan=\"2\" valign=\"top\">one</th>\n      <th>y</th>\n      <td>-0.523958</td>\n      <td>-0.236772</td>\n    </tr>\n    <tr>\n      <th>x</th>\n      <td>-0.523958</td>\n      <td>-0.236772</td>\n    </tr>\n    <tr>\n      <th rowspan=\"2\" valign=\"top\">zero</th>\n      <th>y</th>\n      <td>0.342104</td>\n      <td>0.090749</td>\n    </tr>\n    <tr>\n      <th>x</th>\n      <td>0.342104</td>\n      <td>0.090749</td>\n    </tr>\n  </tbody>\n</table>\n</div>"
                    },
                    "metadata": {},
                    "execution_count": 159
                }
            ],
            "source": [
                "df2_aligned"
            ]
        },
        {
            "source": [
                "## Swapping levels with swaplevel\n",
                "\n",
                "The swaplevel() method can switch the order of two levels:"
            ],
            "cell_type": "markdown",
            "metadata": {}
        },
        {
            "cell_type": "code",
            "execution_count": 160,
            "metadata": {},
            "outputs": [
                {
                    "output_type": "execute_result",
                    "data": {
                        "text/plain": [
                            "               0         1\n",
                            "one  y -0.241104 -0.496101\n",
                            "     x -0.806812  0.022557\n",
                            "zero y  1.799405 -0.570341\n",
                            "     x -1.115198  0.751839"
                        ],
                        "text/html": "<div>\n<style scoped>\n    .dataframe tbody tr th:only-of-type {\n        vertical-align: middle;\n    }\n\n    .dataframe tbody tr th {\n        vertical-align: top;\n    }\n\n    .dataframe thead th {\n        text-align: right;\n    }\n</style>\n<table border=\"1\" class=\"dataframe\">\n  <thead>\n    <tr style=\"text-align: right;\">\n      <th></th>\n      <th></th>\n      <th>0</th>\n      <th>1</th>\n    </tr>\n  </thead>\n  <tbody>\n    <tr>\n      <th rowspan=\"2\" valign=\"top\">one</th>\n      <th>y</th>\n      <td>-0.241104</td>\n      <td>-0.496101</td>\n    </tr>\n    <tr>\n      <th>x</th>\n      <td>-0.806812</td>\n      <td>0.022557</td>\n    </tr>\n    <tr>\n      <th rowspan=\"2\" valign=\"top\">zero</th>\n      <th>y</th>\n      <td>1.799405</td>\n      <td>-0.570341</td>\n    </tr>\n    <tr>\n      <th>x</th>\n      <td>-1.115198</td>\n      <td>0.751839</td>\n    </tr>\n  </tbody>\n</table>\n</div>"
                    },
                    "metadata": {},
                    "execution_count": 160
                }
            ],
            "source": [
                "df[:5]"
            ]
        },
        {
            "cell_type": "code",
            "execution_count": 161,
            "metadata": {},
            "outputs": [
                {
                    "output_type": "execute_result",
                    "data": {
                        "text/plain": [
                            "               0         1\n",
                            "y one  -0.241104 -0.496101\n",
                            "x one  -0.806812  0.022557\n",
                            "y zero  1.799405 -0.570341\n",
                            "x zero -1.115198  0.751839"
                        ],
                        "text/html": "<div>\n<style scoped>\n    .dataframe tbody tr th:only-of-type {\n        vertical-align: middle;\n    }\n\n    .dataframe tbody tr th {\n        vertical-align: top;\n    }\n\n    .dataframe thead th {\n        text-align: right;\n    }\n</style>\n<table border=\"1\" class=\"dataframe\">\n  <thead>\n    <tr style=\"text-align: right;\">\n      <th></th>\n      <th></th>\n      <th>0</th>\n      <th>1</th>\n    </tr>\n  </thead>\n  <tbody>\n    <tr>\n      <th>y</th>\n      <th>one</th>\n      <td>-0.241104</td>\n      <td>-0.496101</td>\n    </tr>\n    <tr>\n      <th>x</th>\n      <th>one</th>\n      <td>-0.806812</td>\n      <td>0.022557</td>\n    </tr>\n    <tr>\n      <th>y</th>\n      <th>zero</th>\n      <td>1.799405</td>\n      <td>-0.570341</td>\n    </tr>\n    <tr>\n      <th>x</th>\n      <th>zero</th>\n      <td>-1.115198</td>\n      <td>0.751839</td>\n    </tr>\n  </tbody>\n</table>\n</div>"
                    },
                    "metadata": {},
                    "execution_count": 161
                }
            ],
            "source": [
                "df[:5].swaplevel(0, 1, axis=0)"
            ]
        },
        {
            "source": [
                "## Reordering levels with reorder_levels\n",
                "The reorder_levels() method generalizes the swaplevel method, allowing you to permute the hierarchical index levels in one step:"
            ],
            "cell_type": "markdown",
            "metadata": {}
        },
        {
            "cell_type": "code",
            "execution_count": 162,
            "metadata": {},
            "outputs": [
                {
                    "output_type": "execute_result",
                    "data": {
                        "text/plain": [
                            "               0         1\n",
                            "y one  -0.241104 -0.496101\n",
                            "x one  -0.806812  0.022557\n",
                            "y zero  1.799405 -0.570341\n",
                            "x zero -1.115198  0.751839"
                        ],
                        "text/html": "<div>\n<style scoped>\n    .dataframe tbody tr th:only-of-type {\n        vertical-align: middle;\n    }\n\n    .dataframe tbody tr th {\n        vertical-align: top;\n    }\n\n    .dataframe thead th {\n        text-align: right;\n    }\n</style>\n<table border=\"1\" class=\"dataframe\">\n  <thead>\n    <tr style=\"text-align: right;\">\n      <th></th>\n      <th></th>\n      <th>0</th>\n      <th>1</th>\n    </tr>\n  </thead>\n  <tbody>\n    <tr>\n      <th>y</th>\n      <th>one</th>\n      <td>-0.241104</td>\n      <td>-0.496101</td>\n    </tr>\n    <tr>\n      <th>x</th>\n      <th>one</th>\n      <td>-0.806812</td>\n      <td>0.022557</td>\n    </tr>\n    <tr>\n      <th>y</th>\n      <th>zero</th>\n      <td>1.799405</td>\n      <td>-0.570341</td>\n    </tr>\n    <tr>\n      <th>x</th>\n      <th>zero</th>\n      <td>-1.115198</td>\n      <td>0.751839</td>\n    </tr>\n  </tbody>\n</table>\n</div>"
                    },
                    "metadata": {},
                    "execution_count": 162
                }
            ],
            "source": [
                "df[:5].reorder_levels([1, 0], axis=0)"
            ]
        },
        {
            "source": [
                "## Renaming names of an Index or MultiIndex\n",
                "The rename() method is used to rename the labels of a MultiIndex, and is typically used to rename the columns of a DataFrame. The columns argument of rename allows a dictionary to be specified that includes only the columns you wish to rename."
            ],
            "cell_type": "markdown",
            "metadata": {}
        },
        {
            "cell_type": "code",
            "execution_count": 164,
            "metadata": {},
            "outputs": [
                {
                    "output_type": "execute_result",
                    "data": {
                        "text/plain": [
                            "            col0      col1\n",
                            "one  y -0.241104 -0.496101\n",
                            "     x -0.806812  0.022557\n",
                            "zero y  1.799405 -0.570341\n",
                            "     x -1.115198  0.751839"
                        ],
                        "text/html": "<div>\n<style scoped>\n    .dataframe tbody tr th:only-of-type {\n        vertical-align: middle;\n    }\n\n    .dataframe tbody tr th {\n        vertical-align: top;\n    }\n\n    .dataframe thead th {\n        text-align: right;\n    }\n</style>\n<table border=\"1\" class=\"dataframe\">\n  <thead>\n    <tr style=\"text-align: right;\">\n      <th></th>\n      <th></th>\n      <th>col0</th>\n      <th>col1</th>\n    </tr>\n  </thead>\n  <tbody>\n    <tr>\n      <th rowspan=\"2\" valign=\"top\">one</th>\n      <th>y</th>\n      <td>-0.241104</td>\n      <td>-0.496101</td>\n    </tr>\n    <tr>\n      <th>x</th>\n      <td>-0.806812</td>\n      <td>0.022557</td>\n    </tr>\n    <tr>\n      <th rowspan=\"2\" valign=\"top\">zero</th>\n      <th>y</th>\n      <td>1.799405</td>\n      <td>-0.570341</td>\n    </tr>\n    <tr>\n      <th>x</th>\n      <td>-1.115198</td>\n      <td>0.751839</td>\n    </tr>\n  </tbody>\n</table>\n</div>"
                    },
                    "metadata": {},
                    "execution_count": 164
                }
            ],
            "source": [
                "df.rename(columns={0: \"col0\", 1: \"col1\"})"
            ]
        },
        {
            "source": [
                "This method can also be used to rename specific labels of the main index of the DataFrame."
            ],
            "cell_type": "markdown",
            "metadata": {}
        },
        {
            "cell_type": "code",
            "execution_count": 165,
            "metadata": {},
            "outputs": [
                {
                    "output_type": "execute_result",
                    "data": {
                        "text/plain": [
                            "               0         1\n",
                            "two  z -0.241104 -0.496101\n",
                            "     x -0.806812  0.022557\n",
                            "zero z  1.799405 -0.570341\n",
                            "     x -1.115198  0.751839"
                        ],
                        "text/html": "<div>\n<style scoped>\n    .dataframe tbody tr th:only-of-type {\n        vertical-align: middle;\n    }\n\n    .dataframe tbody tr th {\n        vertical-align: top;\n    }\n\n    .dataframe thead th {\n        text-align: right;\n    }\n</style>\n<table border=\"1\" class=\"dataframe\">\n  <thead>\n    <tr style=\"text-align: right;\">\n      <th></th>\n      <th></th>\n      <th>0</th>\n      <th>1</th>\n    </tr>\n  </thead>\n  <tbody>\n    <tr>\n      <th rowspan=\"2\" valign=\"top\">two</th>\n      <th>z</th>\n      <td>-0.241104</td>\n      <td>-0.496101</td>\n    </tr>\n    <tr>\n      <th>x</th>\n      <td>-0.806812</td>\n      <td>0.022557</td>\n    </tr>\n    <tr>\n      <th rowspan=\"2\" valign=\"top\">zero</th>\n      <th>z</th>\n      <td>1.799405</td>\n      <td>-0.570341</td>\n    </tr>\n    <tr>\n      <th>x</th>\n      <td>-1.115198</td>\n      <td>0.751839</td>\n    </tr>\n  </tbody>\n</table>\n</div>"
                    },
                    "metadata": {},
                    "execution_count": 165
                }
            ],
            "source": [
                "df.rename(index={\"one\": \"two\", \"y\": \"z\"})"
            ]
        },
        {
            "source": [
                "The rename_axis() method is used to rename the name of a Index or MultiIndex. In particular, the names of the levels of a MultiIndex can be specified, which is useful if reset_index() is later used to move the values from the MultiIndex to a column."
            ],
            "cell_type": "markdown",
            "metadata": {}
        },
        {
            "cell_type": "code",
            "execution_count": 166,
            "metadata": {},
            "outputs": [
                {
                    "output_type": "execute_result",
                    "data": {
                        "text/plain": [
                            "                 0         1\n",
                            "abc  def                    \n",
                            "one  y   -0.241104 -0.496101\n",
                            "     x   -0.806812  0.022557\n",
                            "zero y    1.799405 -0.570341\n",
                            "     x   -1.115198  0.751839"
                        ],
                        "text/html": "<div>\n<style scoped>\n    .dataframe tbody tr th:only-of-type {\n        vertical-align: middle;\n    }\n\n    .dataframe tbody tr th {\n        vertical-align: top;\n    }\n\n    .dataframe thead th {\n        text-align: right;\n    }\n</style>\n<table border=\"1\" class=\"dataframe\">\n  <thead>\n    <tr style=\"text-align: right;\">\n      <th></th>\n      <th></th>\n      <th>0</th>\n      <th>1</th>\n    </tr>\n    <tr>\n      <th>abc</th>\n      <th>def</th>\n      <th></th>\n      <th></th>\n    </tr>\n  </thead>\n  <tbody>\n    <tr>\n      <th rowspan=\"2\" valign=\"top\">one</th>\n      <th>y</th>\n      <td>-0.241104</td>\n      <td>-0.496101</td>\n    </tr>\n    <tr>\n      <th>x</th>\n      <td>-0.806812</td>\n      <td>0.022557</td>\n    </tr>\n    <tr>\n      <th rowspan=\"2\" valign=\"top\">zero</th>\n      <th>y</th>\n      <td>1.799405</td>\n      <td>-0.570341</td>\n    </tr>\n    <tr>\n      <th>x</th>\n      <td>-1.115198</td>\n      <td>0.751839</td>\n    </tr>\n  </tbody>\n</table>\n</div>"
                    },
                    "metadata": {},
                    "execution_count": 166
                }
            ],
            "source": [
                "df.rename_axis(index=[\"abc\", \"def\"])"
            ]
        },
        {
            "source": [
                "Note that the columns of a DataFrame are an index, so that using rename_axis with the columns argument will change the name of that index."
            ],
            "cell_type": "markdown",
            "metadata": {}
        },
        {
            "cell_type": "code",
            "execution_count": 167,
            "metadata": {},
            "outputs": [
                {
                    "output_type": "execute_result",
                    "data": {
                        "text/plain": [
                            "RangeIndex(start=0, stop=2, step=1, name='Cols')"
                        ]
                    },
                    "metadata": {},
                    "execution_count": 167
                }
            ],
            "source": [
                " df.rename_axis(columns=\"Cols\").columns"
            ]
        },
        {
            "source": [
                "Both rename and rename_axis support specifying a dictionary, Series or a mapping function to map labels/names to new values.\n",
                "\n",
                "When working with an Index object directly, rather than via a DataFrame, Index.set_names() can be used to change the names."
            ],
            "cell_type": "markdown",
            "metadata": {}
        },
        {
            "cell_type": "code",
            "execution_count": 169,
            "metadata": {},
            "outputs": [
                {
                    "output_type": "execute_result",
                    "data": {
                        "text/plain": [
                            "FrozenList(['x', 'y'])"
                        ]
                    },
                    "metadata": {},
                    "execution_count": 169
                }
            ],
            "source": [
                "mi = pd.MultiIndex.from_product([[1, 2], [\"a\", \"b\"]], names=[\"x\", \"y\"])\n",
                "mi.names"
            ]
        },
        {
            "cell_type": "code",
            "execution_count": 170,
            "metadata": {},
            "outputs": [
                {
                    "output_type": "execute_result",
                    "data": {
                        "text/plain": [
                            "MultiIndex([(1, 'a'),\n",
                            "            (1, 'b'),\n",
                            "            (2, 'a'),\n",
                            "            (2, 'b')],\n",
                            "           names=['new name', 'y'])"
                        ]
                    },
                    "metadata": {},
                    "execution_count": 170
                }
            ],
            "source": [
                "mi2 = mi.rename(\"new name\", level=0)\n",
                "mi2"
            ]
        },
        {
            "source": [
                "You cannot set the names of the MultiIndex via a level."
            ],
            "cell_type": "markdown",
            "metadata": {}
        },
        {
            "cell_type": "code",
            "execution_count": 171,
            "metadata": {},
            "outputs": [
                {
                    "output_type": "error",
                    "ename": "RuntimeError",
                    "evalue": "Cannot set name on a level of a MultiIndex. Use 'MultiIndex.set_names' instead.",
                    "traceback": [
                        "\u001b[1;31m---------------------------------------------------------------------------\u001b[0m",
                        "\u001b[1;31mRuntimeError\u001b[0m                              Traceback (most recent call last)",
                        "\u001b[1;32m<ipython-input-171-35d32a9a5218>\u001b[0m in \u001b[0;36m<module>\u001b[1;34m\u001b[0m\n\u001b[1;32m----> 1\u001b[1;33m \u001b[0mmi\u001b[0m\u001b[1;33m.\u001b[0m\u001b[0mlevels\u001b[0m\u001b[1;33m[\u001b[0m\u001b[1;36m0\u001b[0m\u001b[1;33m]\u001b[0m\u001b[1;33m.\u001b[0m\u001b[0mname\u001b[0m \u001b[1;33m=\u001b[0m \u001b[1;34m\"name via level\"\u001b[0m\u001b[1;33m\u001b[0m\u001b[1;33m\u001b[0m\u001b[0m\n\u001b[0m",
                        "\u001b[1;32mC:\\Users\\anaconda3\\envs\\myhpc\\lib\\site-packages\\pandas\\core\\indexes\\base.py\u001b[0m in \u001b[0;36mname\u001b[1;34m(self, value)\u001b[0m\n\u001b[0;32m   1458\u001b[0m         \u001b[1;32mif\u001b[0m \u001b[0mself\u001b[0m\u001b[1;33m.\u001b[0m\u001b[0m_no_setting_name\u001b[0m\u001b[1;33m:\u001b[0m\u001b[1;33m\u001b[0m\u001b[1;33m\u001b[0m\u001b[0m\n\u001b[0;32m   1459\u001b[0m             \u001b[1;31m# Used in MultiIndex.levels to avoid silently ignoring name updates.\u001b[0m\u001b[1;33m\u001b[0m\u001b[1;33m\u001b[0m\u001b[1;33m\u001b[0m\u001b[0m\n\u001b[1;32m-> 1460\u001b[1;33m             raise RuntimeError(\n\u001b[0m\u001b[0;32m   1461\u001b[0m                 \u001b[1;34m\"Cannot set name on a level of a MultiIndex. Use \"\u001b[0m\u001b[1;33m\u001b[0m\u001b[1;33m\u001b[0m\u001b[0m\n\u001b[0;32m   1462\u001b[0m                 \u001b[1;34m\"'MultiIndex.set_names' instead.\"\u001b[0m\u001b[1;33m\u001b[0m\u001b[1;33m\u001b[0m\u001b[0m\n",
                        "\u001b[1;31mRuntimeError\u001b[0m: Cannot set name on a level of a MultiIndex. Use 'MultiIndex.set_names' instead."
                    ]
                }
            ],
            "source": [
                "mi.levels[0].name = \"name via level\""
            ]
        },
        {
            "source": [
                "Use Index.set_names() instead."
            ],
            "cell_type": "markdown",
            "metadata": {}
        },
        {
            "source": [
                "## Sorting a MultiIndex\n",
                "For MultiIndex-ed objects to be indexed and sliced effectively, they need to be sorted. As with any index, you can use sort_index()."
            ],
            "cell_type": "markdown",
            "metadata": {}
        },
        {
            "cell_type": "code",
            "execution_count": 172,
            "metadata": {},
            "outputs": [
                {
                    "output_type": "execute_result",
                    "data": {
                        "text/plain": [
                            "bar  two    0.794334\n",
                            "foo  two   -0.876955\n",
                            "qux  two   -0.318091\n",
                            "bar  one    0.103176\n",
                            "baz  two   -1.275103\n",
                            "qux  one   -0.690408\n",
                            "baz  one    1.422101\n",
                            "foo  one    1.173370\n",
                            "dtype: float64"
                        ]
                    },
                    "metadata": {},
                    "execution_count": 172
                }
            ],
            "source": [
                "import random\n",
                "random.shuffle(tuples)\n",
                "s = pd.Series(np.random.randn(8), index=pd.MultiIndex.from_tuples(tuples))\n",
                "s"
            ]
        },
        {
            "cell_type": "code",
            "execution_count": 173,
            "metadata": {},
            "outputs": [
                {
                    "output_type": "execute_result",
                    "data": {
                        "text/plain": [
                            "bar  one    0.103176\n",
                            "     two    0.794334\n",
                            "baz  one    1.422101\n",
                            "     two   -1.275103\n",
                            "foo  one    1.173370\n",
                            "     two   -0.876955\n",
                            "qux  one   -0.690408\n",
                            "     two   -0.318091\n",
                            "dtype: float64"
                        ]
                    },
                    "metadata": {},
                    "execution_count": 173
                }
            ],
            "source": [
                "s.sort_index()"
            ]
        },
        {
            "cell_type": "code",
            "execution_count": 174,
            "metadata": {},
            "outputs": [
                {
                    "output_type": "execute_result",
                    "data": {
                        "text/plain": [
                            "bar  one    0.103176\n",
                            "     two    0.794334\n",
                            "baz  one    1.422101\n",
                            "     two   -1.275103\n",
                            "foo  one    1.173370\n",
                            "     two   -0.876955\n",
                            "qux  one   -0.690408\n",
                            "     two   -0.318091\n",
                            "dtype: float64"
                        ]
                    },
                    "metadata": {},
                    "execution_count": 174
                }
            ],
            "source": [
                "s.sort_index(level=0)"
            ]
        },
        {
            "cell_type": "code",
            "execution_count": 175,
            "metadata": {},
            "outputs": [
                {
                    "output_type": "execute_result",
                    "data": {
                        "text/plain": [
                            "bar  one    0.103176\n",
                            "baz  one    1.422101\n",
                            "foo  one    1.173370\n",
                            "qux  one   -0.690408\n",
                            "bar  two    0.794334\n",
                            "baz  two   -1.275103\n",
                            "foo  two   -0.876955\n",
                            "qux  two   -0.318091\n",
                            "dtype: float64"
                        ]
                    },
                    "metadata": {},
                    "execution_count": 175
                }
            ],
            "source": [
                "s.sort_index(level=1)"
            ]
        },
        {
            "source": [
                "You may also pass a level name to sort_index if the MultiIndex levels are named."
            ],
            "cell_type": "markdown",
            "metadata": {}
        },
        {
            "cell_type": "code",
            "execution_count": 176,
            "metadata": {},
            "outputs": [
                {
                    "output_type": "execute_result",
                    "data": {
                        "text/plain": [
                            "L1   L2 \n",
                            "bar  one    0.103176\n",
                            "     two    0.794334\n",
                            "baz  one    1.422101\n",
                            "     two   -1.275103\n",
                            "foo  one    1.173370\n",
                            "     two   -0.876955\n",
                            "qux  one   -0.690408\n",
                            "     two   -0.318091\n",
                            "dtype: float64"
                        ]
                    },
                    "metadata": {},
                    "execution_count": 176
                }
            ],
            "source": [
                "s.index.set_names([\"L1\", \"L2\"], inplace=True)\n",
                "s.sort_index(level=\"L1\")"
            ]
        },
        {
            "cell_type": "code",
            "execution_count": 177,
            "metadata": {},
            "outputs": [
                {
                    "output_type": "execute_result",
                    "data": {
                        "text/plain": [
                            "L1   L2 \n",
                            "bar  one    0.103176\n",
                            "baz  one    1.422101\n",
                            "foo  one    1.173370\n",
                            "qux  one   -0.690408\n",
                            "bar  two    0.794334\n",
                            "baz  two   -1.275103\n",
                            "foo  two   -0.876955\n",
                            "qux  two   -0.318091\n",
                            "dtype: float64"
                        ]
                    },
                    "metadata": {},
                    "execution_count": 177
                }
            ],
            "source": [
                "s.sort_index(level=\"L2\")"
            ]
        },
        {
            "source": [
                "On higher dimensional objects, you can sort any of the other axes by level if they have a MultiIndex:"
            ],
            "cell_type": "markdown",
            "metadata": {}
        },
        {
            "cell_type": "code",
            "execution_count": 178,
            "metadata": {},
            "outputs": [
                {
                    "output_type": "execute_result",
                    "data": {
                        "text/plain": [
                            "        one      zero       one      zero\n",
                            "          x         x         y         y\n",
                            "0 -0.806812 -1.115198 -0.241104  1.799405\n",
                            "1  0.022557  0.751839 -0.496101 -0.570341"
                        ],
                        "text/html": "<div>\n<style scoped>\n    .dataframe tbody tr th:only-of-type {\n        vertical-align: middle;\n    }\n\n    .dataframe tbody tr th {\n        vertical-align: top;\n    }\n\n    .dataframe thead tr th {\n        text-align: left;\n    }\n</style>\n<table border=\"1\" class=\"dataframe\">\n  <thead>\n    <tr>\n      <th></th>\n      <th>one</th>\n      <th>zero</th>\n      <th>one</th>\n      <th>zero</th>\n    </tr>\n    <tr>\n      <th></th>\n      <th>x</th>\n      <th>x</th>\n      <th>y</th>\n      <th>y</th>\n    </tr>\n  </thead>\n  <tbody>\n    <tr>\n      <th>0</th>\n      <td>-0.806812</td>\n      <td>-1.115198</td>\n      <td>-0.241104</td>\n      <td>1.799405</td>\n    </tr>\n    <tr>\n      <th>1</th>\n      <td>0.022557</td>\n      <td>0.751839</td>\n      <td>-0.496101</td>\n      <td>-0.570341</td>\n    </tr>\n  </tbody>\n</table>\n</div>"
                    },
                    "metadata": {},
                    "execution_count": 178
                }
            ],
            "source": [
                "df.T.sort_index(level=1, axis=1)"
            ]
        },
        {
            "source": [
                "Indexing will work even if the data are not sorted, but will be rather inefficient (and show a PerformanceWarning). It will also return a copy of the data rather than a view:"
            ],
            "cell_type": "markdown",
            "metadata": {}
        },
        {
            "cell_type": "code",
            "execution_count": 179,
            "metadata": {},
            "outputs": [
                {
                    "output_type": "execute_result",
                    "data": {
                        "text/plain": [
                            "            jolie\n",
                            "jim joe          \n",
                            "0   x    0.966664\n",
                            "    x    0.919988\n",
                            "1   z    0.988164\n",
                            "    y    0.832429"
                        ],
                        "text/html": "<div>\n<style scoped>\n    .dataframe tbody tr th:only-of-type {\n        vertical-align: middle;\n    }\n\n    .dataframe tbody tr th {\n        vertical-align: top;\n    }\n\n    .dataframe thead th {\n        text-align: right;\n    }\n</style>\n<table border=\"1\" class=\"dataframe\">\n  <thead>\n    <tr style=\"text-align: right;\">\n      <th></th>\n      <th></th>\n      <th>jolie</th>\n    </tr>\n    <tr>\n      <th>jim</th>\n      <th>joe</th>\n      <th></th>\n    </tr>\n  </thead>\n  <tbody>\n    <tr>\n      <th rowspan=\"2\" valign=\"top\">0</th>\n      <th>x</th>\n      <td>0.966664</td>\n    </tr>\n    <tr>\n      <th>x</th>\n      <td>0.919988</td>\n    </tr>\n    <tr>\n      <th rowspan=\"2\" valign=\"top\">1</th>\n      <th>z</th>\n      <td>0.988164</td>\n    </tr>\n    <tr>\n      <th>y</th>\n      <td>0.832429</td>\n    </tr>\n  </tbody>\n</table>\n</div>"
                    },
                    "metadata": {},
                    "execution_count": 179
                }
            ],
            "source": [
                "dfm = pd.DataFrame(\n",
                "   {\"jim\": [0, 0, 1, 1], \"joe\": [\"x\", \"x\", \"z\", \"y\"], \"jolie\": np.random.rand(4)}\n",
                ")\n",
                "dfm = dfm.set_index([\"jim\", \"joe\"])\n",
                "dfm"
            ]
        },
        {
            "cell_type": "code",
            "execution_count": 180,
            "metadata": {},
            "outputs": [
                {
                    "output_type": "stream",
                    "name": "stderr",
                    "text": [
                        "<ipython-input-180-308db657325d>:1: PerformanceWarning: indexing past lexsort depth may impact performance.\n  dfm.loc[(1, 'z')]\n"
                    ]
                },
                {
                    "output_type": "execute_result",
                    "data": {
                        "text/plain": [
                            "            jolie\n",
                            "jim joe          \n",
                            "1   z    0.988164"
                        ],
                        "text/html": "<div>\n<style scoped>\n    .dataframe tbody tr th:only-of-type {\n        vertical-align: middle;\n    }\n\n    .dataframe tbody tr th {\n        vertical-align: top;\n    }\n\n    .dataframe thead th {\n        text-align: right;\n    }\n</style>\n<table border=\"1\" class=\"dataframe\">\n  <thead>\n    <tr style=\"text-align: right;\">\n      <th></th>\n      <th></th>\n      <th>jolie</th>\n    </tr>\n    <tr>\n      <th>jim</th>\n      <th>joe</th>\n      <th></th>\n    </tr>\n  </thead>\n  <tbody>\n    <tr>\n      <th>1</th>\n      <th>z</th>\n      <td>0.988164</td>\n    </tr>\n  </tbody>\n</table>\n</div>"
                    },
                    "metadata": {},
                    "execution_count": 180
                }
            ],
            "source": [
                "dfm.loc[(1, 'z')]"
            ]
        },
        {
            "source": [
                "Furthermore, if you try to index something that is not fully lexsorted, this can raise:"
            ],
            "cell_type": "markdown",
            "metadata": {}
        },
        {
            "cell_type": "code",
            "execution_count": 182,
            "metadata": {},
            "outputs": [
                {
                    "output_type": "error",
                    "ename": "UnsortedIndexError",
                    "evalue": "'Key length (2) was greater than MultiIndex lexsort depth (1)'",
                    "traceback": [
                        "\u001b[1;31m---------------------------------------------------------------------------\u001b[0m",
                        "\u001b[1;31mUnsortedIndexError\u001b[0m                        Traceback (most recent call last)",
                        "\u001b[1;32m<ipython-input-182-16b7aa8fb2f0>\u001b[0m in \u001b[0;36m<module>\u001b[1;34m\u001b[0m\n\u001b[1;32m----> 1\u001b[1;33m \u001b[0mdfm\u001b[0m\u001b[1;33m.\u001b[0m\u001b[0mloc\u001b[0m\u001b[1;33m[\u001b[0m\u001b[1;33m(\u001b[0m\u001b[1;36m0\u001b[0m\u001b[1;33m,\u001b[0m \u001b[1;34m'y'\u001b[0m\u001b[1;33m)\u001b[0m\u001b[1;33m:\u001b[0m\u001b[1;33m(\u001b[0m\u001b[1;36m1\u001b[0m\u001b[1;33m,\u001b[0m \u001b[1;34m'z'\u001b[0m\u001b[1;33m)\u001b[0m\u001b[1;33m]\u001b[0m\u001b[1;33m\u001b[0m\u001b[1;33m\u001b[0m\u001b[0m\n\u001b[0m",
                        "\u001b[1;32mC:\\Users\\anaconda3\\envs\\myhpc\\lib\\site-packages\\pandas\\core\\indexing.py\u001b[0m in \u001b[0;36m__getitem__\u001b[1;34m(self, key)\u001b[0m\n\u001b[0;32m    929\u001b[0m \u001b[1;33m\u001b[0m\u001b[0m\n\u001b[0;32m    930\u001b[0m             \u001b[0mmaybe_callable\u001b[0m \u001b[1;33m=\u001b[0m \u001b[0mcom\u001b[0m\u001b[1;33m.\u001b[0m\u001b[0mapply_if_callable\u001b[0m\u001b[1;33m(\u001b[0m\u001b[0mkey\u001b[0m\u001b[1;33m,\u001b[0m \u001b[0mself\u001b[0m\u001b[1;33m.\u001b[0m\u001b[0mobj\u001b[0m\u001b[1;33m)\u001b[0m\u001b[1;33m\u001b[0m\u001b[1;33m\u001b[0m\u001b[0m\n\u001b[1;32m--> 931\u001b[1;33m             \u001b[1;32mreturn\u001b[0m \u001b[0mself\u001b[0m\u001b[1;33m.\u001b[0m\u001b[0m_getitem_axis\u001b[0m\u001b[1;33m(\u001b[0m\u001b[0mmaybe_callable\u001b[0m\u001b[1;33m,\u001b[0m \u001b[0maxis\u001b[0m\u001b[1;33m=\u001b[0m\u001b[0maxis\u001b[0m\u001b[1;33m)\u001b[0m\u001b[1;33m\u001b[0m\u001b[1;33m\u001b[0m\u001b[0m\n\u001b[0m\u001b[0;32m    932\u001b[0m \u001b[1;33m\u001b[0m\u001b[0m\n\u001b[0;32m    933\u001b[0m     \u001b[1;32mdef\u001b[0m \u001b[0m_is_scalar_access\u001b[0m\u001b[1;33m(\u001b[0m\u001b[0mself\u001b[0m\u001b[1;33m,\u001b[0m \u001b[0mkey\u001b[0m\u001b[1;33m:\u001b[0m \u001b[0mtuple\u001b[0m\u001b[1;33m)\u001b[0m\u001b[1;33m:\u001b[0m\u001b[1;33m\u001b[0m\u001b[1;33m\u001b[0m\u001b[0m\n",
                        "\u001b[1;32mC:\\Users\\anaconda3\\envs\\myhpc\\lib\\site-packages\\pandas\\core\\indexing.py\u001b[0m in \u001b[0;36m_getitem_axis\u001b[1;34m(self, key, axis)\u001b[0m\n\u001b[0;32m   1140\u001b[0m         \u001b[1;32mif\u001b[0m \u001b[0misinstance\u001b[0m\u001b[1;33m(\u001b[0m\u001b[0mkey\u001b[0m\u001b[1;33m,\u001b[0m \u001b[0mslice\u001b[0m\u001b[1;33m)\u001b[0m\u001b[1;33m:\u001b[0m\u001b[1;33m\u001b[0m\u001b[1;33m\u001b[0m\u001b[0m\n\u001b[0;32m   1141\u001b[0m             \u001b[0mself\u001b[0m\u001b[1;33m.\u001b[0m\u001b[0m_validate_key\u001b[0m\u001b[1;33m(\u001b[0m\u001b[0mkey\u001b[0m\u001b[1;33m,\u001b[0m \u001b[0maxis\u001b[0m\u001b[1;33m)\u001b[0m\u001b[1;33m\u001b[0m\u001b[1;33m\u001b[0m\u001b[0m\n\u001b[1;32m-> 1142\u001b[1;33m             \u001b[1;32mreturn\u001b[0m \u001b[0mself\u001b[0m\u001b[1;33m.\u001b[0m\u001b[0m_get_slice_axis\u001b[0m\u001b[1;33m(\u001b[0m\u001b[0mkey\u001b[0m\u001b[1;33m,\u001b[0m \u001b[0maxis\u001b[0m\u001b[1;33m=\u001b[0m\u001b[0maxis\u001b[0m\u001b[1;33m)\u001b[0m\u001b[1;33m\u001b[0m\u001b[1;33m\u001b[0m\u001b[0m\n\u001b[0m\u001b[0;32m   1143\u001b[0m         \u001b[1;32melif\u001b[0m \u001b[0mcom\u001b[0m\u001b[1;33m.\u001b[0m\u001b[0mis_bool_indexer\u001b[0m\u001b[1;33m(\u001b[0m\u001b[0mkey\u001b[0m\u001b[1;33m)\u001b[0m\u001b[1;33m:\u001b[0m\u001b[1;33m\u001b[0m\u001b[1;33m\u001b[0m\u001b[0m\n\u001b[0;32m   1144\u001b[0m             \u001b[1;32mreturn\u001b[0m \u001b[0mself\u001b[0m\u001b[1;33m.\u001b[0m\u001b[0m_getbool_axis\u001b[0m\u001b[1;33m(\u001b[0m\u001b[0mkey\u001b[0m\u001b[1;33m,\u001b[0m \u001b[0maxis\u001b[0m\u001b[1;33m=\u001b[0m\u001b[0maxis\u001b[0m\u001b[1;33m)\u001b[0m\u001b[1;33m\u001b[0m\u001b[1;33m\u001b[0m\u001b[0m\n",
                        "\u001b[1;32mC:\\Users\\anaconda3\\envs\\myhpc\\lib\\site-packages\\pandas\\core\\indexing.py\u001b[0m in \u001b[0;36m_get_slice_axis\u001b[1;34m(self, slice_obj, axis)\u001b[0m\n\u001b[0;32m   1174\u001b[0m \u001b[1;33m\u001b[0m\u001b[0m\n\u001b[0;32m   1175\u001b[0m         \u001b[0mlabels\u001b[0m \u001b[1;33m=\u001b[0m \u001b[0mobj\u001b[0m\u001b[1;33m.\u001b[0m\u001b[0m_get_axis\u001b[0m\u001b[1;33m(\u001b[0m\u001b[0maxis\u001b[0m\u001b[1;33m)\u001b[0m\u001b[1;33m\u001b[0m\u001b[1;33m\u001b[0m\u001b[0m\n\u001b[1;32m-> 1176\u001b[1;33m         \u001b[0mindexer\u001b[0m \u001b[1;33m=\u001b[0m \u001b[0mlabels\u001b[0m\u001b[1;33m.\u001b[0m\u001b[0mslice_indexer\u001b[0m\u001b[1;33m(\u001b[0m\u001b[0mslice_obj\u001b[0m\u001b[1;33m.\u001b[0m\u001b[0mstart\u001b[0m\u001b[1;33m,\u001b[0m \u001b[0mslice_obj\u001b[0m\u001b[1;33m.\u001b[0m\u001b[0mstop\u001b[0m\u001b[1;33m,\u001b[0m \u001b[0mslice_obj\u001b[0m\u001b[1;33m.\u001b[0m\u001b[0mstep\u001b[0m\u001b[1;33m)\u001b[0m\u001b[1;33m\u001b[0m\u001b[1;33m\u001b[0m\u001b[0m\n\u001b[0m\u001b[0;32m   1177\u001b[0m \u001b[1;33m\u001b[0m\u001b[0m\n\u001b[0;32m   1178\u001b[0m         \u001b[1;32mif\u001b[0m \u001b[0misinstance\u001b[0m\u001b[1;33m(\u001b[0m\u001b[0mindexer\u001b[0m\u001b[1;33m,\u001b[0m \u001b[0mslice\u001b[0m\u001b[1;33m)\u001b[0m\u001b[1;33m:\u001b[0m\u001b[1;33m\u001b[0m\u001b[1;33m\u001b[0m\u001b[0m\n",
                        "\u001b[1;32mC:\\Users\\anaconda3\\envs\\myhpc\\lib\\site-packages\\pandas\\core\\indexes\\base.py\u001b[0m in \u001b[0;36mslice_indexer\u001b[1;34m(self, start, end, step, kind)\u001b[0m\n\u001b[0;32m   5684\u001b[0m         \u001b[0mslice\u001b[0m\u001b[1;33m(\u001b[0m\u001b[1;36m1\u001b[0m\u001b[1;33m,\u001b[0m \u001b[1;36m3\u001b[0m\u001b[1;33m,\u001b[0m \u001b[1;32mNone\u001b[0m\u001b[1;33m)\u001b[0m\u001b[1;33m\u001b[0m\u001b[1;33m\u001b[0m\u001b[0m\n\u001b[0;32m   5685\u001b[0m         \"\"\"\n\u001b[1;32m-> 5686\u001b[1;33m         \u001b[0mstart_slice\u001b[0m\u001b[1;33m,\u001b[0m \u001b[0mend_slice\u001b[0m \u001b[1;33m=\u001b[0m \u001b[0mself\u001b[0m\u001b[1;33m.\u001b[0m\u001b[0mslice_locs\u001b[0m\u001b[1;33m(\u001b[0m\u001b[0mstart\u001b[0m\u001b[1;33m,\u001b[0m \u001b[0mend\u001b[0m\u001b[1;33m,\u001b[0m \u001b[0mstep\u001b[0m\u001b[1;33m=\u001b[0m\u001b[0mstep\u001b[0m\u001b[1;33m)\u001b[0m\u001b[1;33m\u001b[0m\u001b[1;33m\u001b[0m\u001b[0m\n\u001b[0m\u001b[0;32m   5687\u001b[0m \u001b[1;33m\u001b[0m\u001b[0m\n\u001b[0;32m   5688\u001b[0m         \u001b[1;31m# return a slice\u001b[0m\u001b[1;33m\u001b[0m\u001b[1;33m\u001b[0m\u001b[1;33m\u001b[0m\u001b[0m\n",
                        "\u001b[1;32mC:\\Users\\anaconda3\\envs\\myhpc\\lib\\site-packages\\pandas\\core\\indexes\\multi.py\u001b[0m in \u001b[0;36mslice_locs\u001b[1;34m(self, start, end, step, kind)\u001b[0m\n\u001b[0;32m   2791\u001b[0m         \u001b[1;31m# This function adds nothing to its parent implementation (the magic\u001b[0m\u001b[1;33m\u001b[0m\u001b[1;33m\u001b[0m\u001b[1;33m\u001b[0m\u001b[0m\n\u001b[0;32m   2792\u001b[0m         \u001b[1;31m# happens in get_slice_bound method), but it adds meaningful doc.\u001b[0m\u001b[1;33m\u001b[0m\u001b[1;33m\u001b[0m\u001b[1;33m\u001b[0m\u001b[0m\n\u001b[1;32m-> 2793\u001b[1;33m         \u001b[1;32mreturn\u001b[0m \u001b[0msuper\u001b[0m\u001b[1;33m(\u001b[0m\u001b[1;33m)\u001b[0m\u001b[1;33m.\u001b[0m\u001b[0mslice_locs\u001b[0m\u001b[1;33m(\u001b[0m\u001b[0mstart\u001b[0m\u001b[1;33m,\u001b[0m \u001b[0mend\u001b[0m\u001b[1;33m,\u001b[0m \u001b[0mstep\u001b[0m\u001b[1;33m)\u001b[0m\u001b[1;33m\u001b[0m\u001b[1;33m\u001b[0m\u001b[0m\n\u001b[0m\u001b[0;32m   2794\u001b[0m \u001b[1;33m\u001b[0m\u001b[0m\n\u001b[0;32m   2795\u001b[0m     \u001b[1;32mdef\u001b[0m \u001b[0m_partial_tup_index\u001b[0m\u001b[1;33m(\u001b[0m\u001b[0mself\u001b[0m\u001b[1;33m,\u001b[0m \u001b[0mtup\u001b[0m\u001b[1;33m:\u001b[0m \u001b[0mtuple\u001b[0m\u001b[1;33m,\u001b[0m \u001b[0mside\u001b[0m\u001b[1;33m=\u001b[0m\u001b[1;34m\"left\"\u001b[0m\u001b[1;33m)\u001b[0m\u001b[1;33m:\u001b[0m\u001b[1;33m\u001b[0m\u001b[1;33m\u001b[0m\u001b[0m\n",
                        "\u001b[1;32mC:\\Users\\anaconda3\\envs\\myhpc\\lib\\site-packages\\pandas\\core\\indexes\\base.py\u001b[0m in \u001b[0;36mslice_locs\u001b[1;34m(self, start, end, step, kind)\u001b[0m\n\u001b[0;32m   5886\u001b[0m         \u001b[0mstart_slice\u001b[0m \u001b[1;33m=\u001b[0m \u001b[1;32mNone\u001b[0m\u001b[1;33m\u001b[0m\u001b[1;33m\u001b[0m\u001b[0m\n\u001b[0;32m   5887\u001b[0m         \u001b[1;32mif\u001b[0m \u001b[0mstart\u001b[0m \u001b[1;32mis\u001b[0m \u001b[1;32mnot\u001b[0m \u001b[1;32mNone\u001b[0m\u001b[1;33m:\u001b[0m\u001b[1;33m\u001b[0m\u001b[1;33m\u001b[0m\u001b[0m\n\u001b[1;32m-> 5888\u001b[1;33m             \u001b[0mstart_slice\u001b[0m \u001b[1;33m=\u001b[0m \u001b[0mself\u001b[0m\u001b[1;33m.\u001b[0m\u001b[0mget_slice_bound\u001b[0m\u001b[1;33m(\u001b[0m\u001b[0mstart\u001b[0m\u001b[1;33m,\u001b[0m \u001b[1;34m\"left\"\u001b[0m\u001b[1;33m)\u001b[0m\u001b[1;33m\u001b[0m\u001b[1;33m\u001b[0m\u001b[0m\n\u001b[0m\u001b[0;32m   5889\u001b[0m         \u001b[1;32mif\u001b[0m \u001b[0mstart_slice\u001b[0m \u001b[1;32mis\u001b[0m \u001b[1;32mNone\u001b[0m\u001b[1;33m:\u001b[0m\u001b[1;33m\u001b[0m\u001b[1;33m\u001b[0m\u001b[0m\n\u001b[0;32m   5890\u001b[0m             \u001b[0mstart_slice\u001b[0m \u001b[1;33m=\u001b[0m \u001b[1;36m0\u001b[0m\u001b[1;33m\u001b[0m\u001b[1;33m\u001b[0m\u001b[0m\n",
                        "\u001b[1;32mC:\\Users\\anaconda3\\envs\\myhpc\\lib\\site-packages\\pandas\\core\\indexes\\multi.py\u001b[0m in \u001b[0;36mget_slice_bound\u001b[1;34m(self, label, side, kind)\u001b[0m\n\u001b[0;32m   2735\u001b[0m         \u001b[1;32mif\u001b[0m \u001b[1;32mnot\u001b[0m \u001b[0misinstance\u001b[0m\u001b[1;33m(\u001b[0m\u001b[0mlabel\u001b[0m\u001b[1;33m,\u001b[0m \u001b[0mtuple\u001b[0m\u001b[1;33m)\u001b[0m\u001b[1;33m:\u001b[0m\u001b[1;33m\u001b[0m\u001b[1;33m\u001b[0m\u001b[0m\n\u001b[0;32m   2736\u001b[0m             \u001b[0mlabel\u001b[0m \u001b[1;33m=\u001b[0m \u001b[1;33m(\u001b[0m\u001b[0mlabel\u001b[0m\u001b[1;33m,\u001b[0m\u001b[1;33m)\u001b[0m\u001b[1;33m\u001b[0m\u001b[1;33m\u001b[0m\u001b[0m\n\u001b[1;32m-> 2737\u001b[1;33m         \u001b[1;32mreturn\u001b[0m \u001b[0mself\u001b[0m\u001b[1;33m.\u001b[0m\u001b[0m_partial_tup_index\u001b[0m\u001b[1;33m(\u001b[0m\u001b[0mlabel\u001b[0m\u001b[1;33m,\u001b[0m \u001b[0mside\u001b[0m\u001b[1;33m=\u001b[0m\u001b[0mside\u001b[0m\u001b[1;33m)\u001b[0m\u001b[1;33m\u001b[0m\u001b[1;33m\u001b[0m\u001b[0m\n\u001b[0m\u001b[0;32m   2738\u001b[0m \u001b[1;33m\u001b[0m\u001b[0m\n\u001b[0;32m   2739\u001b[0m     \u001b[1;32mdef\u001b[0m \u001b[0mslice_locs\u001b[0m\u001b[1;33m(\u001b[0m\u001b[0mself\u001b[0m\u001b[1;33m,\u001b[0m \u001b[0mstart\u001b[0m\u001b[1;33m=\u001b[0m\u001b[1;32mNone\u001b[0m\u001b[1;33m,\u001b[0m \u001b[0mend\u001b[0m\u001b[1;33m=\u001b[0m\u001b[1;32mNone\u001b[0m\u001b[1;33m,\u001b[0m \u001b[0mstep\u001b[0m\u001b[1;33m=\u001b[0m\u001b[1;32mNone\u001b[0m\u001b[1;33m,\u001b[0m \u001b[0mkind\u001b[0m\u001b[1;33m=\u001b[0m\u001b[1;32mNone\u001b[0m\u001b[1;33m)\u001b[0m\u001b[1;33m:\u001b[0m\u001b[1;33m\u001b[0m\u001b[1;33m\u001b[0m\u001b[0m\n",
                        "\u001b[1;32mC:\\Users\\anaconda3\\envs\\myhpc\\lib\\site-packages\\pandas\\core\\indexes\\multi.py\u001b[0m in \u001b[0;36m_partial_tup_index\u001b[1;34m(self, tup, side)\u001b[0m\n\u001b[0;32m   2795\u001b[0m     \u001b[1;32mdef\u001b[0m \u001b[0m_partial_tup_index\u001b[0m\u001b[1;33m(\u001b[0m\u001b[0mself\u001b[0m\u001b[1;33m,\u001b[0m \u001b[0mtup\u001b[0m\u001b[1;33m:\u001b[0m \u001b[0mtuple\u001b[0m\u001b[1;33m,\u001b[0m \u001b[0mside\u001b[0m\u001b[1;33m=\u001b[0m\u001b[1;34m\"left\"\u001b[0m\u001b[1;33m)\u001b[0m\u001b[1;33m:\u001b[0m\u001b[1;33m\u001b[0m\u001b[1;33m\u001b[0m\u001b[0m\n\u001b[0;32m   2796\u001b[0m         \u001b[1;32mif\u001b[0m \u001b[0mlen\u001b[0m\u001b[1;33m(\u001b[0m\u001b[0mtup\u001b[0m\u001b[1;33m)\u001b[0m \u001b[1;33m>\u001b[0m \u001b[0mself\u001b[0m\u001b[1;33m.\u001b[0m\u001b[0m_lexsort_depth\u001b[0m\u001b[1;33m:\u001b[0m\u001b[1;33m\u001b[0m\u001b[1;33m\u001b[0m\u001b[0m\n\u001b[1;32m-> 2797\u001b[1;33m             raise UnsortedIndexError(\n\u001b[0m\u001b[0;32m   2798\u001b[0m                 \u001b[1;34mf\"Key length ({len(tup)}) was greater than MultiIndex lexsort depth \"\u001b[0m\u001b[1;33m\u001b[0m\u001b[1;33m\u001b[0m\u001b[0m\n\u001b[0;32m   2799\u001b[0m                 \u001b[1;34mf\"({self._lexsort_depth})\"\u001b[0m\u001b[1;33m\u001b[0m\u001b[1;33m\u001b[0m\u001b[0m\n",
                        "\u001b[1;31mUnsortedIndexError\u001b[0m: 'Key length (2) was greater than MultiIndex lexsort depth (1)'"
                    ]
                }
            ],
            "source": [
                "dfm.loc[(0, 'y'):(1, 'z')]"
            ]
        },
        {
            "source": [
                "The is_monotonic_increasing() method on a MultiIndex shows if the index is sorted:"
            ],
            "cell_type": "markdown",
            "metadata": {}
        },
        {
            "cell_type": "code",
            "execution_count": 183,
            "metadata": {},
            "outputs": [
                {
                    "output_type": "execute_result",
                    "data": {
                        "text/plain": [
                            "False"
                        ]
                    },
                    "metadata": {},
                    "execution_count": 183
                }
            ],
            "source": [
                "dfm.index.is_monotonic_increasing"
            ]
        },
        {
            "cell_type": "code",
            "execution_count": 184,
            "metadata": {},
            "outputs": [
                {
                    "output_type": "execute_result",
                    "data": {
                        "text/plain": [
                            "            jolie\n",
                            "jim joe          \n",
                            "0   x    0.966664\n",
                            "    x    0.919988\n",
                            "1   y    0.832429\n",
                            "    z    0.988164"
                        ],
                        "text/html": "<div>\n<style scoped>\n    .dataframe tbody tr th:only-of-type {\n        vertical-align: middle;\n    }\n\n    .dataframe tbody tr th {\n        vertical-align: top;\n    }\n\n    .dataframe thead th {\n        text-align: right;\n    }\n</style>\n<table border=\"1\" class=\"dataframe\">\n  <thead>\n    <tr style=\"text-align: right;\">\n      <th></th>\n      <th></th>\n      <th>jolie</th>\n    </tr>\n    <tr>\n      <th>jim</th>\n      <th>joe</th>\n      <th></th>\n    </tr>\n  </thead>\n  <tbody>\n    <tr>\n      <th rowspan=\"2\" valign=\"top\">0</th>\n      <th>x</th>\n      <td>0.966664</td>\n    </tr>\n    <tr>\n      <th>x</th>\n      <td>0.919988</td>\n    </tr>\n    <tr>\n      <th rowspan=\"2\" valign=\"top\">1</th>\n      <th>y</th>\n      <td>0.832429</td>\n    </tr>\n    <tr>\n      <th>z</th>\n      <td>0.988164</td>\n    </tr>\n  </tbody>\n</table>\n</div>"
                    },
                    "metadata": {},
                    "execution_count": 184
                }
            ],
            "source": [
                "dfm = dfm.sort_index()\n",
                "dfm"
            ]
        },
        {
            "cell_type": "code",
            "execution_count": 185,
            "metadata": {},
            "outputs": [
                {
                    "output_type": "execute_result",
                    "data": {
                        "text/plain": [
                            "True"
                        ]
                    },
                    "metadata": {},
                    "execution_count": 185
                }
            ],
            "source": [
                "dfm.index.is_monotonic_increasing"
            ]
        },
        {
            "source": [
                "And now selection works as expected."
            ],
            "cell_type": "markdown",
            "metadata": {}
        },
        {
            "cell_type": "code",
            "execution_count": 187,
            "metadata": {},
            "outputs": [
                {
                    "output_type": "execute_result",
                    "data": {
                        "text/plain": [
                            "            jolie\n",
                            "jim joe          \n",
                            "1   y    0.832429\n",
                            "    z    0.988164"
                        ],
                        "text/html": "<div>\n<style scoped>\n    .dataframe tbody tr th:only-of-type {\n        vertical-align: middle;\n    }\n\n    .dataframe tbody tr th {\n        vertical-align: top;\n    }\n\n    .dataframe thead th {\n        text-align: right;\n    }\n</style>\n<table border=\"1\" class=\"dataframe\">\n  <thead>\n    <tr style=\"text-align: right;\">\n      <th></th>\n      <th></th>\n      <th>jolie</th>\n    </tr>\n    <tr>\n      <th>jim</th>\n      <th>joe</th>\n      <th></th>\n    </tr>\n  </thead>\n  <tbody>\n    <tr>\n      <th rowspan=\"2\" valign=\"top\">1</th>\n      <th>y</th>\n      <td>0.832429</td>\n    </tr>\n    <tr>\n      <th>z</th>\n      <td>0.988164</td>\n    </tr>\n  </tbody>\n</table>\n</div>"
                    },
                    "metadata": {},
                    "execution_count": 187
                }
            ],
            "source": [
                "dfm.loc[(0, \"y\"):(1, \"z\")]"
            ]
        },
        {
            "cell_type": "code",
            "execution_count": null,
            "metadata": {},
            "outputs": [],
            "source": []
        }
    ],
    "metadata": {
        "orig_nbformat": 4,
        "language_info": {
            "name": "python",
            "version": "3.8.10",
            "mimetype": "text/x-python",
            "codemirror_mode": {
                "name": "ipython",
                "version": 3
            },
            "pygments_lexer": "ipython3",
            "nbconvert_exporter": "python",
            "file_extension": ".py"
        },
        "kernelspec": {
            "name": "python3",
            "display_name": "Python 3.8.10 64-bit ('myhpc': conda)"
        },
        "interpreter": {
            "hash": "9e2cdb4300706d64c3bb8ce1a3dbea36fdccde4f6e84f712979922e3f9215c9d"
        }
    },
    "nbformat": 4,
    "nbformat_minor": 2
}